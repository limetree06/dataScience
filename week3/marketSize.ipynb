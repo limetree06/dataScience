{
 "cells": [
  {
   "cell_type": "code",
   "execution_count": 1,
   "metadata": {},
   "outputs": [],
   "source": [
    "from coredotfinance.data import KrxReader\n",
    "import pandas as pd\n",
    "import numpy as np\n",
    "import requests\n",
    "import lxml\n",
    "from bs4 import BeautifulSoup\n",
    "from requests import Response\n",
    "import re\n",
    "import matplotlib.pyplot as plt\n",
    "from pykrx import stock\n",
    "from pykrx import bond\n",
    "import time\n",
    "import math\n",
    "import seaborn as sns\n",
    "import plotly.express as px"
   ]
  },
  {
   "cell_type": "code",
   "execution_count": null,
   "metadata": {},
   "outputs": [],
   "source": [
    "\n",
    "#네이버 파이낸스 크롤링 for 매출액 but 전체 시장으로만 판단할수 있고 KOSPI, KOSDAQ 구분 X\n",
    "headers = {'user-agent': 'Mozilla/5.0 (Macintosh; Intel Mac OS X 10_15_7) AppleWebKit/537.36 (KHTML, like Gecko) Chrome/103.0.0.0 Safari/537.36'}\n",
    "\n",
    "finance_url = \"https://finance.naver.com/sise/sise_group.naver?type=upjong\"\n",
    "res = requests.get(finance_url, headers=headers)\n",
    "page_soup = BeautifulSoup(res.text, \"lxml\")\n",
    "summary_html = page_soup.select('td a')\n",
    "\n",
    "upjong_list = pd.DataFrame(re.findall('no=(.+?)\">(.+?)</a>',str(summary_html)))\n",
    "upjong_list = upjong_list.rename(columns={0:\"no\",1:\"upjong\"}).sort_values(by=['upjong']).reset_index(drop=True)\n",
    "upjong_list.no = upjong_list.no.str.zfill(3)\n",
    "\n",
    "request_upjong_url = \"https://finance.naver.com/sise/field_submit.naver?menu=upjong&returnUrl=http%3A%2F%2Ffinance.naver.com%2Fsise%2Fsise_group_detail.naver%3Ftype%3Dupjong%26no%3D\"\n",
    "request_url1 = \"&fieldIds=market_sum&fieldIds=property_total&fieldIds=debt_total&fieldIds=sales\"\n",
    "request_url2 = \"&fieldIds=operating_profit&fieldIds=net_income&fieldIds=eps&fieldIds=dividend\"\n",
    "\n",
    "upjong = pd.DataFrame()\n",
    "for i in (upjong_list['no'].to_list()):\n",
    "    temp = pd.DataFrame()\n",
    "    for j in ([request_url1,request_url2]):\n",
    "        res = requests.get(request_upjong_url+i+j, headers=headers)\n",
    "        page_soup = BeautifulSoup(res.text, \"lxml\")\n",
    "        upjong_data_html = page_soup.select_one('#contentarea > div:nth-child(5)')\n",
    "        col = [item.get_text().strip() for item in upjong_data_html.select('thead th')]\n",
    "        col = [x for x in col if x not in ['종목명','토론실']]\n",
    "        row = [item.get_text().strip() for item in upjong_data_html.select('tbody a')]\n",
    "        row = list(filter(None,row))\n",
    "        num = np.array([item.get_text().strip() for item in upjong_data_html.select('td.number')])\n",
    "        num.resize(len(row),len(col))\n",
    "        df = pd.DataFrame(num, columns=col,index=row).drop(columns=['현재가','전일비','등락률'])\n",
    "        df['Sector'] = upjong_list[upjong_list.no==i].upjong.iat[0]\n",
    "        temp = pd.concat([temp,df], axis = 1)\n",
    "\n",
    "    upjong = pd.concat([upjong,temp], axis = 0)\n",
    "    \n",
    "with pd.ExcelWriter('upjong.xlsx', engine='openpyxl') as writer:\n",
    "    upjong.to_excel(writer)"
   ]
  },
  {
   "cell_type": "code",
   "execution_count": null,
   "metadata": {},
   "outputs": [],
   "source": [
    "#\n",
    "krx = KrxReader()\n",
    "company_df = krx.listed_company()\n",
    "dataframe = krx.read_date('2009-07-01', kor=True)"
   ]
  },
  {
   "cell_type": "code",
   "execution_count": null,
   "metadata": {},
   "outputs": [],
   "source": [
    "def draw_bar(x, y, title=\" \"):\n",
    "    plt.rcParams['font.family'] = 'AppleGothic'\n",
    "    plt.rcParams['text.color'] = 'white'\n",
    "    plt.rcParams[\"figure.figsize\"] = (25,6)\n",
    "    \n",
    "    plt.bar(groupby_mean.index.to_list(), groupby_mean['시가총액'].to_list())\n",
    "    plt.title(title)\n",
    "    plt.xticks(color='w')\n",
    "    plt.yticks(color='w')\n",
    "    plt.show()\n",
    "    \n",
    "market = \"KOSPI\"\n",
    "listed_company_df = pd.merge(company_df, dataframe, on='종목코드', how='inner')\n",
    "filtered_companies = listed_company_df[['종목명_x', '시장구분_x', '업종명', '상장주식수_x','업종코드', '시가총액']]\n",
    "\n",
    "#KOSPI 시가총액 분포\n",
    "companies = filtered_companies[filtered_companies['시장구분_x']==market].sort_values(by=['시가총액'])\n",
    "df =  companies['시가총액']\n",
    "fig = px.histogram(df, x=\"시가총액\")\n",
    "fig.show()"
   ]
  },
  {
   "cell_type": "code",
   "execution_count": null,
   "metadata": {},
   "outputs": [],
   "source": [
    "#KOSPI or KOSDAQ시가총액 합과 평균\n",
    "companies = companies.loc[companies['시가총액'] < 10**12] #상위 시가총액을 가진 기업 필터링\n",
    "groupby_sum = companies.groupby('업종명')['시가총액'].agg(시가총액='sum', MyCount='count').sort_values(by=['시가총액'])\n",
    "groupby_mean = companies.groupby('업종명').mean().sort_values(by=['시가총액'])\n",
    "\n",
    "groupby_sum = groupby_sum[-10:]\n",
    "groupby_mean = groupby_mean[-10:]\n",
    "\n",
    "draw_bar(groupby_sum.index.to_list(), groupby_sum['시가총액'].to_list(), title='10조이상 기업들의 업종별 시가총액 합')\n",
    "draw_bar(groupby_mean.index.to_list(), groupby_mean['시가총액'].to_list(), title='10조이상 기업들의 업종별 시가총액 평균')\n",
    "\n",
    "#plt.hist(groupby_sum['매출액'].to_list())"
   ]
  },
  {
   "cell_type": "code",
   "execution_count": null,
   "metadata": {},
   "outputs": [],
   "source": [
    "#코스피 or 코스닥 매출액 합과 평균\n",
    "upjong = pd.read_excel('upjong_merged.xlsx', engine='openpyxl')\n",
    "\n",
    "market = \"KOSPI\" # or \"KOSDAQ\"\n",
    "filtered_companies = upjong[['종목명', '시장구분', '영업이익', '시가총액', 'Sector','매출액']]\n",
    "companies = filtered_companies[filtered_companies['시장구분'] == market]\n",
    "\n",
    "companies = companies.apply(lambda x: x.str.replace(',', ''))\n",
    "companies['영업이익'] = pd.to_numeric(companies['영업이익'])\n",
    "companies['매출액'] = pd.to_numeric(companies['매출액'])\n",
    "\n",
    "companies = companies.dropna()\n",
    "companies = companies.sort_values(by=['매출액'])\n",
    "#companies = companies.loc[companies['매출액'] < 10**6] \n",
    "\n",
    "groupby_sum = companies.groupby('Sector')['매출액'].agg(매출액='sum').sort_values(by=['매출액'])#,  MyCount='count'\n",
    "groupby_mean = companies.groupby('Sector')['매출액'].agg(매출액='mean').sort_values(by=['매출액'])#,  MyCount='count'\n",
    "\n",
    "groupby_sum = groupby_sum[-10:]\n",
    "groupby_mean = groupby_mean[-10:]\n",
    "\n",
    "draw_bar(groupby_sum.index.to_list(), groupby_sum['매출액'].to_list(), title='10조이상 기업들의 업종별 매출액 합')\n",
    "draw_bar(groupby_mean.index.to_list(), groupby_mean['매출액'].to_list(), title='10조이상 기업들의 업종별 매출액 평균')\n"
   ]
  },
  {
   "cell_type": "code",
   "execution_count": null,
   "metadata": {},
   "outputs": [],
   "source": []
  }
 ],
 "metadata": {
  "kernelspec": {
   "display_name": "Python 3.9.10 64-bit",
   "language": "python",
   "name": "python3"
  },
  "language_info": {
   "codemirror_mode": {
    "name": "ipython",
    "version": 3
   },
   "file_extension": ".py",
   "mimetype": "text/x-python",
   "name": "python",
   "nbconvert_exporter": "python",
   "pygments_lexer": "ipython3",
   "version": "3.9.10"
  },
  "orig_nbformat": 4,
  "vscode": {
   "interpreter": {
    "hash": "aee8b7b246df8f9039afb4144a1f6fd8d2ca17a180786b69acc140d282b71a49"
   }
  }
 },
 "nbformat": 4,
 "nbformat_minor": 2
}

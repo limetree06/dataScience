{
 "cells": [
  {
   "cell_type": "code",
   "execution_count": 67,
   "metadata": {},
   "outputs": [],
   "source": [
    "from coredotfinance.data import KrxReader\n",
    "import pandas as pd\n",
    "krx = KrxReader()\n",
    "company_df = krx.listed_company()\n",
    "dataframe = krx.read_date('2022-07-01', kor=True)"
   ]
  },
  {
   "cell_type": "code",
   "execution_count": 72,
   "metadata": {},
   "outputs": [
    {
     "name": "stdout",
     "output_type": "stream",
     "text": [
      "       종목명_x  시장구분_x                      업종명    상장주식수_x     액면가  \\\n",
      "0         3S  KOSDAQ                 전자부품 제조업   46271513   500.0   \n",
      "1     AJ네트웍스   KOSPI          산업용 기계 및 장비 임대업   46822295  1000.0   \n",
      "2      AK홀딩스   KOSPI                   기타 금융업   13247561  5000.0   \n",
      "3     APS홀딩스  KOSDAQ                   기타 금융업   20394221   500.0   \n",
      "4      AP시스템  KOSDAQ            특수 목적용 기계 제조업   15281421   500.0   \n",
      "...      ...     ...                      ...        ...     ...   \n",
      "2501  흥국에프엔비  KOSDAQ          비알코올음료 및 얼음 제조업   39997771   100.0   \n",
      "2502    흥국화재   KOSPI                      보험업   64242645  5000.0   \n",
      "2503    흥아해운   KOSPI                   해상 운송업  240424899   500.0   \n",
      "2504      희림  KOSDAQ  건축기술 엔지니어링 및 관련 기술 서비스업   13922475   500.0   \n",
      "2505      힘스  KOSDAQ            특수 목적용 기계 제조업   11312236   500.0   \n",
      "\n",
      "               자본금    업종코드          시가총액  \n",
      "0      23135756500  032602  135112817960  \n",
      "1      46822295000  147603  302003802750  \n",
      "2      66237805000  116409  210636219900  \n",
      "3      10197110500  116409  168456265460  \n",
      "4       7640710500  032902  248323091250  \n",
      "...            ...     ...           ...  \n",
      "2501    3999777100  031102  111793769945  \n",
      "2502  325821225000  116501  207182530125  \n",
      "2503  120212449500  085001  482051922495  \n",
      "2504    6961237500  137201  122239330500  \n",
      "2505    5656118000  032902   70362107920  \n",
      "\n",
      "[2506 rows x 8 columns]\n"
     ]
    }
   ],
   "source": [
    "listed_company_df = pd.merge(company_df, dataframe, on='종목코드', how='inner')\n",
    "filtered_column = listed_company_df[['종목명_x', '시장구분_x', '업종명', '상장주식수_x', '액면가', '자본금','업종코드', '시가총액']]\n",
    "print(filtered_column)"
   ]
  },
  {
   "cell_type": "code",
   "execution_count": null,
   "metadata": {},
   "outputs": [],
   "source": []
  },
  {
   "cell_type": "code",
   "execution_count": null,
   "metadata": {},
   "outputs": [],
   "source": []
  },
  {
   "cell_type": "code",
   "execution_count": null,
   "metadata": {},
   "outputs": [],
   "source": [
    "    "
   ]
  }
 ],
 "metadata": {
  "kernelspec": {
   "display_name": "Python 3.9.10 64-bit",
   "language": "python",
   "name": "python3"
  },
  "language_info": {
   "codemirror_mode": {
    "name": "ipython",
    "version": 3
   },
   "file_extension": ".py",
   "mimetype": "text/x-python",
   "name": "python",
   "nbconvert_exporter": "python",
   "pygments_lexer": "ipython3",
   "version": "3.9.10"
  },
  "orig_nbformat": 4,
  "vscode": {
   "interpreter": {
    "hash": "aee8b7b246df8f9039afb4144a1f6fd8d2ca17a180786b69acc140d282b71a49"
   }
  }
 },
 "nbformat": 4,
 "nbformat_minor": 2
}

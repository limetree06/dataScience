{
 "cells": [
  {
   "cell_type": "code",
   "execution_count": 67,
   "metadata": {},
   "outputs": [],
   "source": [
    "from coredotfinance.data import KrxReader\n",
    "import pandas as pd\n",
    "krx = KrxReader()\n",
    "company_df = krx.listed_company()\n",
    "dataframe = krx.read_date('2022-07-01', kor=True)"
   ]
  },
  {
   "cell_type": "code",
   "execution_count": 89,
   "metadata": {},
   "outputs": [],
   "source": [
    "listed_company_df = pd.merge(company_df, dataframe, on='종목코드', how='inner')\n",
    "filtered_companies = listed_company_df[['종목명_x', '시장구분_x', '업종명', '상장주식수_x','업종코드', '시가총액']]\n",
    "\n",
    "KOSPI_companies = filtered_companies[filtered_companies['시장구분_x']==\"KOSPI\"]\n",
    "KOSDAQ_companies = filtered_companies[filtered_companies['시장구분_x']==\"KOSDAQ\"]"
   ]
  },
  {
   "cell_type": "code",
   "execution_count": 99,
   "metadata": {},
   "outputs": [
    {
     "name": "stdout",
     "output_type": "stream",
     "text": [
      "                          상장주식수_x             시가총액\n",
      "업종명                                               \n",
      "편조원단 제조업                  1200000      23520000000\n",
      "전구 및 조명장치 제조업            24346190      31771777950\n",
      "건물설비 설치 공사업               7622000      44055160000\n",
      "자동차 부품 및 내장품 판매업         14934008      44876694040\n",
      "스포츠 서비스업                 27549644      47523135900\n",
      "...                           ...              ...\n",
      "자동차용 엔진 및 자동차 제조업       782039996   70557209351040\n",
      "기초 의약물질 및 생물학적 제제 제조업   372591707   89039637246400\n",
      "일차전지 및 축전지 제조업          398056127  126155374035400\n",
      "기타 금융업                 5681606507  142699154173579\n",
      "통신 및 방송 장비 제조업         6296584875  350552202573216\n",
      "\n",
      "[129 rows x 2 columns]\n"
     ]
    }
   ],
   "source": [
    "#KOSPI\n",
    "grounpby = KOSPI_companies.groupby('업종명').sum().sort_values(by=['시가총액'])\n",
    "print(grounpby)"
   ]
  },
  {
   "cell_type": "code",
   "execution_count": null,
   "metadata": {},
   "outputs": [],
   "source": []
  },
  {
   "cell_type": "code",
   "execution_count": null,
   "metadata": {},
   "outputs": [],
   "source": []
  },
  {
   "cell_type": "code",
   "execution_count": null,
   "metadata": {},
   "outputs": [],
   "source": [
    "    "
   ]
  }
 ],
 "metadata": {
  "kernelspec": {
   "display_name": "Python 3.9.10 64-bit",
   "language": "python",
   "name": "python3"
  },
  "language_info": {
   "codemirror_mode": {
    "name": "ipython",
    "version": 3
   },
   "file_extension": ".py",
   "mimetype": "text/x-python",
   "name": "python",
   "nbconvert_exporter": "python",
   "pygments_lexer": "ipython3",
   "version": "3.9.10"
  },
  "orig_nbformat": 4,
  "vscode": {
   "interpreter": {
    "hash": "aee8b7b246df8f9039afb4144a1f6fd8d2ca17a180786b69acc140d282b71a49"
   }
  }
 },
 "nbformat": 4,
 "nbformat_minor": 2
}

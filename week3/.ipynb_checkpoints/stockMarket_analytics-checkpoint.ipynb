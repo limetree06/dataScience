{
 "cells": [
  {
   "cell_type": "code",
   "execution_count": 1,
   "metadata": {},
   "outputs": [],
   "source": [
    "from coredotfinance.data import KrxReader\n",
    "import pandas as pd\n",
    "krx = KrxReader()\n",
    "company_df = krx.listed_company()\n",
    "dataframe = krx.read_date('2022-07-01', kor=True)"
   ]
  },
  {
   "cell_type": "code",
   "execution_count": 2,
   "metadata": {},
   "outputs": [
    {
     "name": "stdout",
     "output_type": "stream",
     "text": [
      "         종목명_x 시장구분_x                             업종명     상장주식수_x    업종코드  \\\n",
      "879      비케이탑스  KOSPI          컴퓨터 프로그래밍 시스템 통합 및 관리업    21248145  106201   \n",
      "1778      일정실업  KOSPI                        편조원단 제조업     1200000  031303   \n",
      "2280      하이트론  KOSPI                   영상 및 음향기기 제조업     9611224  032605   \n",
      "428    다이나믹디자인  KOSPI                   특수 목적용 기계 제조업     5276308  032902   \n",
      "1361      에이리츠  KOSPI                    부동산 임대 및 공급업     4463032  126801   \n",
      "...        ...    ...                             ...         ...     ...   \n",
      "151      NAVER  KOSPI  자료처리 호스팅 포털 및 기타 인터넷 정보매개 서비스업   164049085  106301   \n",
      "910   삼성바이오로직스  KOSPI           기초 의약물질 및 생물학적 제제 제조업    71174000  032101   \n",
      "212     SK하이닉스  KOSPI                         반도체 제조업   728002365  032601   \n",
      "135   LG에너지솔루션  KOSPI                  일차전지 및 축전지 제조업   234000000  032802   \n",
      "917       삼성전자  KOSPI                  통신 및 방송 장비 제조업  5969782550  032604   \n",
      "\n",
      "                 시가총액  \n",
      "879       19208323080  \n",
      "1778      23520000000  \n",
      "2280      23739723280  \n",
      "428       25273515320  \n",
      "1361      25350021760  \n",
      "...               ...  \n",
      "151    38879633145000  \n",
      "910    55586894000000  \n",
      "212    63700206937500  \n",
      "135    83421000000000  \n",
      "917   335501779310000  \n",
      "\n",
      "[821 rows x 6 columns]\n",
      "           종목명_x  시장구분_x             업종명    상장주식수_x    업종코드            시가총액\n",
      "2322     한국코퍼레이션  KOSDAQ    기타 사업지원 서비스업    5118559  147509      4207455498\n",
      "83    IBKS제17호스팩  KOSDAQ      금융 지원 서비스업    2720000  116601      6188000000\n",
      "1971   케이프이에스제4호  KOSDAQ          기타 금융업    3009000  116409      6364035000\n",
      "1654      유진스팩6호  KOSDAQ      금융 지원 서비스업    3020000  116601      6749700000\n",
      "2256   하나금융20호스팩  KOSDAQ      금융 지원 서비스업    3050000  116601      6877750000\n",
      "...          ...     ...             ...        ...     ...             ...\n",
      "2177        펄어비스  KOSDAQ  소프트웨어 개발 및 공급업   64235855  105802   3163615858750\n",
      "71           HLB  KOSDAQ     선박 및 보트 건조업  106882745  033101   3735551937750\n",
      "1931      카카오게임즈  KOSDAQ  소프트웨어 개발 및 공급업   78696440  105802   3804972874000\n",
      "1449        엘앤에프  KOSDAQ  일차전지 및 축전지 제조업   35929616  032802   7132028776000\n",
      "1064    셀트리온헬스케어  KOSDAQ       기타 전문 도매업  158154885  074607  10991764507500\n",
      "\n",
      "[1562 rows x 6 columns]\n"
     ]
    }
   ],
   "source": [
    "listed_company_df = pd.merge(company_df, dataframe, on='종목코드', how='inner')\n",
    "filtered_companies = listed_company_df[['종목명_x', '시장구분_x', '업종명', '상장주식수_x','업종코드', '시가총액']]\n",
    "\n",
    "KOSPI_companies = filtered_companies[filtered_companies['시장구분_x']==\"KOSPI\"].sort_values(by=['시가총액'])\n",
    "KOSDAQ_companies = filtered_companies[filtered_companies['시장구분_x']==\"KOSDAQ\"].sort_values(by=['시가총액'])\n",
    "\n",
    "print(KOSPI_companies)\n",
    "print(KOSDAQ_companies)\n"
   ]
  },
  {
   "cell_type": "code",
   "execution_count": 3,
   "metadata": {},
   "outputs": [],
   "source": [
    "#KOSPI\n",
    "KOSPI_groupby = KOSPI_companies.groupby('업종명').sum().sort_values(by=['시가총액'])\n",
    "KOSDAQ_groupby = KOSDAQ_companies.groupby('업종명').sum().sort_values(by=['시가총액'])\n",
    "KOSDAQ_groupby.to_excel('KOSDAQ_groupby.xlsx')  \n",
    "KOSPI_groupby.to_excel('KOSPI_groupby.xlsx')   "
   ]
  },
  {
   "cell_type": "code",
   "execution_count": 33,
   "metadata": {},
   "outputs": [
    {
     "data": {
      "text/plain": [
       "('삼성전자', 'KR7005930003', '005930')"
      ]
     },
     "execution_count": 33,
     "metadata": {},
     "output_type": "execute_result"
    }
   ],
   "source": [
    "krx.search('삼성전자')"
   ]
  },
  {
   "cell_type": "code",
   "execution_count": 31,
   "metadata": {},
   "outputs": [
    {
     "data": {
      "text/plain": [
       "<AxesSubplot:xlabel='업종명'>"
      ]
     },
     "execution_count": 31,
     "metadata": {},
     "output_type": "execute_result"
    },
    {
     "name": "stderr",
     "output_type": "stream",
     "text": [
      "/Users/Welcome/Library/Python/3.9/lib/python/site-packages/IPython/core/pylabtools.py:151: UserWarning: Glyph 54200 (\\N{HANGUL SYLLABLE PYEON}) missing from current font.\n",
      "  fig.canvas.print_figure(bytes_io, **kw)\n",
      "/Users/Welcome/Library/Python/3.9/lib/python/site-packages/IPython/core/pylabtools.py:151: UserWarning: Glyph 51312 (\\N{HANGUL SYLLABLE JO}) missing from current font.\n",
      "  fig.canvas.print_figure(bytes_io, **kw)\n",
      "/Users/Welcome/Library/Python/3.9/lib/python/site-packages/IPython/core/pylabtools.py:151: UserWarning: Glyph 51032 (\\N{HANGUL SYLLABLE YI}) missing from current font.\n",
      "  fig.canvas.print_figure(bytes_io, **kw)\n",
      "/Users/Welcome/Library/Python/3.9/lib/python/site-packages/IPython/core/pylabtools.py:151: UserWarning: Glyph 48373 (\\N{HANGUL SYLLABLE BOG}) missing from current font.\n",
      "  fig.canvas.print_figure(bytes_io, **kw)\n",
      "/Users/Welcome/Library/Python/3.9/lib/python/site-packages/IPython/core/pylabtools.py:151: UserWarning: Glyph 51228 (\\N{HANGUL SYLLABLE JE}) missing from current font.\n",
      "  fig.canvas.print_figure(bytes_io, **kw)\n",
      "/Users/Welcome/Library/Python/3.9/lib/python/site-packages/IPython/core/pylabtools.py:151: UserWarning: Glyph 50629 (\\N{HANGUL SYLLABLE EOB}) missing from current font.\n",
      "  fig.canvas.print_figure(bytes_io, **kw)\n",
      "/Users/Welcome/Library/Python/3.9/lib/python/site-packages/IPython/core/pylabtools.py:151: UserWarning: Glyph 51649 (\\N{HANGUL SYLLABLE JIG}) missing from current font.\n",
      "  fig.canvas.print_figure(bytes_io, **kw)\n",
      "/Users/Welcome/Library/Python/3.9/lib/python/site-packages/IPython/core/pylabtools.py:151: UserWarning: Glyph 47932 (\\N{HANGUL SYLLABLE MUL}) missing from current font.\n",
      "  fig.canvas.print_figure(bytes_io, **kw)\n",
      "/Users/Welcome/Library/Python/3.9/lib/python/site-packages/IPython/core/pylabtools.py:151: UserWarning: Glyph 48143 (\\N{HANGUL SYLLABLE MIC}) missing from current font.\n",
      "  fig.canvas.print_figure(bytes_io, **kw)\n",
      "/Users/Welcome/Library/Python/3.9/lib/python/site-packages/IPython/core/pylabtools.py:151: UserWarning: Glyph 54408 (\\N{HANGUL SYLLABLE PUM}) missing from current font.\n",
      "  fig.canvas.print_figure(bytes_io, **kw)\n",
      "/Users/Welcome/Library/Python/3.9/lib/python/site-packages/IPython/core/pylabtools.py:151: UserWarning: Glyph 51333 (\\N{HANGUL SYLLABLE JONG}) missing from current font.\n",
      "  fig.canvas.print_figure(bytes_io, **kw)\n",
      "/Users/Welcome/Library/Python/3.9/lib/python/site-packages/IPython/core/pylabtools.py:151: UserWarning: Glyph 54633 (\\N{HANGUL SYLLABLE HAB}) missing from current font.\n",
      "  fig.canvas.print_figure(bytes_io, **kw)\n",
      "/Users/Welcome/Library/Python/3.9/lib/python/site-packages/IPython/core/pylabtools.py:151: UserWarning: Glyph 49548 (\\N{HANGUL SYLLABLE SO}) missing from current font.\n",
      "  fig.canvas.print_figure(bytes_io, **kw)\n",
      "/Users/Welcome/Library/Python/3.9/lib/python/site-packages/IPython/core/pylabtools.py:151: UserWarning: Glyph 47588 (\\N{HANGUL SYLLABLE MAE}) missing from current font.\n",
      "  fig.canvas.print_figure(bytes_io, **kw)\n",
      "/Users/Welcome/Library/Python/3.9/lib/python/site-packages/IPython/core/pylabtools.py:151: UserWarning: Glyph 54924 (\\N{HANGUL SYLLABLE HOE}) missing from current font.\n",
      "  fig.canvas.print_figure(bytes_io, **kw)\n",
      "/Users/Welcome/Library/Python/3.9/lib/python/site-packages/IPython/core/pylabtools.py:151: UserWarning: Glyph 49324 (\\N{HANGUL SYLLABLE SA}) missing from current font.\n",
      "  fig.canvas.print_figure(bytes_io, **kw)\n",
      "/Users/Welcome/Library/Python/3.9/lib/python/site-packages/IPython/core/pylabtools.py:151: UserWarning: Glyph 48376 (\\N{HANGUL SYLLABLE BON}) missing from current font.\n",
      "  fig.canvas.print_figure(bytes_io, **kw)\n",
      "/Users/Welcome/Library/Python/3.9/lib/python/site-packages/IPython/core/pylabtools.py:151: UserWarning: Glyph 48512 (\\N{HANGUL SYLLABLE BU}) missing from current font.\n",
      "  fig.canvas.print_figure(bytes_io, **kw)\n",
      "/Users/Welcome/Library/Python/3.9/lib/python/site-packages/IPython/core/pylabtools.py:151: UserWarning: Glyph 44221 (\\N{HANGUL SYLLABLE GYEONG}) missing from current font.\n",
      "  fig.canvas.print_figure(bytes_io, **kw)\n",
      "/Users/Welcome/Library/Python/3.9/lib/python/site-packages/IPython/core/pylabtools.py:151: UserWarning: Glyph 50689 (\\N{HANGUL SYLLABLE YEONG}) missing from current font.\n",
      "  fig.canvas.print_figure(bytes_io, **kw)\n",
      "/Users/Welcome/Library/Python/3.9/lib/python/site-packages/IPython/core/pylabtools.py:151: UserWarning: Glyph 52968 (\\N{HANGUL SYLLABLE KEON}) missing from current font.\n",
      "  fig.canvas.print_figure(bytes_io, **kw)\n",
      "/Users/Welcome/Library/Python/3.9/lib/python/site-packages/IPython/core/pylabtools.py:151: UserWarning: Glyph 49444 (\\N{HANGUL SYLLABLE SEOL}) missing from current font.\n",
      "  fig.canvas.print_figure(bytes_io, **kw)\n",
      "/Users/Welcome/Library/Python/3.9/lib/python/site-packages/IPython/core/pylabtools.py:151: UserWarning: Glyph 54021 (\\N{HANGUL SYLLABLE TING}) missing from current font.\n",
      "  fig.canvas.print_figure(bytes_io, **kw)\n",
      "/Users/Welcome/Library/Python/3.9/lib/python/site-packages/IPython/core/pylabtools.py:151: UserWarning: Glyph 49436 (\\N{HANGUL SYLLABLE SEO}) missing from current font.\n",
      "  fig.canvas.print_figure(bytes_io, **kw)\n",
      "/Users/Welcome/Library/Python/3.9/lib/python/site-packages/IPython/core/pylabtools.py:151: UserWarning: Glyph 48708 (\\N{HANGUL SYLLABLE BI}) missing from current font.\n",
      "  fig.canvas.print_figure(bytes_io, **kw)\n",
      "/Users/Welcome/Library/Python/3.9/lib/python/site-packages/IPython/core/pylabtools.py:151: UserWarning: Glyph 49828 (\\N{HANGUL SYLLABLE SEU}) missing from current font.\n",
      "  fig.canvas.print_figure(bytes_io, **kw)\n",
      "/Users/Welcome/Library/Python/3.9/lib/python/site-packages/IPython/core/pylabtools.py:151: UserWarning: Glyph 49888 (\\N{HANGUL SYLLABLE SIN}) missing from current font.\n",
      "  fig.canvas.print_figure(bytes_io, **kw)\n",
      "/Users/Welcome/Library/Python/3.9/lib/python/site-packages/IPython/core/pylabtools.py:151: UserWarning: Glyph 53441 (\\N{HANGUL SYLLABLE TAG}) missing from current font.\n",
      "  fig.canvas.print_figure(bytes_io, **kw)\n",
      "/Users/Welcome/Library/Python/3.9/lib/python/site-packages/IPython/core/pylabtools.py:151: UserWarning: Glyph 51665 (\\N{HANGUL SYLLABLE JIB}) missing from current font.\n",
      "  fig.canvas.print_figure(bytes_io, **kw)\n",
      "/Users/Welcome/Library/Python/3.9/lib/python/site-packages/IPython/core/pylabtools.py:151: UserWarning: Glyph 53804 (\\N{HANGUL SYLLABLE TU}) missing from current font.\n",
      "  fig.canvas.print_figure(bytes_io, **kw)\n",
      "/Users/Welcome/Library/Python/3.9/lib/python/site-packages/IPython/core/pylabtools.py:151: UserWarning: Glyph 51088 (\\N{HANGUL SYLLABLE JA}) missing from current font.\n",
      "  fig.canvas.print_figure(bytes_io, **kw)\n",
      "/Users/Welcome/Library/Python/3.9/lib/python/site-packages/IPython/core/pylabtools.py:151: UserWarning: Glyph 44592 (\\N{HANGUL SYLLABLE GI}) missing from current font.\n",
      "  fig.canvas.print_figure(bytes_io, **kw)\n",
      "/Users/Welcome/Library/Python/3.9/lib/python/site-packages/IPython/core/pylabtools.py:151: UserWarning: Glyph 53440 (\\N{HANGUL SYLLABLE TA}) missing from current font.\n",
      "  fig.canvas.print_figure(bytes_io, **kw)\n",
      "/Users/Welcome/Library/Python/3.9/lib/python/site-packages/IPython/core/pylabtools.py:151: UserWarning: Glyph 49885 (\\N{HANGUL SYLLABLE SIG}) missing from current font.\n",
      "  fig.canvas.print_figure(bytes_io, **kw)\n",
      "/Users/Welcome/Library/Python/3.9/lib/python/site-packages/IPython/core/pylabtools.py:151: UserWarning: Glyph 52488 (\\N{HANGUL SYLLABLE CO}) missing from current font.\n",
      "  fig.canvas.print_figure(bytes_io, **kw)\n",
      "/Users/Welcome/Library/Python/3.9/lib/python/site-packages/IPython/core/pylabtools.py:151: UserWarning: Glyph 54868 (\\N{HANGUL SYLLABLE HWA}) missing from current font.\n",
      "  fig.canvas.print_figure(bytes_io, **kw)\n",
      "/Users/Welcome/Library/Python/3.9/lib/python/site-packages/IPython/core/pylabtools.py:151: UserWarning: Glyph 54617 (\\N{HANGUL SYLLABLE HAG}) missing from current font.\n",
      "  fig.canvas.print_figure(bytes_io, **kw)\n",
      "/Users/Welcome/Library/Python/3.9/lib/python/site-packages/IPython/core/pylabtools.py:151: UserWarning: Glyph 51656 (\\N{HANGUL SYLLABLE JIL}) missing from current font.\n",
      "  fig.canvas.print_figure(bytes_io, **kw)\n",
      "/Users/Welcome/Library/Python/3.9/lib/python/site-packages/IPython/core/pylabtools.py:151: UserWarning: Glyph 47749 (\\N{HANGUL SYLLABLE MYEONG}) missing from current font.\n",
      "  fig.canvas.print_figure(bytes_io, **kw)\n",
      "/Users/Welcome/Library/Python/3.9/lib/python/site-packages/IPython/core/pylabtools.py:151: UserWarning: Glyph 49345 (\\N{HANGUL SYLLABLE SANG}) missing from current font.\n",
      "  fig.canvas.print_figure(bytes_io, **kw)\n",
      "/Users/Welcome/Library/Python/3.9/lib/python/site-packages/IPython/core/pylabtools.py:151: UserWarning: Glyph 51109 (\\N{HANGUL SYLLABLE JANG}) missing from current font.\n",
      "  fig.canvas.print_figure(bytes_io, **kw)\n",
      "/Users/Welcome/Library/Python/3.9/lib/python/site-packages/IPython/core/pylabtools.py:151: UserWarning: Glyph 51452 (\\N{HANGUL SYLLABLE JU}) missing from current font.\n",
      "  fig.canvas.print_figure(bytes_io, **kw)\n",
      "/Users/Welcome/Library/Python/3.9/lib/python/site-packages/IPython/core/pylabtools.py:151: UserWarning: Glyph 49688 (\\N{HANGUL SYLLABLE SU}) missing from current font.\n",
      "  fig.canvas.print_figure(bytes_io, **kw)\n",
      "/Users/Welcome/Library/Python/3.9/lib/python/site-packages/IPython/core/pylabtools.py:151: UserWarning: Glyph 49884 (\\N{HANGUL SYLLABLE SI}) missing from current font.\n",
      "  fig.canvas.print_figure(bytes_io, **kw)\n",
      "/Users/Welcome/Library/Python/3.9/lib/python/site-packages/IPython/core/pylabtools.py:151: UserWarning: Glyph 44032 (\\N{HANGUL SYLLABLE GA}) missing from current font.\n",
      "  fig.canvas.print_figure(bytes_io, **kw)\n",
      "/Users/Welcome/Library/Python/3.9/lib/python/site-packages/IPython/core/pylabtools.py:151: UserWarning: Glyph 52509 (\\N{HANGUL SYLLABLE CONG}) missing from current font.\n",
      "  fig.canvas.print_figure(bytes_io, **kw)\n",
      "/Users/Welcome/Library/Python/3.9/lib/python/site-packages/IPython/core/pylabtools.py:151: UserWarning: Glyph 50529 (\\N{HANGUL SYLLABLE AEG}) missing from current font.\n",
      "  fig.canvas.print_figure(bytes_io, **kw)\n"
     ]
    },
    {
     "data": {
      "image/png": "[encoded data removed]",
      "text/plain": [
       "<Figure size 432x288 with 1 Axes>"
      ]
     },
     "metadata": {
      "needs_background": "light"
     },
     "output_type": "display_data"
    }
   ],
   "source": [
    "from matplotlib import pyplot as plt\n",
    "import numpy as np\n",
    "KOSDAQ_groupby.plot()"
   ]
  }
 ],
 "metadata": {
  "kernelspec": {
   "display_name": "Python 3 (ipykernel)",
   "language": "python",
   "name": "python3"
  },
  "language_info": {
   "codemirror_mode": {
    "name": "ipython",
    "version": 3
   },
   "file_extension": ".py",
   "mimetype": "text/x-python",
   "name": "python",
   "nbconvert_exporter": "python",
   "pygments_lexer": "ipython3",
   "version": "3.9.10"
  },
  "vscode": {
   "interpreter": {
    "hash": "aee8b7b246df8f9039afb4144a1f6fd8d2ca17a180786b69acc140d282b71a49"
   }
  }
 },
 "nbformat": 4,
 "nbformat_minor": 2
}

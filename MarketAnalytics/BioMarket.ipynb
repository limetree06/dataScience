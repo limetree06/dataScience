{
 "cells": [
  {
   "cell_type": "code",
   "execution_count": 47,
   "metadata": {},
   "outputs": [],
   "source": [
    "import pandas as pd\n",
    "from pandas import json_normalize\n",
    "import requests\n",
    "import xml.etree.ElementTree as et\n",
    "from io import BytesIO\n",
    "from zipfile import ZipFile\n",
    "import json"
   ]
  },
  {
   "cell_type": "code",
   "execution_count": 28,
   "metadata": {},
   "outputs": [
    {
     "data": {
      "text/plain": [
       "'00126380'"
      ]
     },
     "execution_count": 28,
     "metadata": {},
     "output_type": "execute_result"
    }
   ],
   "source": [
    "dart_secret_key = \"1a03a90fc76216f71c7d7cd9e05753746603ac9a\"\n",
    "corpcode_api = 'https://opendart.fss.or.kr/api/corpCode.xml'\n",
    "res = requests.get(api, params={'crtfc_key': dart_secret_key})\n",
    "zipfile_obj = zipfile.ZipFile(BytesIO(res.content))\n",
    "\n",
    "# 압축을 풀어서 XML File을 string으로 담기\n",
    "xmlfile_objs = {name: zipfile_obj.read(name) for name in zipfile_obj.namelist()}\n",
    "xml_str = xmlfile_objs['CORPCODE.xml'].decode('utf-8')\n",
    "\n",
    "# XML String을 가져와서 DataFrame에 담기\n",
    "xroot = et.fromstring(xml_str)\n",
    "\n",
    "df_cols = [\"corp_code\", \"corp_name\", \"stock_code\", \"modify_date\"]\n",
    "rows = []\n",
    "\n",
    "for node in xroot: \n",
    "    res = []\n",
    "    for el in df_cols[0:]: \n",
    "        if node is not None and node.find(el) is not None:\n",
    "            res.append(node.find(el).text)\n",
    "        else: \n",
    "            res.append(None)\n",
    "    rows.append({df_cols[i]: res[i] \n",
    "                  for i, _ in enumerate(df_cols)})\n",
    "\n",
    "df = pd.DataFrame(rows, columns=df_cols)\n",
    "\n",
    "# DataFrame 검색\n",
    "df[(df['corp_name'] == '삼성전자')].iloc[0].corp_code\n"
   ]
  },
  {
   "cell_type": "code",
   "execution_count": 79,
   "metadata": {},
   "outputs": [
    {
     "name": "stdout",
     "output_type": "stream",
     "text": [
      "<class 'pandas.core.frame.DataFrame'>\n",
      "Index: 19 entries, status to acc_mt\n",
      "Data columns (total 1 columns):\n",
      " #   Column  Non-Null Count  Dtype \n",
      "---  ------  --------------  ----- \n",
      " 0   0       19 non-null     object\n",
      "dtypes: object(1)\n",
      "memory usage: 304.0+ bytes\n",
      "None\n",
      "<class 'pandas.core.frame.DataFrame'>\n",
      "Index: 19 entries, status to acc_mt\n",
      "Data columns (total 1 columns):\n",
      " #   Column  Non-Null Count  Dtype \n",
      "---  ------  --------------  ----- \n",
      " 0   0       19 non-null     object\n",
      "dtypes: object(1)\n",
      "memory usage: 304.0+ bytes\n",
      "None\n",
      "<class 'pandas.core.frame.DataFrame'>\n",
      "Index: 19 entries, status to acc_mt\n",
      "Data columns (total 1 columns):\n",
      " #   Column  Non-Null Count  Dtype \n",
      "---  ------  --------------  ----- \n",
      " 0   0       19 non-null     object\n",
      "dtypes: object(1)\n",
      "memory usage: 304.0+ bytes\n",
      "None\n"
     ]
    }
   ],
   "source": [
    "company_info_api = 'https://opendart.fss.or.kr/api/company.json'\n",
    "dart_secret_key = \"1a03a90fc76216f71c7d7cd9e05753746603ac9a\"\n",
    "\n",
    "corp_code_list = pd.read_excel('corp_code.xlsx', engine='openpyxl')\n",
    "marketData = pd.read_excel('marketData.xlsx', engine='openpyxl')\n",
    "corp_code_list['corp_code'] = corp_code_list['corp_code'].astype(str)\n",
    "\n",
    "bio_companies = pd.DataFrame()\n",
    "\n",
    "for company in bioMarketData[\"종목명\"][:1]:\n",
    "    try:\n",
    "        corp_code = corp_code_list[(corp_code_list['corp_name'] == company)].iloc[0].corp_code\n",
    "        corp_code = corp_code.zfill(8)\n",
    "        res = requests.get(company_info_api, params={'crtfc_key': dart_secret_key, 'corp_code':corp_code})\n",
    "        json_data = json.loads(res.text)\n",
    "        df2 = pd.DataFrame.from_dict(json_data, orient='index') \n",
    "        print(df2.info())\n",
    "    except:\n",
    "        pass\n",
    "\n"
   ]
  },
  {
   "cell_type": "code",
   "execution_count": null,
   "metadata": {},
   "outputs": [],
   "source": []
  }
 ],
 "metadata": {
  "kernelspec": {
   "display_name": "Python 3.9.10 64-bit",
   "language": "python",
   "name": "python3"
  },
  "language_info": {
   "codemirror_mode": {
    "name": "ipython",
    "version": 3
   },
   "file_extension": ".py",
   "mimetype": "text/x-python",
   "name": "python",
   "nbconvert_exporter": "python",
   "pygments_lexer": "ipython3",
   "version": "3.9.10"
  },
  "orig_nbformat": 4,
  "vscode": {
   "interpreter": {
    "hash": "aee8b7b246df8f9039afb4144a1f6fd8d2ca17a180786b69acc140d282b71a49"
   }
  }
 },
 "nbformat": 4,
 "nbformat_minor": 2
}

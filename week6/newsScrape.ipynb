{
 "cells": [
  {
   "cell_type": "code",
   "execution_count": 2,
   "metadata": {},
   "outputs": [
    {
     "name": "stderr",
     "output_type": "stream",
     "text": [
      "/Users/Welcome/Library/Python/3.9/lib/python/site-packages/requests/__init__.py:109: RequestsDependencyWarning: urllib3 (1.26.9) or chardet (5.0.0)/charset_normalizer (2.0.12) doesn't match a supported version!\n",
      "  warnings.warn(\n"
     ]
    }
   ],
   "source": [
    "import requests\n",
    "from bs4 import BeautifulSoup\n",
    "import json"
   ]
  },
  {
   "cell_type": "code",
   "execution_count": 10,
   "metadata": {},
   "outputs": [
    {
     "name": "stdout",
     "output_type": "stream",
     "text": [
      "[지금은 청년시대] 우영우는 다르다\n",
      "\"우영우 크로스백 19만원\"..中, 박은빈 사진 그대로 올려 판매\n",
      "\"우영우엔 공감, 우리에겐 욕설\" 2컷 만평 띄운 전장연\n",
      "우영우 실제 모델 있었다?...자폐 딛고 ‘타임지100인’ 선정된 동물학자\n",
      "ENA채널, 하반기 드라마 라인업 공개..‘이상한 변호사 우영우’ 이을 작품은?\n",
      "우영우는 '공감', 지하철 장애인은 '조롱'..전장연 엇갈린 시선 꼬집어\n",
      "전장연 \"우영우는 공감하면서, 우리에겐 왜 비난·조롱\"\n",
      "전장연 \"우영우는 공감한다 말하면서 출근길 장애인에겐 욕설\"\n",
      "'우영우'에 영감 준 변호사들 \"무엇이 정의인지 질문하는 드라마\"\n",
      "우영우는 응원, ‘장애인 권리 예산 반영’ 투쟁은 비난\n"
     ]
    }
   ],
   "source": [
    "def makeURL(search = \"\", period=\"\", start_date=\"\", end_date=\"\") -> str:\n",
    "    url = \"https://search.daum.net/search?w=news&DA=STC&enc=utf8\"\n",
    "    period_url = \"\"\n",
    "    search_url = \"\"\n",
    "    \n",
    "    if period != \"\":\n",
    "        period_url = \"&period=%s\" % (period)\n",
    "        \n",
    "        if period == \"u\": #기간 조정\n",
    "            period_url = period_url + \"&sd=%s&ed=%s\" % (start_date, end_date)\n",
    "    \n",
    "    if search !=\"\":\n",
    "        search_url = \"&q=%s\" % (search)\n",
    "    \n",
    "    return url + period_url + search_url\n",
    "\n",
    "def newsScrape(search):\n",
    "    URL = makeURL(search)\n",
    "    original_html = requests.get(URL)\n",
    "    html = BeautifulSoup(original_html.text, \"html.parser\")\n",
    "    title_list = html.select(\"div.cont_divider > ul.list_news > li div.wrap_cont > a\")\n",
    "    #content_list = html.select(\"div.cont_divider > ul.list_news > li div.wrap_cont > p\")\n",
    "\n",
    "    for i in title_list:\n",
    "        print(i.get_text())\n",
    "\n",
    "newsScrape(\"우영우\")\n",
    "\n",
    "#search 없을때 날짜로만 데이터 수집할때는\n",
    "url = \"https://news.daum.net/breakingnews/\""
   ]
  },
  {
   "cell_type": "code",
   "execution_count": null,
   "metadata": {},
   "outputs": [],
   "source": []
  }
 ],
 "metadata": {
  "kernelspec": {
   "display_name": "Python 3.9.10 64-bit",
   "language": "python",
   "name": "python3"
  },
  "language_info": {
   "codemirror_mode": {
    "name": "ipython",
    "version": 3
   },
   "file_extension": ".py",
   "mimetype": "text/x-python",
   "name": "python",
   "nbconvert_exporter": "python",
   "pygments_lexer": "ipython3",
   "version": "3.9.10"
  },
  "orig_nbformat": 4,
  "vscode": {
   "interpreter": {
    "hash": "aee8b7b246df8f9039afb4144a1f6fd8d2ca17a180786b69acc140d282b71a49"
   }
  }
 },
 "nbformat": 4,
 "nbformat_minor": 2
}

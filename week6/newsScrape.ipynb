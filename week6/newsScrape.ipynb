{
 "cells": [
  {
   "cell_type": "code",
   "execution_count": 2,
   "metadata": {},
   "outputs": [
    {
     "name": "stderr",
     "output_type": "stream",
     "text": [
      "/Users/Welcome/Library/Python/3.9/lib/python/site-packages/requests/__init__.py:109: RequestsDependencyWarning: urllib3 (1.26.9) or chardet (5.0.0)/charset_normalizer (2.0.12) doesn't match a supported version!\n",
      "  warnings.warn(\n"
     ]
    }
   ],
   "source": [
    "import requests\n",
    "from bs4 import BeautifulSoup\n",
    "import json\n",
    "from time import time\n",
    "\n",
    "from concurrent.futures import ThreadPoolExecutor\n",
    "from concurrent.futures import ProcessPoolExecutor\n",
    "from concurrent.futures import as_completed"
   ]
  },
  {
   "cell_type": "code",
   "execution_count": 22,
   "metadata": {},
   "outputs": [],
   "source": [
    "#utils.py part\n",
    "TYPE_CONFIG = {\n",
    "    \"사회\": \"society\",\n",
    "    \"정치\": \"politics\",\n",
    "    \"경제\": \"economic\",\n",
    "    \"국제\": \"foreign\",\n",
    "    \"문화\": \"culture\",\n",
    "    \"연예\": \"entertain\",\n",
    "    \"스포츠\": \"sports\",\n",
    "    \"IT\": \"digital\",\n",
    "    \"칼럼\": \"editorial\",\n",
    "    \"보도자료\": \"press\",\n",
    "}"
   ]
  },
  {
   "cell_type": "code",
   "execution_count": 55,
   "metadata": {},
   "outputs": [
    {
     "name": "stdout",
     "output_type": "stream",
     "text": [
      "[<a class=\"link_txt\" href=\"https://v.daum.net/v/20220720220953551\">강원도일자리재단, '강원지역청년고용협의회' 개최</a>, <a class=\"link_txt\" href=\"https://v.daum.net/v/20220720220843539\">20억짜리 세계 가장 비싼 약 '졸겐스마' 건보 적용..도대체 무슨 약</a>, <a class=\"link_txt\" href=\"https://v.daum.net/v/20220720220559514\">제주도, 무급으로 코로나19 가족돌봄 휴가 쓴 근로자 지원</a>, <a class=\"link_txt\" href=\"https://v.daum.net/v/20220720220544512\">디스플레이 공장, 폐유리를 섬유로·반도체 공장, 찌꺼기서 금속 추출..'폐기물 제로' 도전</a>, <a class=\"link_txt\" href=\"https://v.daum.net/v/20220720220541510\">'토레스' 초고강도 강판 공급한 포스코, 쌍용차와 공동 판촉</a>, <a class=\"link_txt\" href=\"https://v.daum.net/v/20220720220530508\">대우조선하청 노사 협상타결 제동..'손해배상소송' 두고 이견</a>, <a class=\"link_txt\" href=\"https://v.daum.net/v/20220720220405494\">SPC 배스킨라빈스, '프루티 샤베트 페스타' 프로모션 실시</a>, <a class=\"link_txt\" href=\"https://v.daum.net/v/20220720220127472\">제주 농산물 해상운송비 국비 지원 '빨간불'</a>, <a class=\"link_txt\" href=\"https://v.daum.net/v/20220720220052460\">대구상의, 상반기 경제동향 보고회 개최</a>, <a class=\"link_txt\" href=\"https://v.daum.net/v/20220720220007453\">대우조선해양 \"이달 말 파업 손실 8000억 원 넘을 것..생존권 위협\"</a>, <a class=\"link_txt\" href=\"https://v.daum.net/v/20220720220005452\">\"티맵에서 빈 전기차 충전기 찾으세요\"</a>, <a class=\"link_txt\" href=\"https://v.daum.net/v/20220720220003450\">'호텔 오노마'서 충청권 첫 5성 호텔 현판식</a>, <a class=\"link_txt\" href=\"https://v.daum.net/v/20220720215940440\">대구시·경북도-국민의힘 예산정책 협의</a>, <a class=\"link_txt\" href=\"https://v.daum.net/v/20220720215819419\">\"12억원 과징금 부당\" 육계협회, 공정위 상대로 행정소송</a>, <a class=\"link_txt\" href=\"https://v.daum.net/v/20220720215613409\">우리·신한은행서 '2조원' 외환 이상 거래..가상통화거래소와 연루 정황</a>]\n",
      "[<a class=\"link_txt\" href=\"https://v.daum.net/v/20220720235622210\">대우조선 하청노사 협상 불발..손해배상 이견 극복 실패</a>, <a class=\"link_txt\" href=\"https://v.daum.net/v/20220720235508208\">'9부 능선' 넘은 대우조선해양 하청 노사..21일 교섭 재개</a>, <a class=\"link_txt\" href=\"https://v.daum.net/v/20220720235246196\">코인·주식 다음은 부동산?..美 모기지 신청 22년래 최저</a>, <a class=\"link_txt\" href=\"https://v.daum.net/v/20220720234959176\">7개 수입 생필품에 0% 할당관세..수입 쇠고기 첫 적용</a>, <a class=\"link_txt\" href=\"https://v.daum.net/v/20220720234926171\">대우조선 하청 노사협상 불발.. 쟁점은 '손해배상 소송'</a>, <a class=\"link_txt\" href=\"https://v.daum.net/v/20220720234504138\">베이커휴즈, 2분기 실적 월가 기대치 못미쳐 13% 급락</a>, <a class=\"link_txt\" href=\"https://v.daum.net/v/20220720233956112\">美 6월 주택판매 감소에 2분기 GDP 전망치 하향</a>, <a class=\"link_txt\" href=\"https://v.daum.net/v/20220720233903110\">대우조선 협력업체 노사 합의 불발..내일 오전 10시 재협상(2보)</a>, <a class=\"link_txt\" href=\"https://v.daum.net/v/20220720233415082\">[마켓인]롯데지주, 공모채 수요예측 연타석 '흥행'</a>, <a class=\"link_txt\" href=\"https://v.daum.net/v/20220720233158071\">뉴욕증시, 실적 발표 주시하며 혼조세로 출발</a>, <a class=\"link_txt\" href=\"https://v.daum.net/v/20220720232530042\">18개국 장관 \"공급망 위기 극복 공조\"..공급망 탈중국 본격화 하나</a>, <a class=\"link_txt\" href=\"https://v.daum.net/v/20220720230822957\">[단독]해시드, 테라·루나 폭락 전 1300억 매도..모럴헤저드 논란</a>, <a class=\"link_txt\" href=\"https://v.daum.net/v/20220720230356931\">동행복권, 복권판매인 및 소비자와 함께한 '따뜻한 동행'</a>, <a class=\"link_txt\" href=\"https://v.daum.net/v/20220720230301923\">\"공급망 위기에 긴밀히 공조\" 외친 17개국 장관들..中만 없었다</a>, <a class=\"link_txt\" href=\"https://v.daum.net/v/20220720230158917\">美 뉴욕 증시, 넷플릭스 실적 선방에 혼조 출발</a>]\n",
      "[<a class=\"link_txt\" href=\"https://v.daum.net/v/20220720210255751\">윤 대통령 \"임대차법 개정 사회적 논의를..전세사기 엄벌\"</a>, <a class=\"link_txt\" href=\"https://v.daum.net/v/20220720210230745\">[사진] 경총 '청년 도약 프로젝트' 발대식</a>, <a class=\"link_txt\" href=\"https://v.daum.net/v/20220720210203738\">'닭고깃값' 담합 혐의 육계협회, 공정위 상대로 행정소송</a>, <a class=\"link_txt\" href=\"https://v.daum.net/v/20220720210016715\">편의점, 코로나19 재유행에 '진단키트' 판매량 껑충..\"미리 사둬야 하나\"</a>, <a class=\"link_txt\" href=\"https://v.daum.net/v/20220720205941698\">전세가율 90% 넘는 곳, '깡통전세' 위험지역으로 특별관리</a>, <a class=\"link_txt\" href=\"https://v.daum.net/v/20220720205930693\">테라·루나 관련 가상자산거래소 압색 소식에도 비트코인 가격↑</a>, <a class=\"link_txt\" href=\"https://v.daum.net/v/20220720205534657\">여, 불안한 항해..리더십 위기 속 진화 부심</a>, <a class=\"link_txt\" href=\"https://v.daum.net/v/20220720205518654\">러시아, 중국 최대 석유 공급국..2개월 연속</a>, <a class=\"link_txt\" href=\"https://v.daum.net/v/20220720204645535\">'닭고깃값' 담합 혐의 육계협회, 공정위 상대로 행정소송</a>, <a class=\"link_txt\" href=\"https://v.daum.net/v/20220720204241505\">대우조선지회, 하청노조 파업 여파로 금속노조 탈퇴할까</a>, <a class=\"link_txt\" href=\"https://v.daum.net/v/20220720204206503\">'칩4' 반도체 동맹 압박..미·중 사이 득실 놓고 고민</a>, <a class=\"link_txt\" href=\"https://v.daum.net/v/20220720203904471\">중국으로 송금된 2조 원..가상화폐 환치기 의혹</a>, <a class=\"link_txt\" href=\"https://v.daum.net/v/20220720203611437\">10월 물가 정점 찍고 안정?..안심 못 하는 까닭</a>, <a class=\"link_txt\" href=\"https://v.daum.net/v/20220720203301416\">\"코로나 일찍 걸릴 걸\"..재유행인데 지원금 줄어 치료, 생활비 2중고</a>, <a class=\"link_txt\" href=\"https://v.daum.net/v/20220720203132403\">한국GM, 부품사 납품 거부..창원·부평2공장 가동 중단</a>]\n",
      "[<a class=\"link_txt\" href=\"https://v.daum.net/v/20220720214634285\">경상남도, '가스터빈 성능 검증' 191억 원 투입</a>, <a class=\"link_txt\" href=\"https://v.daum.net/v/20220720214631284\">경남 민선 8기 첫 투자 협약..10조 원 목표 '시동'</a>, <a class=\"link_txt\" href=\"https://v.daum.net/v/20220720214558281\">\"닭고기 가격 담합 없었다\" 한국육계협회 행정소송 제기</a>, <a class=\"link_txt\" href=\"https://v.daum.net/v/20220720214557280\">[포토] 수입 소고기 맘 놓고 드세요.. 할당관세 0% 적용</a>, <a class=\"link_txt\" href=\"https://v.daum.net/v/20220720214554279\">검찰, 가상자산 거래소 압수수색중</a>, <a class=\"link_txt\" href=\"https://v.daum.net/v/20220720214548278\">검찰, 가상자산 거래소 압수수색중</a>, <a class=\"link_txt\" href=\"https://v.daum.net/v/20220720214541277\">검찰, 가상자산 거래소 압수수색중</a>, <a class=\"link_txt\" href=\"https://v.daum.net/v/20220720214355262\">검찰, '테라·루나 사태' 가상자산 거래소 압수수색</a>, <a class=\"link_txt\" href=\"https://v.daum.net/v/20220720214350261\">검찰, '테라·루나 사태' 가상자산 거래소 압수수색</a>, <a class=\"link_txt\" href=\"https://v.daum.net/v/20220720214346260\">검찰, '테라·루나 사태' 가상자산 거래소 압수수색</a>, <a class=\"link_txt\" href=\"https://v.daum.net/v/20220720214344259\">검찰, '테라·루나 사태' 가상자산 거래소 압수수색</a>, <a class=\"link_txt\" href=\"https://v.daum.net/v/20220720214342258\">'테라·루나 사태' 가상자산 거래소 압수수색하는 검찰</a>, <a class=\"link_txt\" href=\"https://v.daum.net/v/20220720213528165\">'50억 퇴직금' 곽상도 아들 \"건강 나빠져 위로 차원에서 받아\"(종합)</a>, <a class=\"link_txt\" href=\"https://v.daum.net/v/20220720213358131\">대우조선해양 \"이달말 파업 피해액 8천억원대 예상..생존권 위협\"(종합)</a>, <a class=\"link_txt\" href=\"https://v.daum.net/v/20220720213303124\">대우조선해양 찾은 우원식·강민정</a>]\n",
      "[<a class=\"link_txt\" href=\"https://v.daum.net/v/20220720203107398\">'세계 3위' 노리는 인천공항, '여객 1억명 시대' 준비 한창</a>, <a class=\"link_txt\" href=\"https://v.daum.net/v/20220720203101396\">기관도 주식 던졌다..현금 비중 21년만에 최고, 서머랠리 기대</a>, <a class=\"link_txt\" href=\"https://v.daum.net/v/20220720203014383\">\"필요한 인재, 기업이 직접 양성하게 돕는다\" 경총·노동부, 청년 인재 양성 협력</a>, <a class=\"link_txt\" href=\"https://v.daum.net/v/20220720203001377\">택시 대란 해소..탄력요금부터 '플랫폼 택시' 활성화까지 단계 추진</a>, <a class=\"link_txt\" href=\"https://v.daum.net/v/20220720202840357\">[단독] 일동제약-시오노기 코로나 치료제 조코바, '승인 보류'</a>, <a class=\"link_txt\" href=\"https://v.daum.net/v/20220720202704341\">\"美 모기지 수요 22년 만에 최저치로 떨어져\"</a>, <a class=\"link_txt\" href=\"https://v.daum.net/v/20220720202517306\">[집중취재M] 클릭 한 번 할 때마다 내 정보가 실시간 경매로</a>, <a class=\"link_txt\" href=\"https://v.daum.net/v/20220720202513304\">오락가락 교육정책, 학부모 실망감 ↑</a>, <a class=\"link_txt\" href=\"https://v.daum.net/v/20220720202507301\">[집중취재M] 소름끼치는 맞춤형 광고 - 인스타그램 개인정보 수집 논란</a>, <a class=\"link_txt\" href=\"https://v.daum.net/v/20220720202406288\">대우조선해양 협력업체-하청지회 비공개 협상 재개</a>, <a class=\"link_txt\" href=\"https://v.daum.net/v/20220720202403285\">대우조선해양 협력업체-하청지회 비공개 협상 재개</a>, <a class=\"link_txt\" href=\"https://v.daum.net/v/20220720202343280\">대구상의, 상반기 경제 동향 보고회 열어</a>, <a class=\"link_txt\" href=\"https://v.daum.net/v/20220720202218267\">[뉴있저] \"성실히 빚 갚은 사람만 억울?\"..'빚 탕감' 역차별 논란</a>, <a class=\"link_txt\" href=\"https://v.daum.net/v/20220720202111255\">대구시, 지역특화 메타버스 개발사업 선정</a>, <a class=\"link_txt\" href=\"https://v.daum.net/v/20220720202023248\">경북도, 수출 물류비 최대 2천5백만 원 지원</a>]\n",
      "[<a class=\"link_txt\" href=\"https://v.daum.net/v/20220720213239113\">대우조선해양 찾은 우원식·강민정</a>, <a class=\"link_txt\" href=\"https://v.daum.net/v/20220720213233112\">대우조선해양 찾은 우원식·강민정</a>, <a class=\"link_txt\" href=\"https://v.daum.net/v/20220720213225110\">대우조선해양 찾은 우원식·강민정</a>, <a class=\"link_txt\" href=\"https://v.daum.net/v/20220720213044089\">수도권 공장 입지 규제 제거..신·증설 제한 완화</a>, <a class=\"link_txt\" href=\"https://v.daum.net/v/20220720213033087\">비탈면·옹벽 보강 기술력, 업계서도 찬사</a>, <a class=\"link_txt\" href=\"https://v.daum.net/v/20220720212902056\">번스타인, 알리바바 지금이 \"매수 최적기\" 등급 상향</a>, <a class=\"link_txt\" href=\"https://v.daum.net/v/20220720212541011\">[르포] \"코로나 악몽 벗어나니 하청노조 파업 날벼락\"..직격탄 맞은 거제</a>, <a class=\"link_txt\" href=\"https://v.daum.net/v/20220720212401996\">고준위 방폐물 부지 선정·저장 기술, 1조4000억 들여 연구·개발 나선다</a>, <a class=\"link_txt\" href=\"https://v.daum.net/v/20220720212318991\">얼어붙은 투심 녹인 2차전지..공모주 필승 전략은</a>, <a class=\"link_txt\" href=\"https://v.daum.net/v/20220720212032943\">차 내·외장 부품 생산.. 금형공정 자동화</a>, <a class=\"link_txt\" href=\"https://v.daum.net/v/20220720211949932\">반복되는 원·하청 갈등, 원인은?..노동 정책 '시험대'</a>, <a class=\"link_txt\" href=\"https://v.daum.net/v/20220720211846912\">광주·전남, 3,327명 확진..이틀 연속 3천명 대</a>, <a class=\"link_txt\" href=\"https://v.daum.net/v/20220720211822905\">포스코인터·에너지 합병 추진.. 이르면 8월 이사회 열어 결의</a>, <a class=\"link_txt\" href=\"https://v.daum.net/v/20220720211537880\">미국 주택담보대출 수요 22년만에 최저치 기록</a>, <a class=\"link_txt\" href=\"https://v.daum.net/v/20220720211255860\">러 국영 가스회사 \"대중국 일간 공급량 또 신기록\"(종합)</a>]\n",
      "[<a class=\"link_txt\" href=\"https://v.daum.net/v/20220720230102909\">G20 공급망 장관회의 \"공급망 회복 원칙, 투명·다변화·안정성·지속가능성\" 공동선언문</a>, <a class=\"link_txt\" href=\"https://v.daum.net/v/20220720230102907\">번스타인 \"데이터독 85% 오를 것..시장수익률초과\"</a>, <a class=\"link_txt\" href=\"https://v.daum.net/v/20220720225810887\">'40년래 최고' 영국 물가 9.4% 폭등..'빅스텝' 기정사실(종합)</a>, <a class=\"link_txt\" href=\"https://v.daum.net/v/20220720225440854\">2400도 버거운 코스피..외국인 주시하는 개미</a>, <a class=\"link_txt\" href=\"https://v.daum.net/v/20220720225244843\">실적 앞둔 테슬라..머스크 '낙관론' 유지할까 [신인규의 글로벌마켓 A/S]</a>, <a class=\"link_txt\" href=\"https://v.daum.net/v/20220720223545737\">日, 일동·시오노기 먹는 코로나 치료제 '조코바' 승인 보류</a>, <a class=\"link_txt\" href=\"https://v.daum.net/v/20220720223542736\">[속보]뉴욕증시 혼조출발..S&amp;P500 0.12%↓</a>, <a class=\"link_txt\" href=\"https://v.daum.net/v/20220720223108714\">\"사우디 잡아라\".. 재계 드림팀 '부산엑스포' 유치 총력전</a>, <a class=\"link_txt\" href=\"https://v.daum.net/v/20220720223107713\">작년 100대 기업 국가경제에 1238조 기여</a>, <a class=\"link_txt\" href=\"https://v.daum.net/v/20220720223105711\">롯데百 리뉴얼 효과.. '프리미엄' 날개 달고 본점 매출 2~3배 쑥쑥</a>, <a class=\"link_txt\" href=\"https://v.daum.net/v/20220720223105709\">日서도 새달부터 '아이오닉5' 택시 달린다</a>, <a class=\"link_txt\" href=\"https://v.daum.net/v/20220720222201647\">'땡큐 넷플릭스'..디즈니·워너·로쿠 등 덩달아 상승</a>, <a class=\"link_txt\" href=\"https://v.daum.net/v/20220720222121643\">치킨버거 4억개 팔더니..맘스터치 4900원 파격 소고기버거</a>, <a class=\"link_txt\" href=\"https://v.daum.net/v/20220720221608598\">매매 가격과 똑같은 전셋값..'깡통 전세' 비상</a>, <a class=\"link_txt\" href=\"https://v.daum.net/v/20220720220956552\">한-러 국제여객선 2년 8개월 만에 정상화</a>]\n",
      "[<a class=\"link_txt\" href=\"https://v.daum.net/v/20220720215607408\">현대차 \"일본 재진출\" 5개월 만에 '아이오닉5 택시'로 시동 건다</a>, <a class=\"link_txt\" href=\"https://v.daum.net/v/20220720215556402\">또 오른 금리..전에 든 예·적금 깰까 말까</a>, <a class=\"link_txt\" href=\"https://v.daum.net/v/20220720215554401\">직계존비속 재산 증여 역대 최대</a>, <a class=\"link_txt\" href=\"https://v.daum.net/v/20220720215552400\">안면도 관광지 도유지 매각..내년 착공 '파란불'</a>, <a class=\"link_txt\" href=\"https://v.daum.net/v/20220720215548399\">올해 대전시 지방채 규모 1조 원 넘어설 전망</a>, <a class=\"link_txt\" href=\"https://v.daum.net/v/20220720215545397\">\"취약계층 채무 6조 원 육박..출구전략 시급\"</a>, <a class=\"link_txt\" href=\"https://v.daum.net/v/20220720215531390\">\"7월 30일·31일 휴가인파 최대\"..교통분산·방역강화 대책 나왔다</a>, <a class=\"link_txt\" href=\"https://v.daum.net/v/20220720215512382\">LNG선 화물창 로열티 1척당 '100억 원'..언제 국산화?</a>, <a class=\"link_txt\" href=\"https://v.daum.net/v/20220720215226354\">전북 금융중심지 지정 돌파구는?</a>, <a class=\"link_txt\" href=\"https://v.daum.net/v/20220720215102335\">바이오젠, 2분기 실적 월가 예상치 웃돌고도 주가 하락</a>, <a class=\"link_txt\" href=\"https://v.daum.net/v/20220720215057334\">\"성장 둔화에 폐사까지\"..양돈농가 '힘겨운 여름나기'</a>, <a class=\"link_txt\" href=\"https://v.daum.net/v/20220720214847313\">월세 전환은 강요된 선택..'주거 사다리' 무너진다</a>, <a class=\"link_txt\" href=\"https://v.daum.net/v/20220720214820311\">순천시, 스타필드 유치..전남도와 공동 보조</a>, <a class=\"link_txt\" href=\"https://v.daum.net/v/20220720214659291\">깡통전세 주의 지역 통보..보증금 상습 미반환자 신원 공개</a>, <a class=\"link_txt\" href=\"https://v.daum.net/v/20220720214637286\">\"산업은행, 대우조선 협력업체 파업 해결해야\"</a>]\n",
      "[<a class=\"link_txt\" href=\"https://v.daum.net/v/20220720211226856\">[인사] 국토교통부</a>, <a class=\"link_txt\" href=\"https://v.daum.net/v/20220720211222854\">역대 최다 확진 기록한 日, 시오노기 코로나 치료제 긴급승인 보류 결정</a>, <a class=\"link_txt\" href=\"https://v.daum.net/v/20220720211200844\">\"임대차법 개정 논의 필요\"..尹, 文 정부 부동산 정책도 손댄다</a>, <a class=\"link_txt\" href=\"https://v.daum.net/v/20220720211101836\">테슬라, 예측불가 2분기 실적..은근한 서프라이즈 기대[오미주]</a>, <a class=\"link_txt\" href=\"https://v.daum.net/v/20220720211057835\">[베트남증시 20일 마감시황] VN지수 15.81p(1.34%) 상승 1,194.14p '4주만에 최대 유동성 유입 상승 마감' [KVINA]</a>, <a class=\"link_txt\" href=\"https://v.daum.net/v/20220720211006833\">주거비 경감..버팀목 전세대출 올해 금리 동결</a>, <a class=\"link_txt\" href=\"https://v.daum.net/v/20220720210818814\">푸틴, 유럽 천연가스 공급 약속, 조건도 요구</a>, <a class=\"link_txt\" href=\"https://v.daum.net/v/20220720210818813\">검찰, 가상자산 거래소 압수수색</a>, <a class=\"link_txt\" href=\"https://v.daum.net/v/20220720210655805\">검찰, '테라·루나 사태' 가상자산 거래소 압수수색</a>, <a class=\"link_txt\" href=\"https://v.daum.net/v/20220720210652804\">검찰, '테라·루나 사태' 가상자산 거래소 압수수색</a>, <a class=\"link_txt\" href=\"https://v.daum.net/v/20220720210647803\">검찰, '테라·루나 사태' 가상자산 거래소 압수수색</a>, <a class=\"link_txt\" href=\"https://v.daum.net/v/20220720210641801\">검찰, '테라·루나 사태' 가상자산 거래소 압수수색</a>, <a class=\"link_txt\" href=\"https://v.daum.net/v/20220720210421767\">尹 \"임대차법 개정 논의 필요.. 전세사기 전담반 구성하라\"</a>, <a class=\"link_txt\" href=\"https://v.daum.net/v/20220720210405766\">검찰, '테라·루나 사태' 가상자산 거래소 압수수색</a>, <a class=\"link_txt\" href=\"https://v.daum.net/v/20220720210405765\">편의점에서 간단히 즐기는 세계 여행</a>]\n",
      "[<a class=\"link_txt\" href=\"https://v.daum.net/v/20220720201930238\">대구시·경북도, 국민의힘과 예산정책협의회 열어</a>, <a class=\"link_txt\" href=\"https://v.daum.net/v/20220720201809226\">작심한 조수진 \"이준석 만든 '尹핵관' 단어 유통 참담..언론서 쓰지 말아줬으면\"</a>, <a class=\"link_txt\" href=\"https://v.daum.net/v/20220720201455193\">[여기는 포항] 포항시, 2차 추경 예산 3조 530억 원 편성 외</a>, <a class=\"link_txt\" href=\"https://v.daum.net/v/20220720201401183\">월가, 테슬라 2분기 실적 발표 앞두고 관심 집중</a>, <a class=\"link_txt\" href=\"https://v.daum.net/v/20220720201200143\">타는 순간 시선집중, '포람페' 잊어라..신들린 오픈카, MC20 첼로 [왜몰랐을카]</a>, <a class=\"link_txt\" href=\"https://v.daum.net/v/20220720201112122\">2021년 직계존비속 재산증여 '역대 최대'</a>, <a class=\"link_txt\" href=\"https://v.daum.net/v/20220720200935102\">[뉴스7 대전·세종·충남] 클로징</a>, <a class=\"link_txt\" href=\"https://v.daum.net/v/20220720200930097\">올해 대전시 지방채 규모 1조 원 넘어설 전망</a>, <a class=\"link_txt\" href=\"https://v.daum.net/v/20220720200927094\">'호텔 오노마'서 충청권 첫 5성 호텔 현판식</a>, <a class=\"link_txt\" href=\"https://v.daum.net/v/20220720200909085\">\"6천억 파업 손해, 물어내라\" vs \"노조 탄압이다\"</a>, <a class=\"link_txt\" href=\"https://v.daum.net/v/20220720200706048\">\"''노조 탄압' 여산휴게소 불매\"-\"노조와 협의할 것\"</a>, <a class=\"link_txt\" href=\"https://v.daum.net/v/20220720200610024\">신길10구역, 대우건설 '써밋'으로 재탄생</a>, <a class=\"link_txt\" href=\"https://v.daum.net/v/20220720200503008\">中 대형 물류 SF홀딩스 화물전문공항 운영 시작..韓영향 불가피</a>, <a class=\"link_txt\" href=\"https://v.daum.net/v/20220720200405987\">롯데리아, 관악구청과 함께 두번째 희망의 불을 켜다!</a>, <a class=\"link_txt\" href=\"https://v.daum.net/v/20220720200336975\">검찰, '테라·루나 사태' 가상자산 거래소 압수수색</a>]\n",
      "time : 0.6944940090179443\n"
     ]
    }
   ],
   "source": [
    "#**kwars 이거써서 코드 깔끔하게\n",
    "headers = {'user-agent': 'Mozilla/5.0 (Macintosh; Intel Mac OS X 10_15_7) AppleWebKit/537.36 (KHTML, like Gecko) Chrome/103.0.0.0 Safari/537.36'}\n",
    "\n",
    "def makeURL(search = \"\", period=\"\", start_date=\"\", end_date=\"\") -> str:\n",
    "    url = \"https://search.daum.net/search?w=news&DA=STC&enc=utf8\"\n",
    "    period_url = \"\"\n",
    "    search_url = \"\"\n",
    "    \n",
    "    if period != \"\": #[TODO] 올바른 period가 안들어왔을때 에러 핸들링\n",
    "        period_url = \"&period=%s\" % (period)\n",
    "        \n",
    "        if period == \"u\": #기간 조정\n",
    "            period_url = period_url + \"&sd=%s&ed=%s\" % (start_date, end_date)\n",
    "    \n",
    "    if search !=\"\":\n",
    "        search_url = \"&q=%s\" % (search)\n",
    "    \n",
    "    return url + period_url + search_url\n",
    "\n",
    "def return_select_func(html, request_type) -> list:\n",
    "    if request_type == \"search\":\n",
    "        return html.select(\"div.cont_divider > ul.list_news > li div.wrap_cont > a\")\n",
    "    elif request_type == \"normal\":\n",
    "        return html.select(\"div.box_etc > ul.list_news2.list_allnews > li div.cont_thumb > strong.tit_thumb > a\")\n",
    "\n",
    "def extract_title(url, request_type) -> bool:\n",
    "    try:\n",
    "        original_html = requests.get(url)\n",
    "        html = BeautifulSoup(original_html.text, \"html.parser\")\n",
    "        title_list = return_select_func(html, request_type)\n",
    "        if len(title_list) == 0:\n",
    "            print(title_list)\n",
    "            return False\n",
    "        \n",
    "    except(error):\n",
    "        print(\"Error from newsType function\", error)\n",
    "        return False\n",
    "    \n",
    "    finally:\n",
    "        return True\n",
    "\n",
    "def newsScrape(search):\n",
    "    URL = makeURL(search)\n",
    "    page_num = 1\n",
    "    \n",
    "    for page_number in range(1, 81):\n",
    "        try:\n",
    "            original_html = requests.get(URL + \"&page=\" + str(page_number), headers = headers)\n",
    "            html = BeautifulSoup(original_html.text, \"html.parser\")\n",
    "            title_list = html.select(\"div.cont_divider > ul.list_news > li div.wrap_cont > a\")\n",
    "            if len(title_list) == 0:\n",
    "                break\n",
    "            else:\n",
    "                page_num = page_num + 1\n",
    "        except(error):\n",
    "            print(\"Error from news scrape function\", error)\n",
    "            break\n",
    "\n",
    "\n",
    "        \n",
    "def newsType(newsType=\"\", date=\"\"):\n",
    "    THREAD_COUNT = 10\n",
    "    URL = \"https://news.daum.net/breakingnews/\"\n",
    "    if newsType !=\"\":\n",
    "        URL = f\"{URL}{TYPE_CONFIG[newsType]}\"\n",
    "    \n",
    "    if date != \"\": \n",
    "        URL = f\"{URL}?regDate={date}\" \n",
    "        \n",
    "    page_num = 1\n",
    "    with ThreadPoolExecutor(THREAD_COUNT) as executor:\n",
    "        while(True):\n",
    "            url = f\"{URL}&page={str(page_num)}\"\n",
    "            \n",
    "            task_return = executor.submit(extract_title, url, \"normal\")\n",
    "            page_num = page_num + 1\n",
    "            if page_num > 10:\n",
    "                break\n",
    "\n",
    "if __name__ == '__main__':        \n",
    "    start = time()\n",
    "    newsType(\"경제\", \"20220720\")\n",
    "    print(\"time :\", time() - start)\n",
    "    #newsScrape(\"우영우\")\n",
    "    \n",
    "    \n",
    "#[TODO] TYPE_CONFIG에 들어있지 않는 타입 들어왔을때 에러 핸들링\n",
    "#[TODO] 올바른 date가 아닐때 에러 핸들링"
   ]
  }
 ],
 "metadata": {
  "kernelspec": {
   "display_name": "Python 3.9.10 64-bit",
   "language": "python",
   "name": "python3"
  },
  "language_info": {
   "codemirror_mode": {
    "name": "ipython",
    "version": 3
   },
   "file_extension": ".py",
   "mimetype": "text/x-python",
   "name": "python",
   "nbconvert_exporter": "python",
   "pygments_lexer": "ipython3",
   "version": "3.9.10"
  },
  "orig_nbformat": 4,
  "vscode": {
   "interpreter": {
    "hash": "aee8b7b246df8f9039afb4144a1f6fd8d2ca17a180786b69acc140d282b71a49"
   }
  }
 },
 "nbformat": 4,
 "nbformat_minor": 2
}

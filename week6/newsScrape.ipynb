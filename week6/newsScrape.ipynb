{
 "cells": [
  {
   "cell_type": "code",
   "execution_count": 2,
   "metadata": {},
   "outputs": [
    {
     "name": "stderr",
     "output_type": "stream",
     "text": [
      "/Users/Welcome/Library/Python/3.9/lib/python/site-packages/requests/__init__.py:109: RequestsDependencyWarning: urllib3 (1.26.9) or chardet (5.0.0)/charset_normalizer (2.0.12) doesn't match a supported version!\n",
      "  warnings.warn(\n"
     ]
    }
   ],
   "source": [
    "import requests\n",
    "from bs4 import BeautifulSoup\n",
    "import json"
   ]
  },
  {
   "cell_type": "code",
   "execution_count": null,
   "metadata": {},
   "outputs": [],
   "source": [
    "#utils.py part\n",
    "#type에 맞지 않는 데이터 \n",
    "TYPE_CONFIG = {\n",
    "    \"사회\": \"society\",\n",
    "    \"정치\": \"politics\",\n",
    "    \"경제\": \"economic\",\n",
    "    \"국제\": \"foreign\",\n",
    "    \"문화\": \"culture\",\n",
    "    \"연예\": \"entertain\",\n",
    "    \"스포츠\": \"sports\",\n",
    "    \"IT\": \"digital\",\n",
    "    \"칼럼\": \"editorial\",\n",
    "    \"보도자료\": \"press\",\n",
    "}"
   ]
  },
  {
   "cell_type": "code",
   "execution_count": 31,
   "metadata": {},
   "outputs": [
    {
     "name": "stdout",
     "output_type": "stream",
     "text": [
      "IPA, 하반기 체험형 청년인턴 채용..8월3일까지 원서 접수\n",
      "클럽·자택서 마약 투약·흡입 20~30대 5명 검찰 송치\n",
      "[속보] 코로나 예방접종자 심근경색·뇌경색 위험 58% '감소'..25만명 연구\n",
      "[속보] 백신 2차접종 후 확진자, 심근경색·뇌졸중 발생 절반 이하\n",
      "청주국제공항, 베트남·몽골 부정기 국제선 운항 재개\n",
      "충청북도해양교육원 제주분원 곽지 청춘별빛음악회 개최\n",
      "[속보] 면역회피 강하고 전파 빠른 'BA.5' 사실상 우세종..검출률 56.3%\n",
      "'달빛 항해 희망을 향해' 청주문화재야행 8월27~28일 개최\n",
      "충북자연과학교육원 충북형 노벨 과학프로젝트 개최\n",
      "영동학산 농협 상호금융대상평가 전국그룹별 1위\n",
      "강원소방, 소방차 44대 성능평가..교체 여부 결정\n",
      "괴산군, '제14회 아름다운 괴산 관광사진 전국공모전' 수상작 선정\n",
      "대한적십자사봉사회 괴산군지구협의회, '후원금' 전달\n",
      "괴산 육군학생군사학교, 저소득 독거노인을 위한 따뜻한 기부\n",
      "음성군농업기술센터, '바른 식문화' 교육 성료\n"
     ]
    }
   ],
   "source": [
    "#**kwars 이거ㅇㅇ\n",
    "def makeURL(search = \"\", period=\"\", start_date=\"\", end_date=\"\") -> str:\n",
    "    url = \"https://search.daum.net/search?w=news&DA=STC&enc=utf8\"\n",
    "    period_url = \"\"\n",
    "    search_url = \"\"\n",
    "    \n",
    "    if period != \"\":\n",
    "        period_url = \"&period=%s\" % (period)\n",
    "        \n",
    "        if period == \"u\": #기간 조정\n",
    "            period_url = period_url + \"&sd=%s&ed=%s\" % (start_date, end_date)\n",
    "    \n",
    "    if search !=\"\":\n",
    "        search_url = \"&q=%s\" % (search)\n",
    "    \n",
    "    return url + period_url + search_url\n",
    "\n",
    "def newsScrape(search):\n",
    "    URL = makeURL(search)\n",
    "    original_html = requests.get(URL)\n",
    "    html = BeautifulSoup(original_html.text, \"html.parser\")\n",
    "    title_list = html.select(\"div.cont_divider > ul.list_news > li div.wrap_cont > a\")\n",
    "    #content_list = html.select(\"div.cont_divider > ul.list_news > li div.wrap_cont > p\")\n",
    "\n",
    "    for i in title_list:\n",
    "        print(i.get_text())\n",
    "        \n",
    "def newsType(newsType=\"\"):\n",
    "    URL = \"https://news.daum.net/breakingnews/\"\n",
    "    if newsType !=\"\":\n",
    "        URL = URL + newsType\n",
    "    \n",
    "    original_html = requests.get(url)\n",
    "    html = BeautifulSoup(original_html.text, \"html.parser\")\n",
    "    title_list = html.select(\"div.box_etc > ul.list_news2.list_allnews > li div.cont_thumb > strong.tit_thumb > a\")\n",
    "    \n",
    "    for i in title_list:\n",
    "        print(i.get_text())\n",
    "\n",
    "\n",
    "\n",
    "#newsScrape(\"우영우\")\n",
    "\n",
    "#search 없을때 날짜로만 데이터 수집할때는\n",
    "\n",
    "\n"
   ]
  },
  {
   "cell_type": "code",
   "execution_count": null,
   "metadata": {},
   "outputs": [],
   "source": []
  }
 ],
 "metadata": {
  "kernelspec": {
   "display_name": "Python 3.9.10 64-bit",
   "language": "python",
   "name": "python3"
  },
  "language_info": {
   "codemirror_mode": {
    "name": "ipython",
    "version": 3
   },
   "file_extension": ".py",
   "mimetype": "text/x-python",
   "name": "python",
   "nbconvert_exporter": "python",
   "pygments_lexer": "ipython3",
   "version": "3.9.10"
  },
  "orig_nbformat": 4,
  "vscode": {
   "interpreter": {
    "hash": "aee8b7b246df8f9039afb4144a1f6fd8d2ca17a180786b69acc140d282b71a49"
   }
  }
 },
 "nbformat": 4,
 "nbformat_minor": 2
}

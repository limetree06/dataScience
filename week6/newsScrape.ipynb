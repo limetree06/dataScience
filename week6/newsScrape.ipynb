{
 "cells": [
  {
   "cell_type": "code",
   "execution_count": 2,
   "metadata": {},
   "outputs": [
    {
     "name": "stderr",
     "output_type": "stream",
     "text": [
      "/Users/Welcome/Library/Python/3.9/lib/python/site-packages/requests/__init__.py:109: RequestsDependencyWarning: urllib3 (1.26.9) or chardet (5.0.0)/charset_normalizer (2.0.12) doesn't match a supported version!\n",
      "  warnings.warn(\n"
     ]
    }
   ],
   "source": [
    "import requests\n",
    "from bs4 import BeautifulSoup\n",
    "import json\n",
    "from time import time\n",
    "\n",
    "from concurrent.futures import ThreadPoolExecutor\n",
    "from concurrent.futures import ProcessPoolExecutor\n",
    "from concurrent.futures import as_completed"
   ]
  },
  {
   "cell_type": "code",
   "execution_count": 3,
   "metadata": {},
   "outputs": [],
   "source": [
    "#utils.py part\n",
    "TYPE_CONFIG = {\n",
    "    \"사회\": \"society\",\n",
    "    \"정치\": \"politics\",\n",
    "    \"경제\": \"economic\",\n",
    "    \"국제\": \"foreign\",\n",
    "    \"문화\": \"culture\",\n",
    "    \"연예\": \"entertain\",\n",
    "    \"스포츠\": \"sports\",\n",
    "    \"IT\": \"digital\",\n",
    "    \"칼럼\": \"editorial\",\n",
    "    \"보도자료\": \"press\",\n",
    "}"
   ]
  },
  {
   "cell_type": "code",
   "execution_count": 40,
   "metadata": {},
   "outputs": [
    {
     "name": "stdout",
     "output_type": "stream",
     "text": [
      "['대우조선 하청노사 협상 불발..손해배상 이견 극복 실패', \"'9부 능선' 넘은 대우조선해양 하청 노사..21일 교섭 재개\", '코인·주식 다음은 부동산?..美 모기지 신청 22년래 최저', '7개 수입 생필품에 0% 할당관세..수입 쇠고기 첫 적용', \"대우조선 하청 노사협상 불발.. 쟁점은 '손해배상 소송'\", '베이커휴즈, 2분기 실적 월가 기대치 못미쳐 13% 급락', '美 6월 주택판매 감소에 2분기 GDP 전망치 하향', '대우조선 협력업체 노사 합의 불발..내일 오전 10시 재협상(2보)', \"[마켓인]롯데지주, 공모채 수요예측 연타석 '흥행'\", '뉴욕증시, 실적 발표 주시하며 혼조세로 출발', '18개국 장관 \"공급망 위기 극복 공조\"..공급망 탈중국 본격화 하나', '[단독]해시드, 테라·루나 폭락 전 1300억 매도..모럴헤저드 논란', \"동행복권, 복권판매인 및 소비자와 함께한 '따뜻한 동행'\", '\"공급망 위기에 긴밀히 공조\" 외친 17개국 장관들..中만 없었다', '美 뉴욕 증시, 넷플릭스 실적 선방에 혼조 출발']\n",
      "time :  0.3543109893798828\n"
     ]
    }
   ],
   "source": [
    "#**kwars 이거써서 코드 깔끔하게\n",
    "headers = {'user-agent': 'Mozilla/5.0 (Macintosh; Intel Mac OS X 10_15_7) AppleWebKit/537.36 (KHTML, like Gecko) Chrome/103.0.0.0 Safari/537.36'}\n",
    "\n",
    "def has_next_btn(html) -> bool:\n",
    "    next_btn = html.select(\"div.box_etc > div.paging_news > span.inner_paging > a.btn_page.btn_next\")\n",
    "    if len(next_btn) == 0:\n",
    "        return False\n",
    "    else:\n",
    "        return True\n",
    "    \n",
    "def makeURL_naver(search = \"\"):\n",
    "    print(\"makeURL_naver\")\n",
    "    \n",
    "def set_params() -> dict:\n",
    "    print({\"params\":\"params\"})\n",
    "\n",
    "def makeURL_daum(search = \"\", period=\"\", start_date=\"\", end_date=\"\") -> str:\n",
    "    url = \"https://search.daum.net/search?w=news&DA=STC&enc=utf8\"\n",
    "    period_url = \"\"\n",
    "    search_url = \"\"\n",
    "    \n",
    "    if period != \"\": #[TODO] 올바른 period가 안들어왔을때 에러 핸들링\n",
    "        period_url = \"&period=%s\" % (period)\n",
    "        \n",
    "        if period == \"u\": #기간 조정\n",
    "            period_url = period_url + \"&sd=%s&ed=%s\" % (start_date, end_date)\n",
    "    \n",
    "    if search !=\"\":\n",
    "        search_url = \"&q=%s\" % (search)\n",
    "    return url + period_url + search_url\n",
    "\n",
    "def return_select_func(html, request_type) -> list:\n",
    "    if request_type == \"search\":\n",
    "        return html.select(\"div.cont_divider > ul.list_news > li div.wrap_cont > a\")\n",
    "    elif request_type == \"normal\":\n",
    "        return html.select(\"div.box_etc > ul.list_news2.list_allnews > li div.cont_thumb > strong.tit_thumb > a\")\n",
    "\n",
    "def extract_title(url, request_type) -> bool:\n",
    "    try:\n",
    "        original_html = requests.get(url)\n",
    "        html = BeautifulSoup(original_html.text, \"html.parser\")        \n",
    "        title_list = return_select_func(html, request_type)\n",
    "        \n",
    "        print([title.get_text() for title in title_list])\n",
    "        if len(title_list) == 0 or not has_next_btn(html):\n",
    "            return False\n",
    "    except:\n",
    "        return False\n",
    "\n",
    "    return True\n",
    "\n",
    "def newsScrape(search):\n",
    "    URL = makeURL_daum(search)\n",
    "    for page_number in range(1, 11):\n",
    "        try:\n",
    "            original_html = requests.get(URL + \"&page=\" + str(page_number), headers = headers)\n",
    "            html = BeautifulSoup(original_html.text, \"html.parser\")\n",
    "            title_list = html.select(\"div.cont_divider > ul.list_news > li div.wrap_cont > a\")\n",
    "            if len(title_list) == 0:\n",
    "                break\n",
    "        except:\n",
    "            break\n",
    "\n",
    "\n",
    "        \n",
    "def newsType(newsType=\"\", date=\"\"):\n",
    "    THREAD_COUNT = 10\n",
    "    URL = \"https://news.daum.net/breakingnews/\"\n",
    "    if newsType != \"\":\n",
    "        URL = f\"{URL}{TYPE_CONFIG[newsType]}\"\n",
    "    \n",
    "    if date != \"\": \n",
    "        URL = f\"{URL}?regDate={date}\" \n",
    "        \n",
    "    page_num = 1\n",
    "    with ThreadPoolExecutor(THREAD_COUNT) as executor:\n",
    "        while(True):\n",
    "            url = f\"{URL}&page={str(page_num)}\"\n",
    "            future = executor.submit(extract_title, url, \"normal\")\n",
    "            page_num = page_num + 1\n",
    "            break\n",
    "            if not future.result():\n",
    "                break\n",
    "\n",
    "\n",
    "if __name__ == '__main__':        \n",
    "    start = time()\n",
    "    newsType(\"경제\", \"20220720\")\n",
    "    #newsScrape(\"우영우\")\n",
    "    print(\"time : \", time() - start)\n",
    "    \n",
    "    \n",
    "#[TODO] TYPE_CONFIG에 들어있지 않는 타입 들어왔을때 에러 핸들링\n",
    "#[TODO] 올바른 date가 아닐때 에러 핸들링"
   ]
  },
  {
   "cell_type": "code",
   "execution_count": null,
   "metadata": {},
   "outputs": [],
   "source": []
  }
 ],
 "metadata": {
  "kernelspec": {
   "display_name": "Python 3.9.10 64-bit",
   "language": "python",
   "name": "python3"
  },
  "language_info": {
   "codemirror_mode": {
    "name": "ipython",
    "version": 3
   },
   "file_extension": ".py",
   "mimetype": "text/x-python",
   "name": "python",
   "nbconvert_exporter": "python",
   "pygments_lexer": "ipython3",
   "version": "3.9.10"
  },
  "orig_nbformat": 4,
  "vscode": {
   "interpreter": {
    "hash": "aee8b7b246df8f9039afb4144a1f6fd8d2ca17a180786b69acc140d282b71a49"
   }
  }
 },
 "nbformat": 4,
 "nbformat_minor": 2
}

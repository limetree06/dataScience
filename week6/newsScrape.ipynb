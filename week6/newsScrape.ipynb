{
 "cells": [
  {
   "cell_type": "code",
   "execution_count": 2,
   "metadata": {},
   "outputs": [
    {
     "name": "stderr",
     "output_type": "stream",
     "text": [
      "/Users/Welcome/Library/Python/3.9/lib/python/site-packages/requests/__init__.py:109: RequestsDependencyWarning: urllib3 (1.26.9) or chardet (5.0.0)/charset_normalizer (2.0.12) doesn't match a supported version!\n",
      "  warnings.warn(\n"
     ]
    }
   ],
   "source": [
    "import requests\n",
    "from bs4 import BeautifulSoup\n",
    "import json\n",
    "from time import time\n",
    "\n",
    "from concurrent.futures import ThreadPoolExecutor\n",
    "from concurrent.futures import ProcessPoolExecutor\n",
    "from concurrent.futures import as_completed"
   ]
  },
  {
   "cell_type": "code",
   "execution_count": 3,
   "metadata": {},
   "outputs": [],
   "source": [
    "#utils.py part\n",
    "TYPE_CONFIG = {\n",
    "    \"사회\": \"society\",\n",
    "    \"정치\": \"politics\",\n",
    "    \"경제\": \"economic\",\n",
    "    \"국제\": \"foreign\",\n",
    "    \"문화\": \"culture\",\n",
    "    \"연예\": \"entertain\",\n",
    "    \"스포츠\": \"sports\",\n",
    "    \"IT\": \"digital\",\n",
    "    \"칼럼\": \"editorial\",\n",
    "    \"보도자료\": \"press\",\n",
    "}"
   ]
  },
  {
   "cell_type": "code",
   "execution_count": 42,
   "metadata": {},
   "outputs": [
    {
     "name": "stdout",
     "output_type": "stream",
     "text": [
      "<script type=\"text/javascript\">\n",
      "location.replace( \"https://ncaptcha.search.daum.net/captcha/show?redirect=http%3A%2F%2Fsearch.daum.net%2Fsearch%3Fw%3Dnews%26DA%3DSTC%26enc%3Dutf8%26q%3D%25EC%259A%25B0%25EC%2598%2581%25EC%259A%25B0%26page%3D1\" );\n",
      "</script>\n",
      "\n",
      "[]\n",
      "time :  0.06569194793701172\n"
     ]
    }
   ],
   "source": [
    "#**kwars 이거써서 코드 깔끔하게\n",
    "headers = {'user-agent': 'Mozilla/5.0 (Macintosh; Intel Mac OS X 10_15_7) AppleWebKit/537.36 (KHTML, like Gecko) Chrome/103.0.0.0 Safari/537.36'}\n",
    "\n",
    "def has_next_btn(html) -> bool:\n",
    "    next_btn = html.select(\"div.box_etc > div.paging_news > span.inner_paging > a.btn_page.btn_next\")\n",
    "    if len(next_btn) == 0:\n",
    "        return False\n",
    "    else:\n",
    "        return True\n",
    "    \n",
    "def makeURL_naver(search = \"\"):\n",
    "    print(\"makeURL_naver\")\n",
    "    \n",
    "def set_params() -> dict:\n",
    "    print({\"params\":\"params\"})\n",
    "\n",
    "def makeURL_daum(search = \"\", period=\"\", start_date=\"\", end_date=\"\") -> str:\n",
    "    url = \"https://search.daum.net/search?w=news&DA=STC&enc=utf8\"\n",
    "    period_url = \"\"\n",
    "    search_url = \"\"\n",
    "    \n",
    "    if period != \"\": #[TODO] 올바른 period가 안들어왔을때 에러 핸들링\n",
    "        period_url = \"&period=%s\" % (period)\n",
    "        \n",
    "        if period == \"u\": #기간 조정\n",
    "            period_url = period_url + \"&sd=%s&ed=%s\" % (start_date, end_date)\n",
    "    \n",
    "    if search !=\"\":\n",
    "        search_url = \"&q=%s\" % (search)\n",
    "    return url + period_url + search_url\n",
    "\n",
    "def return_select_func(html, request_type) -> list:\n",
    "    if request_type == \"search\":\n",
    "        return html.select(\"div.cont_divider > ul.list_news > li div.wrap_cont > a\")\n",
    "    elif request_type == \"normal\":\n",
    "        return html.select(\"div.box_etc > ul.list_news2.list_allnews > li div.cont_thumb > strong.tit_thumb > a\")\n",
    "\n",
    "def extract_title(url, request_type) -> bool:\n",
    "    try:\n",
    "        original_html = requests.get(url)\n",
    "        html = BeautifulSoup(original_html.text, \"html.parser\")\n",
    "        print(html)    \n",
    "        title_list = return_select_func(html, request_type)\n",
    "        \n",
    "        print([title.get_text() for title in title_list])\n",
    "        if len(title_list) == 0 or not has_next_btn(html):\n",
    "            return False\n",
    "    except:\n",
    "        return False\n",
    "\n",
    "    return True\n",
    "\n",
    "def newsScrape(search):\n",
    "    URL = makeURL_daum(search)\n",
    "    THREAD_COUNT = 10\n",
    "    page_num = 1\n",
    "    \n",
    "    with ThreadPoolExecutor(THREAD_COUNT) as executor:\n",
    "        while(True):\n",
    "            url = f\"{URL}&page={str(page_num)}\"\n",
    "            future = executor.submit(extract_title, url, \"search\")\n",
    "            page_num = page_num + 1\n",
    "            break\n",
    "            if not future.result():\n",
    "                break\n",
    "        \n",
    "def newsType(newsType=\"\", date=\"\"):\n",
    "    THREAD_COUNT = 10\n",
    "    page_num = 1\n",
    "    \n",
    "    BASE_URL = \"https://news.daum.net/breakingnews/\"\n",
    "    if newsType != \"\":\n",
    "        URL = f\"{BASE_URL}{TYPE_CONFIG[newsType]}\"\n",
    "    \n",
    "    if date != \"\": \n",
    "        URL = f\"{BASE_URL}?regDate={date}\" \n",
    "        \n",
    "    \n",
    "    with ThreadPoolExecutor(THREAD_COUNT) as executor:\n",
    "        while(True):\n",
    "            url = f\"{URL}&page={str(page_num)}\"\n",
    "            future = executor.submit(extract_title, url, \"normal\")\n",
    "            page_num = page_num + 1\n",
    "            break\n",
    "            if not future.result():\n",
    "                break\n",
    "\n",
    "\n",
    "if __name__ == '__main__':        \n",
    "    start = time()\n",
    "    #newsType(\"경제\", \"20220720\")\n",
    "    newsScrape(\"우영우\")\n",
    "    print(\"time : \", time() - start)\n",
    "    \n",
    "    \n",
    "#[TODO] TYPE_CONFIG에 들어있지 않는 타입 들어왔을때 에러 핸들링\n",
    "#[TODO] 올바른 date가 아닐때 에러 핸들링"
   ]
  },
  {
   "cell_type": "code",
   "execution_count": null,
   "metadata": {},
   "outputs": [],
   "source": []
  }
 ],
 "metadata": {
  "kernelspec": {
   "display_name": "Python 3.9.10 64-bit",
   "language": "python",
   "name": "python3"
  },
  "language_info": {
   "codemirror_mode": {
    "name": "ipython",
    "version": 3
   },
   "file_extension": ".py",
   "mimetype": "text/x-python",
   "name": "python",
   "nbconvert_exporter": "python",
   "pygments_lexer": "ipython3",
   "version": "3.9.10"
  },
  "orig_nbformat": 4,
  "vscode": {
   "interpreter": {
    "hash": "aee8b7b246df8f9039afb4144a1f6fd8d2ca17a180786b69acc140d282b71a49"
   }
  }
 },
 "nbformat": 4,
 "nbformat_minor": 2
}

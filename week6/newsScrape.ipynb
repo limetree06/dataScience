{
 "cells": [
  {
   "cell_type": "code",
   "execution_count": 1,
   "metadata": {},
   "outputs": [
    {
     "name": "stderr",
     "output_type": "stream",
     "text": [
      "/Users/Welcome/Library/Python/3.9/lib/python/site-packages/requests/__init__.py:109: RequestsDependencyWarning: urllib3 (1.26.9) or chardet (5.0.0)/charset_normalizer (2.0.12) doesn't match a supported version!\n",
      "  warnings.warn(\n"
     ]
    }
   ],
   "source": [
    "import requests\n",
    "from bs4 import BeautifulSoup\n",
    "import json"
   ]
  },
  {
   "cell_type": "code",
   "execution_count": 25,
   "metadata": {},
   "outputs": [
    {
     "name": "stdout",
     "output_type": "stream",
     "text": [
      "\"반려견 이름 연우\"..김연아♥고우림 결혼, 팬들은 진작 알고 있었다\n",
      "김연아-고우림 \"확고한 믿음\" 10월 결혼할 결심[종합]\n",
      "김연아, 성악가 고우림씨와 결혼\n",
      "[종합]김연아, '품절녀 곰신' 예약..♥고우림과 3년 열애→10월 결혼\n",
      "김연아 결혼발표, 고우림은 누구?\n",
      "'피겨 여왕' 김연아, 성악가 고우림과 10월 결혼\n",
      "'피겨여왕' 김연아 결혼 소식에 일본 언론도 '들썩'\n",
      "'김연아 시아버지' 되는 고경수 목사 \"예비 며느리는 착한 사람\"\n",
      "'피겨 퀸' 김연아, 포레스텔라 고우림과 10월 결혼\n",
      "김연아·고우림 결혼에 아시아도 들썩..화제의 중심\n"
     ]
    }
   ],
   "source": [
    "def makeURL(search = \"\", period=\"\", start_date=\"\", end_date=\"\") -> str:\n",
    "    url = \"https://search.daum.net/search?w=news&DA=STC&enc=utf8\"\n",
    "    \n",
    "    if period != \"\":\n",
    "        period_url = \"&period=%s\" % (period)\n",
    "        \n",
    "        elif period == \"u\": #기간 조정\n",
    "            period_url = period_url + \"&sd=%s&ed=%s\" % (start_date, end_date)\n",
    "    \n",
    "    if search !=\"\":\n",
    "        search_url = \"&q=%s\" % (search)\n",
    "    \n",
    "    return url\n",
    "\n",
    "def newsScrape(search):\n",
    "    URL = makeURL(search)\n",
    "    original_html = requests.get(URL)\n",
    "    html = BeautifulSoup(original_html.text, \"html.parser\")\n",
    "    title_list = html.select(\"div.cont_divider > ul.list_news > li div.wrap_cont > a\")\n",
    "    #content_list = html.select(\"div.cont_divider > ul.list_news > li div.wrap_cont > p\")\n",
    "\n",
    "    for i in title_list:\n",
    "        print(i.get_text())\n",
    "\n",
    "\n",
    "\n",
    "#search 없을때 날짜로만 데이터 수집할때는\n",
    "url = \"https://news.daum.net/breakingnews/\""
   ]
  }
 ],
 "metadata": {
  "kernelspec": {
   "display_name": "Python 3.9.10 64-bit",
   "language": "python",
   "name": "python3"
  },
  "language_info": {
   "codemirror_mode": {
    "name": "ipython",
    "version": 3
   },
   "file_extension": ".py",
   "mimetype": "text/x-python",
   "name": "python",
   "nbconvert_exporter": "python",
   "pygments_lexer": "ipython3",
   "version": "3.9.10"
  },
  "orig_nbformat": 4,
  "vscode": {
   "interpreter": {
    "hash": "aee8b7b246df8f9039afb4144a1f6fd8d2ca17a180786b69acc140d282b71a49"
   }
  }
 },
 "nbformat": 4,
 "nbformat_minor": 2
}

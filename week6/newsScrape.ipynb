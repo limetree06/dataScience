{
 "cells": [
  {
   "cell_type": "code",
   "execution_count": 2,
   "metadata": {},
   "outputs": [
    {
     "name": "stderr",
     "output_type": "stream",
     "text": [
      "/Users/Welcome/Library/Python/3.9/lib/python/site-packages/requests/__init__.py:109: RequestsDependencyWarning: urllib3 (1.26.9) or chardet (5.0.0)/charset_normalizer (2.0.12) doesn't match a supported version!\n",
      "  warnings.warn(\n"
     ]
    }
   ],
   "source": [
    "import requests\n",
    "from bs4 import BeautifulSoup\n",
    "import json\n",
    "from time import time\n",
    "\n",
    "from concurrent.futures import ThreadPoolExecutor\n",
    "from concurrent.futures import ProcessPoolExecutor\n",
    "from concurrent.futures import as_completed"
   ]
  },
  {
   "cell_type": "code",
   "execution_count": 22,
   "metadata": {},
   "outputs": [],
   "source": [
    "#utils.py part\n",
    "TYPE_CONFIG = {\n",
    "    \"사회\": \"society\",\n",
    "    \"정치\": \"politics\",\n",
    "    \"경제\": \"economic\",\n",
    "    \"국제\": \"foreign\",\n",
    "    \"문화\": \"culture\",\n",
    "    \"연예\": \"entertain\",\n",
    "    \"스포츠\": \"sports\",\n",
    "    \"IT\": \"digital\",\n",
    "    \"칼럼\": \"editorial\",\n",
    "    \"보도자료\": \"press\",\n",
    "}"
   ]
  },
  {
   "cell_type": "code",
   "execution_count": 45,
   "metadata": {},
   "outputs": [
    {
     "name": "stdout",
     "output_type": "stream",
     "text": [
      "<Future at 0x10d21a340 state=running>\n",
      "<Future at 0x10ce41a00 state=running>\n",
      "<Future at 0x10ce41e20 state=running>\n",
      "<Future at 0x10d2044c0 state=running>\n",
      "<Future at 0x10d6918e0 state=running>\n",
      "<Future at 0x10d3a98b0 state=running>\n",
      "<Future at 0x10d61e0a0 state=running>\n",
      "<Future at 0x10d3fc2e0 state=running>\n",
      "<Future at 0x10d3fcbe0 state=running>\n",
      "<Future at 0x10d3ee520 state=running>\n",
      "time : 0.6510539054870605\n"
     ]
    }
   ],
   "source": [
    "#**kwars 이거써서 코드 깔끔하게\n",
    "headers = {'user-agent': 'Mozilla/5.0 (Macintosh; Intel Mac OS X 10_15_7) AppleWebKit/537.36 (KHTML, like Gecko) Chrome/103.0.0.0 Safari/537.36'}\n",
    "\n",
    "def makeURL(search = \"\", period=\"\", start_date=\"\", end_date=\"\") -> str:\n",
    "    url = \"https://search.daum.net/search?w=news&DA=STC&enc=utf8\"\n",
    "    period_url = \"\"\n",
    "    search_url = \"\"\n",
    "    \n",
    "    if period != \"\": #[TODO] 올바른 period가 안들어왔을때 에러 핸들링\n",
    "        period_url = \"&period=%s\" % (period)\n",
    "        \n",
    "        if period == \"u\": #기간 조정\n",
    "            period_url = period_url + \"&sd=%s&ed=%s\" % (start_date, end_date)\n",
    "    \n",
    "    if search !=\"\":\n",
    "        search_url = \"&q=%s\" % (search)\n",
    "    \n",
    "    return url + period_url + search_url\n",
    "\n",
    "def newsScrape(search):\n",
    "    URL = makeURL(search)\n",
    "    count = 1\n",
    "    for page_number in range(1, 81):\n",
    "        try:\n",
    "            original_html = requests.get(URL + \"&page=\" + str(page_number), headers = headers)\n",
    "            html = BeautifulSoup(original_html.text, \"html.parser\")\n",
    "            print(html)\n",
    "            title_list = html.select(\"div.cont_divider > ul.list_news > li div.wrap_cont > a\")\n",
    "            if len(title_list) == 0:\n",
    "                break\n",
    "            else:\n",
    "                count = count + 1\n",
    "                print(count)\n",
    "        except(error):\n",
    "            print(\"Error from news scrape function\", error)\n",
    "            break\n",
    "\n",
    "def task(url) -> bool:\n",
    "    try:\n",
    "        original_html = requests.get(url)\n",
    "        #parsing and getting title\n",
    "        html = BeautifulSoup(original_html.text, \"html.parser\")\n",
    "        title_list = html.select(\"div.box_etc > ul.list_news2.list_allnews > li div.cont_thumb > strong.tit_thumb > a\")\n",
    "        \n",
    "        if len(title_list) ==0:\n",
    "            return False\n",
    "        \n",
    "    except(error):\n",
    "        print(\"Error from newsType function\", error, count)\n",
    "        return False\n",
    "    \n",
    "    finally:\n",
    "        return True\n",
    "        \n",
    "def newsType(newsType=\"\", date=\"\"):\n",
    "    THREAD_COUNT = 10\n",
    "    URL = \"https://news.daum.net/breakingnews/\"\n",
    "    if newsType !=\"\":\n",
    "        URL = URL + TYPE_CONFIG[newsType] #[TODO] TYPE_CONFIG에 들어있지 않는 타입 들어왔을때 에러 핸들링\n",
    "    \n",
    "    if date != \"\":  #[TODO] 올바른 date가 아닐때 에러 핸들링\n",
    "        URL = URL + \"?regDate=\" + date\n",
    "        \n",
    "    count = 1\n",
    "    with ThreadPoolExecutor(THREAD_COUNT) as executor:\n",
    "        while(True):\n",
    "            url = URL + \"&page=\" + str(count)\n",
    "            task_return = executor.submit(task, url)\n",
    "            print(task_return)\n",
    "            count = count + 1\n",
    "            if count > 10:\n",
    "                break\n",
    "\n",
    "if __name__ == '__main__':        \n",
    "    start = time()\n",
    "    newsType(\"경제\", \"20220720\")\n",
    "    print(\"time :\", time() - start)\n",
    "    #newsScrape(\"우영우\")"
   ]
  }
 ],
 "metadata": {
  "kernelspec": {
   "display_name": "Python 3.9.10 64-bit",
   "language": "python",
   "name": "python3"
  },
  "language_info": {
   "codemirror_mode": {
    "name": "ipython",
    "version": 3
   },
   "file_extension": ".py",
   "mimetype": "text/x-python",
   "name": "python",
   "nbconvert_exporter": "python",
   "pygments_lexer": "ipython3",
   "version": "3.9.10"
  },
  "orig_nbformat": 4,
  "vscode": {
   "interpreter": {
    "hash": "aee8b7b246df8f9039afb4144a1f6fd8d2ca17a180786b69acc140d282b71a49"
   }
  }
 },
 "nbformat": 4,
 "nbformat_minor": 2
}

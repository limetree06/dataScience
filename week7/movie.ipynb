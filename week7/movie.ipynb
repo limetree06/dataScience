{
 "cells": [
  {
   "cell_type": "code",
   "execution_count": 1,
   "metadata": {},
   "outputs": [
    {
     "ename": "ModuleNotFoundError",
     "evalue": "No module named 'bs4'",
     "output_type": "error",
     "traceback": [
      "\u001b[0;31m---------------------------------------------------------------------------\u001b[0m",
      "\u001b[0;31mModuleNotFoundError\u001b[0m                       Traceback (most recent call last)",
      "\u001b[0;32m<ipython-input-1-2bbbae39d67f>\u001b[0m in \u001b[0;36m<module>\u001b[0;34m\u001b[0m\n\u001b[1;32m      4\u001b[0m \u001b[0;32mimport\u001b[0m \u001b[0mrequests\u001b[0m\u001b[0;34m\u001b[0m\u001b[0;34m\u001b[0m\u001b[0m\n\u001b[1;32m      5\u001b[0m \u001b[0;32mimport\u001b[0m \u001b[0mplotly\u001b[0m\u001b[0;34m.\u001b[0m\u001b[0mgraph_objects\u001b[0m \u001b[0;32mas\u001b[0m \u001b[0mgo\u001b[0m\u001b[0;34m\u001b[0m\u001b[0;34m\u001b[0m\u001b[0m\n\u001b[0;32m----> 6\u001b[0;31m \u001b[0;32mfrom\u001b[0m \u001b[0mbs4\u001b[0m \u001b[0;32mimport\u001b[0m \u001b[0mBeautifulSoup\u001b[0m\u001b[0;34m\u001b[0m\u001b[0;34m\u001b[0m\u001b[0m\n\u001b[0m\u001b[1;32m      7\u001b[0m \u001b[0;32mfrom\u001b[0m \u001b[0mplotly\u001b[0m\u001b[0;34m.\u001b[0m\u001b[0msubplots\u001b[0m \u001b[0;32mimport\u001b[0m \u001b[0mmake_subplots\u001b[0m\u001b[0;34m\u001b[0m\u001b[0;34m\u001b[0m\u001b[0m\n",
      "\u001b[0;31mModuleNotFoundError\u001b[0m: No module named 'bs4'"
     ]
    }
   ],
   "source": [
    "import pandas as pd\n",
    "import json\n",
    "import plotly.express as px\n",
    "import requests\n",
    "import plotly.graph_objects as go\n",
    "from bs4 import BeautifulSoup\n",
    "from plotly.subplots import make_subplots"
   ]
  },
  {
   "cell_type": "code",
   "execution_count": 9,
   "metadata": {},
   "outputs": [
    {
     "name": "stderr",
     "output_type": "stream",
     "text": [
      "/usr/local/lib/python3.9/site-packages/IPython/core/interactiveshell.py:3169: DtypeWarning: Columns (11,15,16) have mixed types.Specify dtype option on import or set low_memory=False.\n",
      "  has_raised = await self.run_ast_nodes(code_ast.body, cell_name,\n"
     ]
    },
    {
     "name": "stdout",
     "output_type": "stream",
     "text": [
      "           rec_key   book_key  \\\n",
      "0         70781572   70090857   \n",
      "1         72244459   72083065   \n",
      "2         70781573   70340819   \n",
      "3         72244460   72092779   \n",
      "4         70781574   70597610   \n",
      "...            ...        ...   \n",
      "1407026  500363066  170408202   \n",
      "1407027  500363069  500289340   \n",
      "1407028  500363131  170314119   \n",
      "1407029  500363132  170407942   \n",
      "1407030  500363169  500121813   \n",
      "\n",
      "                                                  user_key  \\\n",
      "0        4f1f33d52e8598697eebdc3b2fe4c28610ccefa9e0f630...   \n",
      "1        f9e42b0f80eae99efa4983d3a82184a2b68f28560fc525...   \n",
      "2        4f1f33d52e8598697eebdc3b2fe4c28610ccefa9e0f630...   \n",
      "3        f9e42b0f80eae99efa4983d3a82184a2b68f28560fc525...   \n",
      "4        d034bacb7f0ed5a85919fb4075b6845238f656e7e61823...   \n",
      "...                                                    ...   \n",
      "1407026  bcc43d70aa311f959ef9ad360ef5f5885a2a0eaa2d70b5...   \n",
      "1407027  bcc43d70aa311f959ef9ad360ef5f5885a2a0eaa2d70b5...   \n",
      "1407028  7e15478655d0a6d78cdd2ba7019b8808cffa75d27136f3...   \n",
      "1407029  7e15478655d0a6d78cdd2ba7019b8808cffa75d27136f3...   \n",
      "1407030  be42c88383a06c0be7fa56d401447ba863c86679a35c6c...   \n",
      "\n",
      "                     loan_date            return_date  lib_code  \\\n",
      "0        2015-04-23 12:00:00.0  2015-04-30 12:00:00.0     33001   \n",
      "1        2021-07-25 12:00:00.0  2021-08-08 12:00:00.0     33000   \n",
      "2        2015-04-23 12:00:00.0  2015-04-30 12:00:00.0     33001   \n",
      "3        2021-07-25 12:00:00.0  2021-08-08 12:00:00.0     33000   \n",
      "4        2015-04-23 12:00:00.0  2015-04-30 12:00:00.0     33001   \n",
      "...                        ...                    ...       ...   \n",
      "1407026  2022-06-24 12:00:00.0  2022-06-28 12:00:00.0     33300   \n",
      "1407027  2022-06-24 12:00:00.0  2022-06-28 12:00:00.0     33300   \n",
      "1407028  2022-06-28 12:00:00.0                    NaN     33300   \n",
      "1407029  2022-06-28 12:00:00.0                    NaN     33300   \n",
      "1407030  2022-06-28 12:00:00.0                    NaN     33300   \n",
      "\n",
      "         loan_type_code  return_type_code       return_plan_date  \\\n",
      "0                     0               0.0  2015-05-07 12:00:00.0   \n",
      "1                     3               3.0  2021-08-08 12:00:00.0   \n",
      "2                     0               0.0  2015-05-07 12:00:00.0   \n",
      "3                     3               3.0  2021-08-08 12:00:00.0   \n",
      "4                     0               0.0  2015-05-07 12:00:00.0   \n",
      "...                 ...               ...                    ...   \n",
      "1407026               0               0.0  2022-07-15 12:00:00.0   \n",
      "1407027               0               0.0  2022-07-15 12:00:00.0   \n",
      "1407028               0               NaN  2022-07-12 12:00:00.0   \n",
      "1407029               0               NaN  2022-07-12 12:00:00.0   \n",
      "1407030               0               NaN  2022-07-19 12:00:00.0   \n",
      "\n",
      "        reservation_date reservation_expire_date status  l_device  r_device  \\\n",
      "0                    NaN                     NaN      1  KOLASIII  KOLASIII   \n",
      "1                    NaN                     NaN      1   SMARTID   SMARTID   \n",
      "2                    NaN                     NaN      1  KOLASIII  KOLASIII   \n",
      "3                    NaN                     NaN      1   SMARTID   SMARTID   \n",
      "4                    NaN                     NaN      1  KOLASIII  KOLASIII   \n",
      "...                  ...                     ...    ...       ...       ...   \n",
      "1407026              NaN                     NaN      1  KOLASIII  KOLASIII   \n",
      "1407027              NaN                     NaN      1  KOLASIII  KOLASIII   \n",
      "1407028              NaN                     NaN      0  KOLASIII       NaN   \n",
      "1407029              NaN                     NaN      0  KOLASIII       NaN   \n",
      "1407030              NaN                     NaN      2  KOLASIII       NaN   \n",
      "\n",
      "        manage_code loan_manage_code return_manage_code  master_lib_code  \n",
      "0                MA              NaN                NaN            33000  \n",
      "1                MF               MF                 MF            33000  \n",
      "2                MA              NaN                NaN            33000  \n",
      "3                MF               MF                 MF            33000  \n",
      "4                MA              NaN                NaN            33000  \n",
      "...             ...              ...                ...              ...  \n",
      "1407026          MA              NaN                NaN            33300  \n",
      "1407027          MA              NaN                NaN            33300  \n",
      "1407028          MA              NaN                NaN            33300  \n",
      "1407029          MA              NaN                NaN            33300  \n",
      "1407030          MA              NaN                NaN            33300  \n",
      "\n",
      "[1407031 rows x 18 columns]\n"
     ]
    }
   ],
   "source": [
    "reasons = pd.read_csv('test.csv')\n",
    "print(reasons)"
   ]
  }
 ],
 "metadata": {
  "kernelspec": {
   "display_name": "Python 3",
   "language": "python",
   "name": "python3"
  },
  "language_info": {
   "codemirror_mode": {
    "name": "ipython",
    "version": 3
   },
   "file_extension": ".py",
   "mimetype": "text/x-python",
   "name": "python",
   "nbconvert_exporter": "python",
   "pygments_lexer": "ipython3",
   "version": "3.8.5"
  },
  "vscode": {
   "interpreter": {
    "hash": "47cf2fb08b1f68ef74f824cfe5681425e28e7b47a5b16d59a1aeb8701101f17e"
   }
  }
 },
 "nbformat": 4,
 "nbformat_minor": 2
}

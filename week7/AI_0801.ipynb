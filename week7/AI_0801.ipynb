{
  "nbformat": 4,
  "nbformat_minor": 0,
  "metadata": {
    "colab": {
      "name": "AI_0801.ipynb",
      "provenance": [],
      "collapsed_sections": []
    },
    "kernelspec": {
      "name": "python3",
      "display_name": "Python 3"
    },
    "language_info": {
      "name": "python"
    }
  },
  "cells": [
    {
      "cell_type": "code",
      "execution_count": null,
      "metadata": {
        "colab": {
          "base_uri": "https://localhost:8080/"
        },
        "id": "KKR_-0PD7tr3",
        "outputId": "ff65d3b2-f549-4ec1-adec-7632bab9df82"
      },
      "outputs": [
        {
          "output_type": "execute_result",
          "data": {
            "text/plain": [
              "300"
            ]
          },
          "metadata": {},
          "execution_count": 4
        }
      ],
      "source": [
        "class Rectangle(object):\n",
        "  def __init__(self,x,y):\n",
        "    self.x = x\n",
        "    self.y = y\n",
        "\n",
        "  def area(self):\n",
        "    return self.x *self.y\n",
        "\n",
        "a1 = Rectangle(10,30)\n",
        "a1.area()"
      ]
    },
    {
      "cell_type": "code",
      "source": [
        "class person():\n",
        "  def __init__(self,name,age,blood_type):\n",
        "    self.name = name\n",
        "    self.age = age\n",
        "    self.blood_type =blood_type\n",
        "\n",
        "  def info(self):\n",
        "    print(f\"++{self.name}의 정보++\\n  나이 : {self.age}\\n  혈액형 : {self.blood_type}\")\n",
        "    print(\"=============\")\n",
        "\n",
        "jua = person('jua',18,'B')\n",
        "jua.info()\n",
        "\n",
        "Minji = person(\"Minji\",20,'B')\n",
        "Minji.info()\n",
        "\n",
        "seo_in = person('seo_in',18,'B')\n",
        "seo_in.info()\n",
        "\n",
        "yojin = person('yojin',18,'A')\n",
        "yojin.info()\n",
        "\n",
        "SEUNG_BIN = person('SEUNG_BIN',20,'A')\n",
        "SEUNG_BIN.info()\n"
      ],
      "metadata": {
        "colab": {
          "base_uri": "https://localhost:8080/"
        },
        "id": "3gXNdgv69pWb",
        "outputId": "60a70c43-2b58-4ec5-be24-1eacd882b02e"
      },
      "execution_count": null,
      "outputs": [
        {
          "output_type": "stream",
          "name": "stdout",
          "text": [
            "++jua의 정보++\n",
            "  나이 : 18\n",
            "  혈액형 : B\n",
            "=============\n",
            "++Minji의 정보++\n",
            "  나이 : 20\n",
            "  혈액형 : B\n",
            "=============\n",
            "++seo_in의 정보++\n",
            "  나이 : 18\n",
            "  혈액형 : B\n",
            "=============\n",
            "++yojin의 정보++\n",
            "  나이 : 18\n",
            "  혈액형 : A\n",
            "=============\n",
            "++SEUNG_BIN의 정보++\n",
            "  나이 : 20\n",
            "  혈액형 : A\n",
            "=============\n"
          ]
        }
      ]
    },
    {
      "cell_type": "code",
      "source": [
        "class Car():\n",
        "  def __init__(self,fuel,max):\n",
        "    self.power = False\n",
        "    self.crash = 0\n",
        "    self.fuel = fuel\n",
        "    self.max = max\n",
        "\n",
        "    print(\"========================\")\n",
        "    print(f\"현재 연료량: {self.fuel}\")\n",
        "    \n",
        "\n",
        "  def turn_on(self):\n",
        "    if self.power == False :\n",
        "      self.power = True\n",
        "      print(\"========================\")\n",
        "      print(f\"시동걸림\")\n",
        "    else:\n",
        "      self.power = False\n",
        "      print(\"========================\")\n",
        "      print(f\"시동꺼짐\")\n",
        "  \n",
        "  def refueling(self):\n",
        "    print(\"========================\")\n",
        "    print(f\"현재 연료량 :{self.fuel}\")\n",
        "    print(f\"충전 필요량 : {self.max - self.fuel}\")\n",
        "    print(\"========================\")\n",
        "    while(True):\n",
        "      n = int(input(\"얼마나 충전하시겠습니까?\"))\n",
        "      if self.fuel + n > self.max:\n",
        "        print(\"너무 많다.\")\n",
        "\n",
        "      self.fuel += n\n",
        "      print(f\"충전되었습니다.\\n현재 충전량{self.fuel}\")\n",
        "      break\n",
        "\n",
        "  def crashed(self):\n",
        "    print(\"========================\")\n",
        "    print(\"당신은 사고가 났습니다. 자동차 max연료량이 감소합니다.\")\n",
        "    self.crash +=1\n",
        "    self.max = self.max - 5\n",
        "    print(f\"현재 max량 {self.max} 입니다.\")\n",
        "\n",
        "\n",
        "  def drive(self,km):\n",
        "    \n",
        "    if self.power == False:\n",
        "      print(\"========================\")\n",
        "      print(\"시동 걸어라\")\n",
        "    else:\n",
        "      self.km = km\n",
        "      x = 2\n",
        "      if self.km*x >self.fuel:\n",
        "        print(\"========================\")\n",
        "        print(\"너무 멀리왔어요\")\n",
        "      else:\n",
        "        print(\"========================\")\n",
        "        print(f\"km당 연료량은 {self.km*x} 입니다.\")\n",
        "        self.fuel = self.fuel - self.km * x\n",
        "        print(f\"남은 연료량은 {self.fuel} 입니다.\")\n",
        "        print(\"좋은시간\")\n",
        "\n",
        "\n",
        "mine = Car(20,45)\n",
        "mine.turn_on()\n",
        "mine.refueling()\n",
        "mine.drive(10)\n",
        "mine.crashed()"
      ],
      "metadata": {
        "colab": {
          "base_uri": "https://localhost:8080/"
        },
        "id": "aUCluPTOFUDD",
        "outputId": "b1ed87cc-a163-4d1f-8733-076f4be705da"
      },
      "execution_count": null,
      "outputs": [
        {
          "output_type": "stream",
          "name": "stdout",
          "text": [
            "========================\n",
            "현재 연료량: 20\n",
            "========================\n",
            "시동걸림\n",
            "========================\n",
            "현재 연료량 :20\n",
            "충전 필요량 : 25\n",
            "========================\n",
            "얼마나 충전하시겠습니까?20\n",
            "충전되었습니다.\n",
            "현재 충전량40\n",
            "========================\n",
            "km당 연료량은 20 입니다.\n",
            "남은 연료량은 20 입니다.\n",
            "좋은시간\n",
            "========================\n",
            "당신은 사고가 났습니다. 자동차 max연료량이 감소합니다.\n",
            "현재 max량 40 입니다.\n"
          ]
        }
      ]
    },
    {
      "cell_type": "code",
      "source": [
        "import numpy as np\n",
        "\n",
        "a1 = np.array([[1,2,3],[3,2,1]])\n",
        "a2 = np.array([[4,8],[3,5],[8,9]])\n",
        "\n",
        "x1 = np.array([[3,10],[60,33]])\n",
        "x2 = np.array([[4,22],[62,34]])\n",
        "\n",
        "print(x1+x2)\n",
        "print(x1-x2)\n",
        "\n",
        "print(a1, a2)\n",
        "\n",
        "print(a1.shape)\n",
        "print(a2.shape)\n",
        "\n",
        "\n",
        "print(np.dot(a1,a2))\n",
        "print(np.min(a1)+np.max(a2))\n",
        "print(np.max(a2))\n",
        "print(np.mean(a1))\n",
        "\n",
        "\n"
      ],
      "metadata": {
        "colab": {
          "base_uri": "https://localhost:8080/"
        },
        "id": "TB7q1mSX8e8C",
        "outputId": "9246083f-ee71-4e9b-b2cd-a6da687ebc4a"
      },
      "execution_count": null,
      "outputs": [
        {
          "output_type": "stream",
          "name": "stdout",
          "text": [
            "[[  7  32]\n",
            " [122  67]]\n",
            "[[ -1 -12]\n",
            " [ -2  -1]]\n",
            "[[1 2 3]\n",
            " [3 2 1]] [[4 8]\n",
            " [3 5]\n",
            " [8 9]]\n",
            "(2, 3)\n",
            "(3, 2)\n",
            "[[34 45]\n",
            " [26 43]]\n",
            "10\n",
            "9\n",
            "2.0\n"
          ]
        }
      ]
    },
    {
      "cell_type": "code",
      "source": [
        "import numpy as np\n",
        "import matplotlib.pyplot as plt\n",
        "\n",
        "x = np.arange(0,10,0.2)\n",
        "y = np.sin(x)\n",
        "\n",
        "plt.plot(x,y,'pink', marker='o', linestyle=' ')\n",
        "plt.show()"
      ],
      "metadata": {
        "colab": {
          "base_uri": "https://localhost:8080/",
          "height": 265
        },
        "id": "wPktJCkOBWTX",
        "outputId": "73249d56-2d4f-4466-9699-56d87d5fea98"
      },
      "execution_count": null,
      "outputs": [
        {
          "output_type": "display_data",
          "data": {
            "text/plain": [
              "<Figure size 432x288 with 1 Axes>"
            ],
            "image/png": "[encoded data removed]"
          },
          "metadata": {
            "needs_background": "light"
          }
        }
      ]
    },
    {
      "cell_type": "code",
      "source": [
        "import matplotlib.pyplot as plt\n",
        "from numpy import sin\n",
        "from numpy import cos\n",
        "import numpy as np\n",
        " \n",
        "x = np.linspace(-2, 2, 10000000)\n",
        "f = lambda x: np.sqrt(cos(x)) * cos(80 * x) + 0.5 * np.sqrt(abs(x))\n",
        "\n",
        "plt.plot(x, f(x))\n",
        "plt.show()"
      ],
      "metadata": {
        "colab": {
          "base_uri": "https://localhost:8080/",
          "height": 301
        },
        "id": "RGiZ2Ba3Fs1c",
        "outputId": "bf12cebe-8e96-4de2-c51a-f97f512c85ad"
      },
      "execution_count": null,
      "outputs": [
        {
          "output_type": "stream",
          "name": "stderr",
          "text": [
            "/usr/local/lib/python3.7/dist-packages/ipykernel_launcher.py:7: RuntimeWarning: invalid value encountered in sqrt\n",
            "  import sys\n"
          ]
        },
        {
          "output_type": "display_data",
          "data": {
            "text/plain": [
              "<Figure size 432x288 with 1 Axes>"
            ],
            "image/png": "[encoded data removed]"
          },
          "metadata": {
            "needs_background": "light"
          }
        }
      ]
    }
  ]
}
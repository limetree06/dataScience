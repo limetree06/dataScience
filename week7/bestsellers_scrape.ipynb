{
 "cells": [
  {
   "cell_type": "code",
   "execution_count": 4,
   "metadata": {},
   "outputs": [],
   "source": [
    "import pandas as pd\n",
    "from bs4 import BeautifulSoup\n",
    "import requests\n",
    "import json\n",
    "\n",
    "from concurrent.futures import ThreadPoolExecutor\n",
    "from concurrent.futures import ProcessPoolExecutor\n",
    "from concurrent.futures import as_completed"
   ]
  },
  {
   "cell_type": "code",
   "execution_count": 7,
   "metadata": {},
   "outputs": [],
   "source": [
    "def html_select(html, path):\n",
    "    return html.select(path)"
   ]
  },
  {
   "cell_type": "code",
   "execution_count": 10,
   "metadata": {},
   "outputs": [],
   "source": [
    "years = [str(year + 2000) for year in range(22)]\n",
    "\n",
    "id_list = '#Myform > div.ss_book_box'\n",
    "title_path = 'a.Ere_bo_title'\n",
    "price_path = 'span.Ere_fs24'\n",
    "page_path = 'div.conts_info_list1 > ul > li'\n",
    "type_path = 'div.conts_info_list2 > ul > li > a'\n",
    "bestsellers = []\n",
    "for year in years:\n",
    "    BASE_URL = f\"https://www.aladin.co.kr/shop/common/wbest.aspx?BestType=YearlyBest&BranchType=1&CID=0&Year={year}\"\n",
    "    original_html = requests.get(BASE_URL)\n",
    "    html = BeautifulSoup(original_html.text, \"html.parser\")\n",
    "    books = html_select(html, id_list)\n",
    "    book_id_list = [item[\"itemid\"] for item in books]\n",
    "    \n",
    "    \n",
    "    for index, itemid in enumerate(book_id_list) : \n",
    "        product_url = f\"https://www.aladin.co.kr/shop/wproduct.aspx?ItemId={itemid}\"\n",
    "        product_html = requests.get(product_url)\n",
    "        html = BeautifulSoup(product_html.text, \"html.parser\")\n",
    "        \n",
    "        book_title = html.select(title_path)[0].get_text()\n",
    "        book_price = html.select(price_path)[0].get_text()\n",
    "        book_page = html.select(page_path)[0].get_text()\n",
    "        \n",
    "        if book_page == \"양장본\":\n",
    "            book_page = html.select(page_path)[1].get_text()\n",
    "                \n",
    "        book_type = html.select(type_path)[1].get_text()\n",
    "        \n",
    "        bestsellers.append([year, index+1, book_title, book_price, book_page, book_type])"
   ]
  },
  {
   "cell_type": "code",
   "execution_count": 12,
   "metadata": {},
   "outputs": [],
   "source": [
    "df = pd.DataFrame(bestsellers, columns=[\"연도\",\"순위\",\"제목\", \"가격\",\"페이지\",\"장르\"])\n",
    "df.to_excel('./bestsellers.xlsx')"
   ]
  }
 ],
 "metadata": {
  "kernelspec": {
   "display_name": "Python 3.9.10 64-bit",
   "language": "python",
   "name": "python3"
  },
  "language_info": {
   "codemirror_mode": {
    "name": "ipython",
    "version": 3
   },
   "file_extension": ".py",
   "mimetype": "text/x-python",
   "name": "python",
   "nbconvert_exporter": "python",
   "pygments_lexer": "ipython3",
   "version": "3.9.10"
  },
  "orig_nbformat": 4,
  "vscode": {
   "interpreter": {
    "hash": "aee8b7b246df8f9039afb4144a1f6fd8d2ca17a180786b69acc140d282b71a49"
   }
  }
 },
 "nbformat": 4,
 "nbformat_minor": 2
}

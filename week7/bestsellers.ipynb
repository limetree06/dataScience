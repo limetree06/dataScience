{
 "cells": [
  {
   "cell_type": "code",
   "execution_count": 13,
   "metadata": {},
   "outputs": [],
   "source": [
    "import pandas as pd\n",
    "from bs4 import BeautifulSoup\n",
    "import requests\n",
    "import json"
   ]
  },
  {
   "cell_type": "code",
   "execution_count": 24,
   "metadata": {},
   "outputs": [
    {
     "ename": "SyntaxError",
     "evalue": "invalid syntax (<ipython-input-24-b3f143b29d49>, line 5)",
     "output_type": "error",
     "traceback": [
      "\u001b[0;36m  File \u001b[0;32m\"<ipython-input-24-b3f143b29d49>\"\u001b[0;36m, line \u001b[0;32m5\u001b[0m\n\u001b[0;31m    title_list = html.find_all('div', class='ss_book_box')\u001b[0m\n\u001b[0m                                      ^\u001b[0m\n\u001b[0;31mSyntaxError\u001b[0m\u001b[0;31m:\u001b[0m invalid syntax\n"
     ]
    }
   ],
   "source": [
    "years = [str(year + 2000) for year in range(22)]\n",
    "BASE_URL = \"https://www.aladin.co.kr/shop/common/wbest.aspx?BestType=YearlyBest&BranchType=1&CID=0&Year=2021\"\n",
    "original_html = requests.get(BASE_URL)\n",
    "html = BeautifulSoup(original_html.text, \"html.parser\")\n",
    "title_list = html.find_all('div', class='ss_book_box')\n",
    "print(title_list)"
   ]
  }
 ],
 "metadata": {
  "kernelspec": {
   "display_name": "Python 3.8.5 64-bit ('base': conda)",
   "language": "python",
   "name": "python3"
  },
  "language_info": {
   "codemirror_mode": {
    "name": "ipython",
    "version": 3
   },
   "file_extension": ".py",
   "mimetype": "text/x-python",
   "name": "python",
   "nbconvert_exporter": "python",
   "pygments_lexer": "ipython3",
   "version": "3.8.5"
  },
  "orig_nbformat": 4,
  "vscode": {
   "interpreter": {
    "hash": "47cf2fb08b1f68ef74f824cfe5681425e28e7b47a5b16d59a1aeb8701101f17e"
   }
  }
 },
 "nbformat": 4,
 "nbformat_minor": 2
}

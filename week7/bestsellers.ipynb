{
 "cells": [
  {
   "cell_type": "code",
   "execution_count": 97,
   "metadata": {},
   "outputs": [],
   "source": [
    "import pandas as pd\n",
    "import json\n",
    "import plotly.express as px\n",
    "import plotly.graph_objects as go\n",
    "from plotly.subplots import make_subplots\n",
    "import numpy as np\n",
    "import bar_chart_race as bcr"
   ]
  },
  {
   "cell_type": "code",
   "execution_count": 101,
   "metadata": {},
   "outputs": [
    {
     "data": {
      "application/vnd.plotly.v1+json": {
       "config": {
        "plotlyServerURL": "https://plot.ly"
       },
       "data": [
        {
         "type": "bar",
         "x": [
          "유아",
          "어린이",
          "소설/시/희곡",
          "경제경영",
          "자기계발",
          "에세이",
          "외국어",
          "인문학",
          "역사",
          "종교/역학",
          "좋은부모",
          "컴퓨터/모바일"
         ],
         "y": [
          13,
          11,
          8,
          4,
          4,
          2,
          2,
          2,
          1,
          1,
          1,
          1
         ]
        },
        {
         "type": "bar",
         "x": [
          "유아",
          "소설/시/희곡",
          "경제경영",
          "어린이",
          "외국어",
          "자기계발",
          "인문학",
          "건강/취미/레저",
          "에세이",
          "여행",
          "역사",
          "종교/역학",
          "좋은부모"
         ],
         "y": [
          14,
          11,
          6,
          4,
          4,
          3,
          2,
          1,
          1,
          1,
          1,
          1,
          1
         ]
        },
        {
         "type": "bar",
         "x": [
          "소설/시/희곡",
          "유아",
          "에세이",
          "어린이",
          "역사",
          "경제경영",
          "외국어",
          "인문학",
          "자기계발",
          "사회과학",
          "종교/역학"
         ],
         "y": [
          12,
          12,
          7,
          6,
          3,
          2,
          2,
          2,
          2,
          1,
          1
         ]
        },
        {
         "type": "bar",
         "x": [
          "소설/시/희곡",
          "유아",
          "어린이",
          "자기계발",
          "경제경영",
          "에세이",
          "과학",
          "만화",
          "외국어"
         ],
         "y": [
          14,
          14,
          11,
          3,
          2,
          2,
          1,
          1,
          1
         ]
        },
        {
         "type": "bar",
         "x": [
          "유아",
          "어린이",
          "소설/시/희곡",
          "좋은부모",
          "자기계발",
          "경제경영",
          "역사",
          "종교/역학",
          "가정/요리/뷰티",
          "과학",
          "에세이",
          "외국어"
         ],
         "y": [
          15,
          13,
          5,
          4,
          3,
          2,
          2,
          2,
          1,
          1,
          1,
          1
         ]
        },
        {
         "type": "bar",
         "x": [
          "소설/시/희곡",
          "어린이",
          "유아",
          "경제경영",
          "자기계발",
          "좋은부모",
          "에세이",
          "종교/역학",
          "가정/요리/뷰티",
          "건강/취미/레저",
          "인문학"
         ],
         "y": [
          13,
          9,
          9,
          4,
          4,
          4,
          2,
          2,
          1,
          1,
          1
         ]
        },
        {
         "type": "bar",
         "x": [
          "어린이",
          "소설/시/희곡",
          "자기계발",
          "경제경영",
          "종교/역학",
          "에세이",
          "외국어",
          "유아",
          "좋은부모",
          "청소년"
         ],
         "y": [
          12,
          11,
          7,
          5,
          4,
          3,
          2,
          2,
          2,
          2
         ]
        },
        {
         "type": "bar",
         "x": [
          "소설/시/희곡",
          "자기계발",
          "어린이",
          "에세이",
          "유아",
          "경제경영",
          "좋은부모",
          "외국어",
          "종교/역학",
          "청소년",
          "건강/취미/레저",
          "만화",
          "인문학"
         ],
         "y": [
          11,
          10,
          5,
          5,
          4,
          3,
          3,
          2,
          2,
          2,
          1,
          1,
          1
         ]
        },
        {
         "type": "bar",
         "x": [
          "소설/시/희곡",
          "자기계발",
          "에세이",
          "경제경영",
          "어린이",
          "외국어",
          "유아",
          "인문학",
          "만화",
          "사회과학",
          "역사",
          "종교/역학",
          "청소년"
         ],
         "y": [
          14,
          12,
          6,
          3,
          3,
          3,
          2,
          2,
          1,
          1,
          1,
          1,
          1
         ]
        },
        {
         "type": "bar",
         "x": [
          "소설/시/희곡",
          "에세이",
          "경제경영",
          "사회과학",
          "외국어",
          "인문학",
          "자기계발",
          "종교/역학",
          "좋은부모",
          "어린이",
          "유아"
         ],
         "y": [
          19,
          9,
          6,
          4,
          2,
          2,
          2,
          2,
          2,
          1,
          1
         ]
        },
        {
         "type": "bar",
         "x": [
          "소설/시/희곡",
          "자기계발",
          "종교/역학",
          "경제경영",
          "에세이",
          "외국어",
          "사회과학",
          "청소년",
          "인문학",
          "좋은부모"
         ],
         "y": [
          14,
          8,
          8,
          5,
          5,
          4,
          2,
          2,
          1,
          1
         ]
        },
        {
         "type": "bar",
         "x": [
          "소설/시/희곡",
          "에세이",
          "어린이",
          "자기계발",
          "경제경영",
          "사회과학",
          "좋은부모",
          "외국어",
          "인문학",
          "청소년",
          "역사",
          "유아",
          "종교/역학"
         ],
         "y": [
          9,
          7,
          5,
          5,
          4,
          4,
          4,
          3,
          3,
          3,
          1,
          1,
          1
         ]
        },
        {
         "type": "bar",
         "x": [
          "소설/시/희곡",
          "자기계발",
          "에세이",
          "인문학",
          "외국어",
          "경제경영",
          "사회과학",
          "어린이",
          "청소년",
          "가정/요리/뷰티",
          "좋은부모"
         ],
         "y": [
          12,
          8,
          6,
          6,
          5,
          4,
          3,
          2,
          2,
          1,
          1
         ]
        },
        {
         "type": "bar",
         "x": [
          "소설/시/희곡",
          "인문학",
          "자기계발",
          "에세이",
          "외국어",
          "건강/취미/레저",
          "가정/요리/뷰티",
          "여행",
          "역사",
          "예술/대중문화",
          "유아",
          "종교/역학",
          "좋은부모"
         ],
         "y": [
          19,
          7,
          7,
          4,
          4,
          2,
          1,
          1,
          1,
          1,
          1,
          1,
          1
         ]
        },
        {
         "type": "bar",
         "x": [
          "소설/시/희곡",
          "외국어",
          "인문학",
          "자기계발",
          "건강/취미/레저",
          "에세이",
          "역사",
          "가정/요리/뷰티",
          "경제경영",
          "사회과학",
          "어린이",
          "여행",
          "유아",
          "종교/역학",
          "좋은부모",
          "청소년"
         ],
         "y": [
          15,
          7,
          7,
          4,
          3,
          3,
          2,
          1,
          1,
          1,
          1,
          1,
          1,
          1,
          1,
          1
         ]
        },
        {
         "type": "bar",
         "x": [
          "소설/시/희곡",
          "에세이",
          "인문학",
          "자기계발",
          "외국어",
          "어린이",
          "유아",
          "가정/요리/뷰티",
          "건강/취미/레저",
          "과학",
          "만화",
          "사회과학",
          "역사",
          "종교/역학",
          "좋은부모"
         ],
         "y": [
          12,
          8,
          7,
          6,
          5,
          2,
          2,
          1,
          1,
          1,
          1,
          1,
          1,
          1,
          1
         ]
        },
        {
         "type": "bar",
         "x": [
          "소설/시/희곡",
          "인문학",
          "외국어",
          "에세이",
          "사회과학",
          "역사",
          "예술/대중문화",
          "종교/역학",
          "좋은부모"
         ],
         "y": [
          18,
          12,
          7,
          6,
          2,
          2,
          1,
          1,
          1
         ]
        },
        {
         "type": "bar",
         "x": [
          "소설/시/희곡",
          "외국어",
          "인문학",
          "사회과학",
          "자기계발",
          "에세이",
          "과학",
          "어린이",
          "역사",
          "유아",
          "좋은부모"
         ],
         "y": [
          16,
          11,
          8,
          4,
          4,
          2,
          1,
          1,
          1,
          1,
          1
         ]
        },
        {
         "type": "bar",
         "x": [
          "소설/시/희곡",
          "인문학",
          "외국어",
          "에세이",
          "어린이",
          "자기계발",
          "과학",
          "사회과학",
          "경제경영",
          "역사"
         ],
         "y": [
          13,
          9,
          8,
          7,
          3,
          3,
          2,
          2,
          1,
          1
         ]
        },
        {
         "type": "bar",
         "x": [
          "소설/시/희곡",
          "어린이",
          "외국어",
          "에세이",
          "인문학",
          "자기계발",
          "경제경영",
          "만화",
          "역사",
          "가정/요리/뷰티",
          "건강/취미/레저",
          "과학",
          "좋은부모"
         ],
         "y": [
          12,
          7,
          7,
          6,
          5,
          3,
          2,
          2,
          2,
          1,
          1,
          1,
          1
         ]
        },
        {
         "type": "bar",
         "x": [
          "소설/시/희곡",
          "어린이",
          "인문학",
          "에세이",
          "경제경영",
          "외국어",
          "사회과학",
          "자기계발",
          "좋은부모",
          "청소년",
          "과학",
          "예술/대중문화"
         ],
         "y": [
          12,
          7,
          7,
          5,
          4,
          4,
          3,
          2,
          2,
          2,
          1,
          1
         ]
        },
        {
         "type": "bar",
         "x": [
          "소설/시/희곡",
          "경제경영",
          "어린이",
          "에세이",
          "외국어",
          "만화",
          "사회과학",
          "인문학",
          "좋은부모",
          "과학",
          "역사",
          "자기계발"
         ],
         "y": [
          14,
          10,
          5,
          5,
          4,
          3,
          2,
          2,
          2,
          1,
          1,
          1
         ]
        }
       ],
       "layout": {
        "sliders": [
         {
          "active": 0,
          "pad": {
           "t": 50
          },
          "steps": [
           {
            "args": [
             {
              "visible": [
               true,
               false,
               false,
               false,
               false,
               false,
               false,
               false,
               false,
               false,
               false,
               false,
               false,
               false,
               false,
               false,
               false,
               false,
               false,
               false,
               false,
               false
              ]
             }
            ],
            "label": "2000년",
            "method": "update"
           },
           {
            "args": [
             {
              "visible": [
               false,
               true,
               false,
               false,
               false,
               false,
               false,
               false,
               false,
               false,
               false,
               false,
               false,
               false,
               false,
               false,
               false,
               false,
               false,
               false,
               false,
               false
              ]
             }
            ],
            "label": "2001년",
            "method": "update"
           },
           {
            "args": [
             {
              "visible": [
               false,
               false,
               true,
               false,
               false,
               false,
               false,
               false,
               false,
               false,
               false,
               false,
               false,
               false,
               false,
               false,
               false,
               false,
               false,
               false,
               false,
               false
              ]
             }
            ],
            "label": "2002년",
            "method": "update"
           },
           {
            "args": [
             {
              "visible": [
               false,
               false,
               false,
               true,
               false,
               false,
               false,
               false,
               false,
               false,
               false,
               false,
               false,
               false,
               false,
               false,
               false,
               false,
               false,
               false,
               false,
               false
              ]
             }
            ],
            "label": "2003년",
            "method": "update"
           },
           {
            "args": [
             {
              "visible": [
               false,
               false,
               false,
               false,
               true,
               false,
               false,
               false,
               false,
               false,
               false,
               false,
               false,
               false,
               false,
               false,
               false,
               false,
               false,
               false,
               false,
               false
              ]
             }
            ],
            "label": "2004년",
            "method": "update"
           },
           {
            "args": [
             {
              "visible": [
               false,
               false,
               false,
               false,
               false,
               true,
               false,
               false,
               false,
               false,
               false,
               false,
               false,
               false,
               false,
               false,
               false,
               false,
               false,
               false,
               false,
               false
              ]
             }
            ],
            "label": "2005년",
            "method": "update"
           },
           {
            "args": [
             {
              "visible": [
               false,
               false,
               false,
               false,
               false,
               false,
               true,
               false,
               false,
               false,
               false,
               false,
               false,
               false,
               false,
               false,
               false,
               false,
               false,
               false,
               false,
               false
              ]
             }
            ],
            "label": "2006년",
            "method": "update"
           },
           {
            "args": [
             {
              "visible": [
               false,
               false,
               false,
               false,
               false,
               false,
               false,
               true,
               false,
               false,
               false,
               false,
               false,
               false,
               false,
               false,
               false,
               false,
               false,
               false,
               false,
               false
              ]
             }
            ],
            "label": "2007년",
            "method": "update"
           },
           {
            "args": [
             {
              "visible": [
               false,
               false,
               false,
               false,
               false,
               false,
               false,
               false,
               true,
               false,
               false,
               false,
               false,
               false,
               false,
               false,
               false,
               false,
               false,
               false,
               false,
               false
              ]
             }
            ],
            "label": "2008년",
            "method": "update"
           },
           {
            "args": [
             {
              "visible": [
               false,
               false,
               false,
               false,
               false,
               false,
               false,
               false,
               false,
               true,
               false,
               false,
               false,
               false,
               false,
               false,
               false,
               false,
               false,
               false,
               false,
               false
              ]
             }
            ],
            "label": "2009년",
            "method": "update"
           },
           {
            "args": [
             {
              "visible": [
               false,
               false,
               false,
               false,
               false,
               false,
               false,
               false,
               false,
               false,
               true,
               false,
               false,
               false,
               false,
               false,
               false,
               false,
               false,
               false,
               false,
               false
              ]
             }
            ],
            "label": "2010년",
            "method": "update"
           },
           {
            "args": [
             {
              "visible": [
               false,
               false,
               false,
               false,
               false,
               false,
               false,
               false,
               false,
               false,
               false,
               true,
               false,
               false,
               false,
               false,
               false,
               false,
               false,
               false,
               false,
               false
              ]
             }
            ],
            "label": "2011년",
            "method": "update"
           },
           {
            "args": [
             {
              "visible": [
               false,
               false,
               false,
               false,
               false,
               false,
               false,
               false,
               false,
               false,
               false,
               false,
               true,
               false,
               false,
               false,
               false,
               false,
               false,
               false,
               false,
               false
              ]
             }
            ],
            "label": "2012년",
            "method": "update"
           },
           {
            "args": [
             {
              "visible": [
               false,
               false,
               false,
               false,
               false,
               false,
               false,
               false,
               false,
               false,
               false,
               false,
               false,
               true,
               false,
               false,
               false,
               false,
               false,
               false,
               false,
               false
              ]
             }
            ],
            "label": "2013년",
            "method": "update"
           },
           {
            "args": [
             {
              "visible": [
               false,
               false,
               false,
               false,
               false,
               false,
               false,
               false,
               false,
               false,
               false,
               false,
               false,
               false,
               true,
               false,
               false,
               false,
               false,
               false,
               false,
               false
              ]
             }
            ],
            "label": "2014년",
            "method": "update"
           },
           {
            "args": [
             {
              "visible": [
               false,
               false,
               false,
               false,
               false,
               false,
               false,
               false,
               false,
               false,
               false,
               false,
               false,
               false,
               false,
               true,
               false,
               false,
               false,
               false,
               false,
               false
              ]
             }
            ],
            "label": "2015년",
            "method": "update"
           },
           {
            "args": [
             {
              "visible": [
               false,
               false,
               false,
               false,
               false,
               false,
               false,
               false,
               false,
               false,
               false,
               false,
               false,
               false,
               false,
               false,
               true,
               false,
               false,
               false,
               false,
               false
              ]
             }
            ],
            "label": "2016년",
            "method": "update"
           },
           {
            "args": [
             {
              "visible": [
               false,
               false,
               false,
               false,
               false,
               false,
               false,
               false,
               false,
               false,
               false,
               false,
               false,
               false,
               false,
               false,
               false,
               true,
               false,
               false,
               false,
               false
              ]
             }
            ],
            "label": "2017년",
            "method": "update"
           },
           {
            "args": [
             {
              "visible": [
               false,
               false,
               false,
               false,
               false,
               false,
               false,
               false,
               false,
               false,
               false,
               false,
               false,
               false,
               false,
               false,
               false,
               false,
               true,
               false,
               false,
               false
              ]
             }
            ],
            "label": "2018년",
            "method": "update"
           },
           {
            "args": [
             {
              "visible": [
               false,
               false,
               false,
               false,
               false,
               false,
               false,
               false,
               false,
               false,
               false,
               false,
               false,
               false,
               false,
               false,
               false,
               false,
               false,
               true,
               false,
               false
              ]
             }
            ],
            "label": "2019년",
            "method": "update"
           },
           {
            "args": [
             {
              "visible": [
               false,
               false,
               false,
               false,
               false,
               false,
               false,
               false,
               false,
               false,
               false,
               false,
               false,
               false,
               false,
               false,
               false,
               false,
               false,
               false,
               true,
               false
              ]
             }
            ],
            "label": "2020년",
            "method": "update"
           },
           {
            "args": [
             {
              "visible": [
               false,
               false,
               false,
               false,
               false,
               false,
               false,
               false,
               false,
               false,
               false,
               false,
               false,
               false,
               false,
               false,
               false,
               false,
               false,
               false,
               false,
               true
              ]
             }
            ],
            "label": "2021년",
            "method": "update"
           }
          ]
         }
        ],
        "template": {
         "data": {
          "bar": [
           {
            "error_x": {
             "color": "#2a3f5f"
            },
            "error_y": {
             "color": "#2a3f5f"
            },
            "marker": {
             "line": {
              "color": "#E5ECF6",
              "width": 0.5
             },
             "pattern": {
              "fillmode": "overlay",
              "size": 10,
              "solidity": 0.2
             }
            },
            "type": "bar"
           }
          ],
          "barpolar": [
           {
            "marker": {
             "line": {
              "color": "#E5ECF6",
              "width": 0.5
             },
             "pattern": {
              "fillmode": "overlay",
              "size": 10,
              "solidity": 0.2
             }
            },
            "type": "barpolar"
           }
          ],
          "carpet": [
           {
            "aaxis": {
             "endlinecolor": "#2a3f5f",
             "gridcolor": "white",
             "linecolor": "white",
             "minorgridcolor": "white",
             "startlinecolor": "#2a3f5f"
            },
            "baxis": {
             "endlinecolor": "#2a3f5f",
             "gridcolor": "white",
             "linecolor": "white",
             "minorgridcolor": "white",
             "startlinecolor": "#2a3f5f"
            },
            "type": "carpet"
           }
          ],
          "choropleth": [
           {
            "colorbar": {
             "outlinewidth": 0,
             "ticks": ""
            },
            "type": "choropleth"
           }
          ],
          "contour": [
           {
            "colorbar": {
             "outlinewidth": 0,
             "ticks": ""
            },
            "colorscale": [
             [
              0,
              "#0d0887"
             ],
             [
              0.1111111111111111,
              "#46039f"
             ],
             [
              0.2222222222222222,
              "#7201a8"
             ],
             [
              0.3333333333333333,
              "#9c179e"
             ],
             [
              0.4444444444444444,
              "#bd3786"
             ],
             [
              0.5555555555555556,
              "#d8576b"
             ],
             [
              0.6666666666666666,
              "#ed7953"
             ],
             [
              0.7777777777777778,
              "#fb9f3a"
             ],
             [
              0.8888888888888888,
              "#fdca26"
             ],
             [
              1,
              "#f0f921"
             ]
            ],
            "type": "contour"
           }
          ],
          "contourcarpet": [
           {
            "colorbar": {
             "outlinewidth": 0,
             "ticks": ""
            },
            "type": "contourcarpet"
           }
          ],
          "heatmap": [
           {
            "colorbar": {
             "outlinewidth": 0,
             "ticks": ""
            },
            "colorscale": [
             [
              0,
              "#0d0887"
             ],
             [
              0.1111111111111111,
              "#46039f"
             ],
             [
              0.2222222222222222,
              "#7201a8"
             ],
             [
              0.3333333333333333,
              "#9c179e"
             ],
             [
              0.4444444444444444,
              "#bd3786"
             ],
             [
              0.5555555555555556,
              "#d8576b"
             ],
             [
              0.6666666666666666,
              "#ed7953"
             ],
             [
              0.7777777777777778,
              "#fb9f3a"
             ],
             [
              0.8888888888888888,
              "#fdca26"
             ],
             [
              1,
              "#f0f921"
             ]
            ],
            "type": "heatmap"
           }
          ],
          "heatmapgl": [
           {
            "colorbar": {
             "outlinewidth": 0,
             "ticks": ""
            },
            "colorscale": [
             [
              0,
              "#0d0887"
             ],
             [
              0.1111111111111111,
              "#46039f"
             ],
             [
              0.2222222222222222,
              "#7201a8"
             ],
             [
              0.3333333333333333,
              "#9c179e"
             ],
             [
              0.4444444444444444,
              "#bd3786"
             ],
             [
              0.5555555555555556,
              "#d8576b"
             ],
             [
              0.6666666666666666,
              "#ed7953"
             ],
             [
              0.7777777777777778,
              "#fb9f3a"
             ],
             [
              0.8888888888888888,
              "#fdca26"
             ],
             [
              1,
              "#f0f921"
             ]
            ],
            "type": "heatmapgl"
           }
          ],
          "histogram": [
           {
            "marker": {
             "pattern": {
              "fillmode": "overlay",
              "size": 10,
              "solidity": 0.2
             }
            },
            "type": "histogram"
           }
          ],
          "histogram2d": [
           {
            "colorbar": {
             "outlinewidth": 0,
             "ticks": ""
            },
            "colorscale": [
             [
              0,
              "#0d0887"
             ],
             [
              0.1111111111111111,
              "#46039f"
             ],
             [
              0.2222222222222222,
              "#7201a8"
             ],
             [
              0.3333333333333333,
              "#9c179e"
             ],
             [
              0.4444444444444444,
              "#bd3786"
             ],
             [
              0.5555555555555556,
              "#d8576b"
             ],
             [
              0.6666666666666666,
              "#ed7953"
             ],
             [
              0.7777777777777778,
              "#fb9f3a"
             ],
             [
              0.8888888888888888,
              "#fdca26"
             ],
             [
              1,
              "#f0f921"
             ]
            ],
            "type": "histogram2d"
           }
          ],
          "histogram2dcontour": [
           {
            "colorbar": {
             "outlinewidth": 0,
             "ticks": ""
            },
            "colorscale": [
             [
              0,
              "#0d0887"
             ],
             [
              0.1111111111111111,
              "#46039f"
             ],
             [
              0.2222222222222222,
              "#7201a8"
             ],
             [
              0.3333333333333333,
              "#9c179e"
             ],
             [
              0.4444444444444444,
              "#bd3786"
             ],
             [
              0.5555555555555556,
              "#d8576b"
             ],
             [
              0.6666666666666666,
              "#ed7953"
             ],
             [
              0.7777777777777778,
              "#fb9f3a"
             ],
             [
              0.8888888888888888,
              "#fdca26"
             ],
             [
              1,
              "#f0f921"
             ]
            ],
            "type": "histogram2dcontour"
           }
          ],
          "mesh3d": [
           {
            "colorbar": {
             "outlinewidth": 0,
             "ticks": ""
            },
            "type": "mesh3d"
           }
          ],
          "parcoords": [
           {
            "line": {
             "colorbar": {
              "outlinewidth": 0,
              "ticks": ""
             }
            },
            "type": "parcoords"
           }
          ],
          "pie": [
           {
            "automargin": true,
            "type": "pie"
           }
          ],
          "scatter": [
           {
            "fillpattern": {
             "fillmode": "overlay",
             "size": 10,
             "solidity": 0.2
            },
            "type": "scatter"
           }
          ],
          "scatter3d": [
           {
            "line": {
             "colorbar": {
              "outlinewidth": 0,
              "ticks": ""
             }
            },
            "marker": {
             "colorbar": {
              "outlinewidth": 0,
              "ticks": ""
             }
            },
            "type": "scatter3d"
           }
          ],
          "scattercarpet": [
           {
            "marker": {
             "colorbar": {
              "outlinewidth": 0,
              "ticks": ""
             }
            },
            "type": "scattercarpet"
           }
          ],
          "scattergeo": [
           {
            "marker": {
             "colorbar": {
              "outlinewidth": 0,
              "ticks": ""
             }
            },
            "type": "scattergeo"
           }
          ],
          "scattergl": [
           {
            "marker": {
             "colorbar": {
              "outlinewidth": 0,
              "ticks": ""
             }
            },
            "type": "scattergl"
           }
          ],
          "scattermapbox": [
           {
            "marker": {
             "colorbar": {
              "outlinewidth": 0,
              "ticks": ""
             }
            },
            "type": "scattermapbox"
           }
          ],
          "scatterpolar": [
           {
            "marker": {
             "colorbar": {
              "outlinewidth": 0,
              "ticks": ""
             }
            },
            "type": "scatterpolar"
           }
          ],
          "scatterpolargl": [
           {
            "marker": {
             "colorbar": {
              "outlinewidth": 0,
              "ticks": ""
             }
            },
            "type": "scatterpolargl"
           }
          ],
          "scatterternary": [
           {
            "marker": {
             "colorbar": {
              "outlinewidth": 0,
              "ticks": ""
             }
            },
            "type": "scatterternary"
           }
          ],
          "surface": [
           {
            "colorbar": {
             "outlinewidth": 0,
             "ticks": ""
            },
            "colorscale": [
             [
              0,
              "#0d0887"
             ],
             [
              0.1111111111111111,
              "#46039f"
             ],
             [
              0.2222222222222222,
              "#7201a8"
             ],
             [
              0.3333333333333333,
              "#9c179e"
             ],
             [
              0.4444444444444444,
              "#bd3786"
             ],
             [
              0.5555555555555556,
              "#d8576b"
             ],
             [
              0.6666666666666666,
              "#ed7953"
             ],
             [
              0.7777777777777778,
              "#fb9f3a"
             ],
             [
              0.8888888888888888,
              "#fdca26"
             ],
             [
              1,
              "#f0f921"
             ]
            ],
            "type": "surface"
           }
          ],
          "table": [
           {
            "cells": {
             "fill": {
              "color": "#EBF0F8"
             },
             "line": {
              "color": "white"
             }
            },
            "header": {
             "fill": {
              "color": "#C8D4E3"
             },
             "line": {
              "color": "white"
             }
            },
            "type": "table"
           }
          ]
         },
         "layout": {
          "annotationdefaults": {
           "arrowcolor": "#2a3f5f",
           "arrowhead": 0,
           "arrowwidth": 1
          },
          "autotypenumbers": "strict",
          "coloraxis": {
           "colorbar": {
            "outlinewidth": 0,
            "ticks": ""
           }
          },
          "colorscale": {
           "diverging": [
            [
             0,
             "#8e0152"
            ],
            [
             0.1,
             "#c51b7d"
            ],
            [
             0.2,
             "#de77ae"
            ],
            [
             0.3,
             "#f1b6da"
            ],
            [
             0.4,
             "#fde0ef"
            ],
            [
             0.5,
             "#f7f7f7"
            ],
            [
             0.6,
             "#e6f5d0"
            ],
            [
             0.7,
             "#b8e186"
            ],
            [
             0.8,
             "#7fbc41"
            ],
            [
             0.9,
             "#4d9221"
            ],
            [
             1,
             "#276419"
            ]
           ],
           "sequential": [
            [
             0,
             "#0d0887"
            ],
            [
             0.1111111111111111,
             "#46039f"
            ],
            [
             0.2222222222222222,
             "#7201a8"
            ],
            [
             0.3333333333333333,
             "#9c179e"
            ],
            [
             0.4444444444444444,
             "#bd3786"
            ],
            [
             0.5555555555555556,
             "#d8576b"
            ],
            [
             0.6666666666666666,
             "#ed7953"
            ],
            [
             0.7777777777777778,
             "#fb9f3a"
            ],
            [
             0.8888888888888888,
             "#fdca26"
            ],
            [
             1,
             "#f0f921"
            ]
           ],
           "sequentialminus": [
            [
             0,
             "#0d0887"
            ],
            [
             0.1111111111111111,
             "#46039f"
            ],
            [
             0.2222222222222222,
             "#7201a8"
            ],
            [
             0.3333333333333333,
             "#9c179e"
            ],
            [
             0.4444444444444444,
             "#bd3786"
            ],
            [
             0.5555555555555556,
             "#d8576b"
            ],
            [
             0.6666666666666666,
             "#ed7953"
            ],
            [
             0.7777777777777778,
             "#fb9f3a"
            ],
            [
             0.8888888888888888,
             "#fdca26"
            ],
            [
             1,
             "#f0f921"
            ]
           ]
          },
          "colorway": [
           "#636efa",
           "#EF553B",
           "#00cc96",
           "#ab63fa",
           "#FFA15A",
           "#19d3f3",
           "#FF6692",
           "#B6E880",
           "#FF97FF",
           "#FECB52"
          ],
          "font": {
           "color": "#2a3f5f"
          },
          "geo": {
           "bgcolor": "white",
           "lakecolor": "white",
           "landcolor": "#E5ECF6",
           "showlakes": true,
           "showland": true,
           "subunitcolor": "white"
          },
          "hoverlabel": {
           "align": "left"
          },
          "hovermode": "closest",
          "mapbox": {
           "style": "light"
          },
          "paper_bgcolor": "white",
          "plot_bgcolor": "#E5ECF6",
          "polar": {
           "angularaxis": {
            "gridcolor": "white",
            "linecolor": "white",
            "ticks": ""
           },
           "bgcolor": "#E5ECF6",
           "radialaxis": {
            "gridcolor": "white",
            "linecolor": "white",
            "ticks": ""
           }
          },
          "scene": {
           "xaxis": {
            "backgroundcolor": "#E5ECF6",
            "gridcolor": "white",
            "gridwidth": 2,
            "linecolor": "white",
            "showbackground": true,
            "ticks": "",
            "zerolinecolor": "white"
           },
           "yaxis": {
            "backgroundcolor": "#E5ECF6",
            "gridcolor": "white",
            "gridwidth": 2,
            "linecolor": "white",
            "showbackground": true,
            "ticks": "",
            "zerolinecolor": "white"
           },
           "zaxis": {
            "backgroundcolor": "#E5ECF6",
            "gridcolor": "white",
            "gridwidth": 2,
            "linecolor": "white",
            "showbackground": true,
            "ticks": "",
            "zerolinecolor": "white"
           }
          },
          "shapedefaults": {
           "line": {
            "color": "#2a3f5f"
           }
          },
          "ternary": {
           "aaxis": {
            "gridcolor": "white",
            "linecolor": "white",
            "ticks": ""
           },
           "baxis": {
            "gridcolor": "white",
            "linecolor": "white",
            "ticks": ""
           },
           "bgcolor": "#E5ECF6",
           "caxis": {
            "gridcolor": "white",
            "linecolor": "white",
            "ticks": ""
           }
          },
          "title": {
           "x": 0.05
          },
          "xaxis": {
           "automargin": true,
           "gridcolor": "white",
           "linecolor": "white",
           "ticks": "",
           "title": {
            "standoff": 15
           },
           "zerolinecolor": "white",
           "zerolinewidth": 2
          },
          "yaxis": {
           "automargin": true,
           "gridcolor": "white",
           "linecolor": "white",
           "ticks": "",
           "title": {
            "standoff": 15
           },
           "zerolinecolor": "white",
           "zerolinewidth": 2
          }
         }
        }
       }
      }
     },
     "metadata": {},
     "output_type": "display_data"
    },
    {
     "name": "stdout",
     "output_type": "stream",
     "text": [
      "    index       장르  size  year\n",
      "6       6       유아    13  2000\n",
      "2       2      어린이    11  2000\n",
      "1       1  소설/시/희곡     8  2000\n",
      "0       0     경제경영     4  2000\n",
      "8       8     자기계발     4  2000\n",
      "..    ...      ...   ...   ...\n",
      "9       9      인문학     2  2021\n",
      "11     11     좋은부모     2  2021\n",
      "1       1       과학     1  2021\n",
      "7       7       역사     1  2021\n",
      "10     10     자기계발     1  2021\n",
      "\n",
      "[260 rows x 4 columns]\n"
     ]
    }
   ],
   "source": [
    "df = pd.read_excel('bestsellers.xlsx')\n",
    "\n",
    "df['페이지']= df['페이지'].str.replace(\"쪽\",\"\").astype(int)\n",
    "df['가격']= df['가격'].str.replace(\",\",\"\").astype(int)\n",
    "\n",
    "step_list = [year + 2000 for year in range(22)]\n",
    "\n",
    "\n",
    "grouped_data = pd.DataFrame()\n",
    "data=[]\n",
    "for step in step_list:\n",
    "    df_query = df.query(f\"연도 == {step}\")\n",
    "    grouped_df= df_query.groupby(by=[\"장르\"], as_index=False).size().reset_index().sort_values(\"size\",ascending=False)\n",
    "    grouped_df[\"year\"] = step\n",
    "    data.append(\n",
    "        go.Bar(\n",
    "            x =grouped_df['장르'], \n",
    "            y = grouped_df['size'],\n",
    "        )\n",
    "    )\n",
    "    \n",
    "    grouped_data = pd.concat([grouped_data, grouped_df])\n",
    "    \n",
    "fig = go.Figure(data)\n",
    "\n",
    "layout = go.Layout(\n",
    "    xaxis = dict(title=dict(text='연도',font=dict(size=18))),\n",
    "    yaxis=dict(tickfont=dict(size=14)),\n",
    "    barmode='stack'\n",
    "        )\n",
    "\n",
    "steps = []\n",
    "for year in range(len(step_list)):\n",
    "    step = dict(\n",
    "        method=\"update\",\n",
    "        args=[{\"visible\": [False] * len(step_list)}],\n",
    "        label=str(2000+year) + \"년\"\n",
    "    )\n",
    "    step[\"args\"][0][\"visible\"][year] = True\n",
    "    steps.append(step)\n",
    "\n",
    "sliders = [dict(\n",
    "    active=0,\n",
    "    pad={\"t\": 50},\n",
    "    steps=steps\n",
    ")]\n",
    "\n",
    "fig.update_layout(sliders=sliders)\n",
    "fig.show()\n"
   ]
  },
  {
   "cell_type": "code",
   "execution_count": null,
   "metadata": {},
   "outputs": [],
   "source": []
  },
  {
   "cell_type": "code",
   "execution_count": 105,
   "metadata": {},
   "outputs": [
    {
     "name": "stderr",
     "output_type": "stream",
     "text": [
      "/Users/Welcome/Library/Python/3.9/lib/python/site-packages/bar_chart_race/_make_chart.py:893: FutureWarning:\n",
      "\n",
      "Dropping of nuisance columns in DataFrame.rank is deprecated; in a future version this will raise TypeError. Select only valid columns before calling rank.\n",
      "\n",
      "/Users/Welcome/Library/Python/3.9/lib/python/site-packages/bar_chart_race/_make_chart.py:278: FutureWarning:\n",
      "\n",
      "Dropping of nuisance columns in DataFrame reductions (with 'numeric_only=None') is deprecated; in a future version this will raise TypeError.  Select only valid columns before calling the reduction.\n",
      "\n",
      "/Users/Welcome/Library/Python/3.9/lib/python/site-packages/bar_chart_race/_make_chart.py:286: UserWarning:\n",
      "\n",
      "FixedFormatter should only be used together with FixedLocator\n",
      "\n",
      "/Users/Welcome/Library/Python/3.9/lib/python/site-packages/bar_chart_race/_make_chart.py:287: UserWarning:\n",
      "\n",
      "FixedFormatter should only be used together with FixedLocator\n",
      "\n",
      "/Users/Welcome/Library/Python/3.9/lib/python/site-packages/bar_chart_race/_make_chart.py:297: UserWarning:\n",
      "\n",
      "Glyph 51109 (\\N{HANGUL SYLLABLE JANG}) missing from current font.\n",
      "\n",
      "/Users/Welcome/Library/Python/3.9/lib/python/site-packages/bar_chart_race/_make_chart.py:297: UserWarning:\n",
      "\n",
      "Glyph 47476 (\\N{HANGUL SYLLABLE REU}) missing from current font.\n",
      "\n"
     ]
    },
    {
     "ename": "Exception",
     "evalue": "You do not have ffmpeg installed on your machine. Download\n                            ffmpeg from here: https://www.ffmpeg.org/download.html.\n                            \n                            Matplotlib's original error message below:\n\n                            Requested MovieWriter (ffmpeg) not available\n                            ",
     "output_type": "error",
     "traceback": [
      "\u001b[0;31m---------------------------------------------------------------------------\u001b[0m",
      "\u001b[0;31mRuntimeError\u001b[0m                              Traceback (most recent call last)",
      "File \u001b[0;32m~/Library/Python/3.9/lib/python/site-packages/bar_chart_race/_make_chart.py:428\u001b[0m, in \u001b[0;36m_BarChartRace.make_animation\u001b[0;34m(self)\u001b[0m\n\u001b[1;32m    427\u001b[0m \u001b[39mif\u001b[39;00m \u001b[39mself\u001b[39m\u001b[39m.\u001b[39mhtml:\n\u001b[0;32m--> 428\u001b[0m     ret_val \u001b[39m=\u001b[39m anim\u001b[39m.\u001b[39;49mto_html5_video()\n\u001b[1;32m    429\u001b[0m     \u001b[39mtry\u001b[39;00m:\n",
      "File \u001b[0;32m~/Library/Python/3.9/lib/python/site-packages/matplotlib/animation.py:1264\u001b[0m, in \u001b[0;36mAnimation.to_html5_video\u001b[0;34m(self, embed_limit)\u001b[0m\n\u001b[1;32m   1262\u001b[0m \u001b[39m# We create a writer manually so that we can get the\u001b[39;00m\n\u001b[1;32m   1263\u001b[0m \u001b[39m# appropriate size for the tag\u001b[39;00m\n\u001b[0;32m-> 1264\u001b[0m Writer \u001b[39m=\u001b[39m writers[mpl\u001b[39m.\u001b[39;49mrcParams[\u001b[39m'\u001b[39;49m\u001b[39manimation.writer\u001b[39;49m\u001b[39m'\u001b[39;49m]]\n\u001b[1;32m   1265\u001b[0m writer \u001b[39m=\u001b[39m Writer(codec\u001b[39m=\u001b[39m\u001b[39m'\u001b[39m\u001b[39mh264\u001b[39m\u001b[39m'\u001b[39m,\n\u001b[1;32m   1266\u001b[0m                 bitrate\u001b[39m=\u001b[39mmpl\u001b[39m.\u001b[39mrcParams[\u001b[39m'\u001b[39m\u001b[39manimation.bitrate\u001b[39m\u001b[39m'\u001b[39m],\n\u001b[1;32m   1267\u001b[0m                 fps\u001b[39m=\u001b[39m\u001b[39m1000.\u001b[39m \u001b[39m/\u001b[39m \u001b[39mself\u001b[39m\u001b[39m.\u001b[39m_interval)\n",
      "File \u001b[0;32m~/Library/Python/3.9/lib/python/site-packages/matplotlib/animation.py:151\u001b[0m, in \u001b[0;36mMovieWriterRegistry.__getitem__\u001b[0;34m(self, name)\u001b[0m\n\u001b[1;32m    150\u001b[0m     \u001b[39mreturn\u001b[39;00m \u001b[39mself\u001b[39m\u001b[39m.\u001b[39m_registered[name]\n\u001b[0;32m--> 151\u001b[0m \u001b[39mraise\u001b[39;00m \u001b[39mRuntimeError\u001b[39;00m(\u001b[39mf\u001b[39m\u001b[39m\"\u001b[39m\u001b[39mRequested MovieWriter (\u001b[39m\u001b[39m{\u001b[39;00mname\u001b[39m}\u001b[39;00m\u001b[39m) not available\u001b[39m\u001b[39m\"\u001b[39m)\n",
      "\u001b[0;31mRuntimeError\u001b[0m: Requested MovieWriter (ffmpeg) not available",
      "\nDuring handling of the above exception, another exception occurred:\n",
      "\u001b[0;31mException\u001b[0m                                 Traceback (most recent call last)",
      "\u001b[1;32m/Users/Welcome/Desktop/minji/week7/bestsellers.ipynb Cell 3'\u001b[0m in \u001b[0;36m<cell line: 1>\u001b[0;34m()\u001b[0m\n\u001b[0;32m----> <a href='vscode-notebook-cell:/Users/Welcome/Desktop/minji/week7/bestsellers.ipynb#ch0000003?line=0'>1</a>\u001b[0m bcr\u001b[39m.\u001b[39;49mbar_chart_race(df \u001b[39m=\u001b[39;49m grouped_data, \n\u001b[1;32m      <a href='vscode-notebook-cell:/Users/Welcome/Desktop/minji/week7/bestsellers.ipynb#ch0000003?line=1'>2</a>\u001b[0m                    n_bars \u001b[39m=\u001b[39;49m \u001b[39m10\u001b[39;49m,\n\u001b[1;32m      <a href='vscode-notebook-cell:/Users/Welcome/Desktop/minji/week7/bestsellers.ipynb#ch0000003?line=2'>3</a>\u001b[0m                    figsize\u001b[39m=\u001b[39;49m(\u001b[39m6\u001b[39;49m, \u001b[39m4\u001b[39;49m),\n\u001b[1;32m      <a href='vscode-notebook-cell:/Users/Welcome/Desktop/minji/week7/bestsellers.ipynb#ch0000003?line=3'>4</a>\u001b[0m                    sort\u001b[39m=\u001b[39;49m\u001b[39m'\u001b[39;49m\u001b[39mdesc\u001b[39;49m\u001b[39m'\u001b[39;49m)\n",
      "File \u001b[0;32m~/Library/Python/3.9/lib/python/site-packages/bar_chart_race/_make_chart.py:783\u001b[0m, in \u001b[0;36mbar_chart_race\u001b[0;34m(df, filename, orientation, sort, n_bars, fixed_order, fixed_max, steps_per_period, period_length, interpolate_period, label_bars, bar_size, period_label, period_fmt, period_summary_func, perpendicular_bar_func, figsize, cmap, title, title_size, bar_label_size, tick_label_size, shared_fontdict, scale, writer, fig, dpi, bar_kwargs, filter_column_colors)\u001b[0m\n\u001b[1;32m    461\u001b[0m \u001b[39m'''\u001b[39;00m\n\u001b[1;32m    462\u001b[0m \u001b[39mCreate an animated bar chart race using matplotlib. Data must be in \u001b[39;00m\n\u001b[1;32m    463\u001b[0m \u001b[39m'wide' format where each row represents a single time period and each \u001b[39;00m\n\u001b[0;32m   (...)\u001b[0m\n\u001b[1;32m    776\u001b[0m \u001b[39mThese sizes are relative to plt.rcParams['font.size'].\u001b[39;00m\n\u001b[1;32m    777\u001b[0m \u001b[39m'''\u001b[39;00m\n\u001b[1;32m    778\u001b[0m bcr \u001b[39m=\u001b[39m _BarChartRace(df, filename, orientation, sort, n_bars, fixed_order, fixed_max,\n\u001b[1;32m    779\u001b[0m                     steps_per_period, period_length, interpolate_period, label_bars, bar_size, \n\u001b[1;32m    780\u001b[0m                     period_label, period_fmt, period_summary_func, perpendicular_bar_func, \n\u001b[1;32m    781\u001b[0m                     figsize, cmap, title, title_size, bar_label_size, tick_label_size, \n\u001b[1;32m    782\u001b[0m                     shared_fontdict, scale, writer, fig, dpi, bar_kwargs, filter_column_colors)\n\u001b[0;32m--> 783\u001b[0m \u001b[39mreturn\u001b[39;00m bcr\u001b[39m.\u001b[39;49mmake_animation()\n",
      "File \u001b[0;32m~/Library/Python/3.9/lib/python/site-packages/bar_chart_race/_make_chart.py:446\u001b[0m, in \u001b[0;36m_BarChartRace.make_animation\u001b[0;34m(self)\u001b[0m\n\u001b[1;32m    444\u001b[0m     \u001b[39melse\u001b[39;00m:\n\u001b[1;32m    445\u001b[0m         message \u001b[39m=\u001b[39m \u001b[39mstr\u001b[39m(e)\n\u001b[0;32m--> 446\u001b[0m     \u001b[39mraise\u001b[39;00m \u001b[39mException\u001b[39;00m(message)\n\u001b[1;32m    447\u001b[0m \u001b[39mfinally\u001b[39;00m:\n\u001b[1;32m    448\u001b[0m     plt\u001b[39m.\u001b[39mrcParams \u001b[39m=\u001b[39m \u001b[39mself\u001b[39m\u001b[39m.\u001b[39morig_rcParams\n",
      "\u001b[0;31mException\u001b[0m: You do not have ffmpeg installed on your machine. Download\n                            ffmpeg from here: https://www.ffmpeg.org/download.html.\n                            \n                            Matplotlib's original error message below:\n\n                            Requested MovieWriter (ffmpeg) not available\n                            "
     ]
    }
   ],
   "source": [
    "bcr.bar_chart_race(df = grouped_data, \n",
    "                   n_bars = 10,\n",
    "                   figsize=(6, 4),\n",
    "                   sort='desc')"
   ]
  }
 ],
 "metadata": {
  "kernelspec": {
   "display_name": "Python 3.9.10 64-bit",
   "language": "python",
   "name": "python3"
  },
  "language_info": {
   "codemirror_mode": {
    "name": "ipython",
    "version": 3
   },
   "file_extension": ".py",
   "mimetype": "text/x-python",
   "name": "python",
   "nbconvert_exporter": "python",
   "pygments_lexer": "ipython3",
   "version": "3.9.10"
  },
  "orig_nbformat": 4,
  "vscode": {
   "interpreter": {
    "hash": "aee8b7b246df8f9039afb4144a1f6fd8d2ca17a180786b69acc140d282b71a49"
   }
  }
 },
 "nbformat": 4,
 "nbformat_minor": 2
}

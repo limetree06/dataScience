{
 "cells": [
  {
   "cell_type": "code",
   "execution_count": 62,
   "metadata": {},
   "outputs": [
    {
     "name": "stdout",
     "output_type": "stream",
     "text": [
      "<Response [200]>\n"
     ]
    }
   ],
   "source": [
    "import requests\n",
    "from bs4 import BeautifulSoup\n",
    "import urllib.request\n",
    "from time import sleep\n",
    "\n",
    "age_list = [2000, 2010, 2020]\n",
    "header = {\n",
    "    'User-Agent' : 'Mozilla/5.0 (Macintosh; Intel Mac OS X 10_15_7) AppleWebKit/537.36 (KHTML, like Gecko) Chrome/103.0.0.0 Safari/537.36',\n",
    "    'Cookie':'__T_=1; __T_=1; PCID=16562896031604703180313; PC_PCID=16562896031604703180313; melonlogging=1000000622; POC=MP10; wcs_bt=s_f9c4bde066b:1656380355; _T_ANO=X7MJr+THqtCzvH3Z6mmHXbkq5q7rsBZDp8nPu7R6YMEafzWjOBoPCRFU5bWECEn/rIt9cBv8P3ZiBeycPkZD+WUU2HP1PHsrnpzTY+8//pLX5fMNvrQnnbYPPi4wK2mn3EiRqN5yJ7bCKRT5CFnfskplN8nLoQ1wlz3Ax6VQKgyUpuOPJajrGGeO6D962jUi+iaEMJDGjrM85Yi+DJBIPpYEnQSMXt0xMlqt+jlORo9mT2/hEup+zTr1CPqFhXbIXVAx2gAXcfSd4/ZZ0V3yk1bYsGWf7i/0LvKO2BDKX2AOX8k0uHSt1urv+gUKJx+gurVmfbM6/oF3KOQQKZur/A=='\n",
    "}\n",
    "BASE_URL = \"https://www.melon.com/chart/search/list.htm\"\n",
    "params = {\n",
    "    'chartType':'YE',\n",
    "    'age':2000,\n",
    "    'year':2007,\n",
    "    'classCd':'KPOP',\n",
    "    'moved':'Y'\n",
    "}\n",
    "\n",
    "for age in age_list:\n",
    "    for add_year in range(10):\n",
    "        year = age + add_year\n",
    "        requests_url=requests.get(BASE_URL, params=params, headers=header)\n",
    "        song_charts = BeautifulSoup(requests_url.content, 'html.parser')\n",
    "        \n",
    "        break\n",
    "    break\n",
    "        \n",
    "\n"
   ]
  }
 ],
 "metadata": {
  "kernelspec": {
   "display_name": "Python 3 (ipykernel)",
   "language": "python",
   "name": "python3"
  },
  "language_info": {
   "codemirror_mode": {
    "name": "ipython",
    "version": 3
   },
   "file_extension": ".py",
   "mimetype": "text/x-python",
   "name": "python",
   "nbconvert_exporter": "python",
   "pygments_lexer": "ipython3",
   "version": "3.9.10"
  }
 },
 "nbformat": 4,
 "nbformat_minor": 2
}

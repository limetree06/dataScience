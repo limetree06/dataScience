{
 "cells": [
  {
   "cell_type": "code",
   "execution_count": null,
   "id": "3289eb31",
   "metadata": {
    "scrolled": false
   },
   "outputs": [
    {
     "name": "stderr",
     "output_type": "stream",
     "text": [
      "/var/folders/7x/34xl2tz90bqdj51kzjdb7xwh0000gp/T/ipykernel_2248/3912874236.py:16: DeprecationWarning: executable_path has been deprecated, please pass in a Service object\n",
      "  driver = webdriver.Chrome(executable_path='./chromedriver',options=options) # 크롬드라이버 경로\n"
     ]
    }
   ],
   "source": [
    "import selenium\n",
    "from selenium import webdriver\n",
    "import time\n",
    "import pandas as pd\n",
    "from bs4 import BeautifulSoup\n",
    "import requests as res\n",
    "from itertools import repeat\n",
    "from selenium.webdriver.common.by import By\n",
    "import pandas as pd\n",
    "\n",
    "# 크롬드라이버 열기\n",
    "options = webdriver.ChromeOptions()\n",
    "options.add_argument('--no-sandbox')\n",
    "options.add_argument('--disable-dev-shm-usage')\n",
    "options.add_argument(\"user-agent=Mozilla/5.0 (Macintosh; Intel Mac OS X 10_15_7) AppleWebKit/537.36 (KHTML, like Gecko) Chrome/103.0.0.0 Safari/537.36\")\n",
    "driver = webdriver.Chrome(executable_path='./chromedriver',options=options) # 크롬드라이버 경로\n",
    "driver.maximize_window() # 크롬창 크기 최대\n",
    "\n",
    "# 드라이버가 해당 url 접속\n",
    "url = 'https://www.melon.com/chart/index.htm' # 멜론차트 페이지\n",
    "driver.get(url)\n",
    "\n",
    "#차트 파인더\n",
    "driver.find_element(By.XPATH, '//*[@id=\"gnb_menu\"]/ul[1]/li[1]/div/div/button/span').click()\n",
    "time.sleep(0.1)\n",
    "\n",
    "#연도차트\n",
    "driver.find_element(By.XPATH, '//*[@id=\"d_chart_search\"]/div/h4[3]/a').click()\n",
    "time.sleep(0.1)\n",
    "\n",
    "# #2020년대 연대 선택\n",
    "# driver.find_element(By.XPATH, '//*[@id=\"d_chart_search\"]/div/div/div[1]/div[1]/ul/li[1]/span/label').click()\n",
    "# time.sleep(0.1)\n",
    "\n",
    "#2010년대 연대 선택\n",
    "driver.find_element(By.XPATH, '//*[@id=\"d_chart_search\"]/div/div/div[1]/div[1]/ul/li[2]/span/label').click()\n",
    "time.sleep(0.1)\n",
    "\n",
    "# #2000년대 연대 선택\n",
    "# driver.find_element(By.XPATH, '//*[@id=\"d_chart_search\"]/div/div/div[1]/div[1]/ul/li[3]/span/label').click()\n",
    "# time.sleep(0.1)\n",
    "\n",
    "#연도 선택\n",
    "for year in range(6, 11):\n",
    "    driver.find_element(By.XPATH, '//*[@id=\"d_chart_search\"]/div/div/div[2]/div[1]/ul/li['+str(year)+']/span/label').click()\n",
    "    time.sleep(0.1)\n",
    "\n",
    "    #장르선택 국내종합\n",
    "    driver.find_element(By.XPATH, '//*[@id=\"d_chart_search\"]/div/div/div[5]/div[1]/ul/li[2]/span/label').click()\n",
    "    time.sleep(0.1)\n",
    "\n",
    "    #검색\n",
    "    driver.find_element(By.XPATH, '//*[@id=\"d_srch_form\"]/div[2]/button/span/span').click()\n",
    "    time.sleep(0.1)\n",
    "\n",
    "    #장르\n",
    "    genre_list = []\n",
    "    for rank_num in range(1, 51):\n",
    "        driver.find_element(By.XPATH, '//*[@id=\"frm\"]/div/table/tbody/tr['+str(rank_num)+']/td[4]/div/a').click()\n",
    "        time.sleep(0.1)\n",
    "\n",
    "        html = driver.page_source # 드라이버 현재 페이지의 html 정보 가져오기 \n",
    "        genre = BeautifulSoup(html, 'html')\n",
    "        genre_list.append(genre.find('dl', attrs={'class':'list'}).get_text().splitlines()[6])\n",
    "        driver.back()\n",
    "        \n",
    "    driver.find_element(By.XPATH, '//*[@id=\"frm\"]/div/span/a').click()\n",
    "    time.sleep(0.1)\n",
    "    \n",
    "    for rank_num in range(51, 101):\n",
    "        driver.find_element(By.XPATH, '//*[@id=\"frm\"]/div/table/tbody/tr['+str(rank_num)+']/td[4]/div/a').click()\n",
    "        time.sleep(0.1)\n",
    "\n",
    "        html = driver.page_source # 드라이버 현재 페이지의 html 정보 가져오기 \n",
    "        genre = BeautifulSoup(html, 'html')\n",
    "        genre_list.append(genre.find('dl', attrs={'class':'list'}).get_text().splitlines()[6])\n",
    "        driver.back()\n",
    "\n",
    "    print(genre_list)\n",
    "    html = driver.page_source # 드라이버 현재 페이지의 html 정보 가져오기 \n",
    "    song_lists_html = BeautifulSoup(html, 'html')\n",
    "\n",
    "    songs = [title.find('a').get_text() for title in song_lists_html.find_all('div', attrs={'class': 'ellipsis rank01'})]\n",
    "    singers_list = [ singer.get_text() for singer in song_lists_html.find_all('span', attrs={'class':'checkEllipsis'}) ]\n",
    "    ranks = list(range(1,101))\n",
    "    year = song_lists_html.find_all('span', attrs={'class':'datelk'})[0].get_text() # 년\n",
    "\n",
    "    info = {'ranks':ranks, 'title':songs, 'singer':singers_list, 'genre':genre_list}\n",
    "    song = pd.DataFrame(info)\n",
    "    song.to_csv('song'+str(year)+'.csv', encoding='')  "
   ]
  },
  {
   "cell_type": "code",
   "execution_count": 129,
   "id": "9e81c3b4",
   "metadata": {},
   "outputs": [
    {
     "name": "stderr",
     "output_type": "stream",
     "text": [
      "/var/folders/7x/34xl2tz90bqdj51kzjdb7xwh0000gp/T/ipykernel_1863/1011884496.py:2: DeprecationWarning: executable_path has been deprecated, please pass in a Service object\n",
      "  driver = webdriver.Chrome(executable_path='./chromedriver') # 크롬드라이버 경로\n"
     ]
    }
   ],
   "source": [
    "# 크롬드라이버 열기\n",
    "driver = webdriver.Chrome(executable_path='./chromedriver') # 크롬드라이버 경로\n",
    "driver.maximize_window() # 크롬창 크기 최대\n",
    "\n",
    "# 드라이버가 해당 url 접속\n",
    "url = 'https://www.melon.com/chart/index.htm' # 멜론차트 페이지\n",
    "driver.get(url)\n",
    "\n",
    "#차트 파인더\n",
    "driver.find_element(By.XPATH, '//*[@id=\"gnb_menu\"]/ul[1]/li[1]/div/div/button/span').click()\n",
    "time.sleep(0.1)\n",
    "\n",
    "#연도차트\n",
    "driver.find_element(By.XPATH, '//*[@id=\"d_chart_search\"]/div/h4[3]/a').click()\n",
    "time.sleep(0.1)\n",
    "\n",
    "#2010년대 연대 선택\n",
    "driver.find_element(By.XPATH, '//*[@id=\"d_chart_search\"]/div/div/div[1]/div[1]/ul/li[2]/span/label').click()\n",
    "time.sleep(0.1)\n",
    "\n",
    "#년도 선택\n",
    "driver.find_element(By.XPATH, '//*[@id=\"d_chart_ㅠsearch\"]/div/div/div[2]/div[1]/ul/li[1]/span/label').click()\n",
    "time.sleep(0.1)\n",
    "\n",
    "#장르선택 국내종합\n",
    "driver.find_element(By.XPATH, '//*[@id=\"d_chart_search\"]/div/div/div[5]/div[1]/ul/li[2]/span/label').click()\n",
    "time.sleep(0.1)\n",
    "\n",
    "#검색\n",
    "driver.find_element(By.XPATH, '//*[@id=\"d_srch_form\"]/div[2]/button/span/span').click()\n",
    "time.sleep(0.1)\n",
    "\n",
    "#50-100위\n",
    "driver.find_element(By.XPATH, '//*[@id=\"frm\"]/div/span/a').click()\n",
    "time.sleep(0.1)\n",
    "\n",
    "driver.find_element(By.XPATH, '//*[@id=\"frm\"]/div/table/tbody/tr[51]/td[4]/div/a').click()\n"
   ]
  },
  {
   "cell_type": "code",
   "execution_count": null,
   "id": "6fef6158",
   "metadata": {},
   "outputs": [],
   "source": []
  }
 ],
 "metadata": {
  "kernelspec": {
   "display_name": "Python 3 (ipykernel)",
   "language": "python",
   "name": "python3"
  },
  "language_info": {
   "codemirror_mode": {
    "name": "ipython",
    "version": 3
   },
   "file_extension": ".py",
   "mimetype": "text/x-python",
   "name": "python",
   "nbconvert_exporter": "python",
   "pygments_lexer": "ipython3",
   "version": "3.9.10"
  },
  "vscode": {
   "interpreter": {
    "hash": "aee8b7b246df8f9039afb4144a1f6fd8d2ca17a180786b69acc140d282b71a49"
   }
  }
 },
 "nbformat": 4,
 "nbformat_minor": 5
}

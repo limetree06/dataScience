{
 "cells": [
  {
   "cell_type": "code",
   "execution_count": 1,
   "id": "501195ab",
   "metadata": {},
   "outputs": [
    {
     "name": "stdout",
     "output_type": "stream",
     "text": [
      "      발라드  댄스  랩/힙합  R&B/Soul  록/메탈  인디음악  성인가요/트로트  국내드라마  국내영화\n",
      "2000   15  22     4         3     4     0         0      0     0\n",
      "2001   15  14     3         6    10     1         0      1     1\n",
      "2002   21  16     4         1     6     1         0      0     0\n",
      "2003   21  11     3         3     9     2         0      0     0\n",
      "2004   18  11     5        10     8     1         0      0     0\n",
      "2005   23  12     3         8     5     0         0      1     0\n",
      "2006   28   7     3        10     2     0         0      3     0\n",
      "2007   31   5     1         9     3     0         0      2     1\n",
      "2008   20  16    12         2     2     0         1      1     0\n",
      "2009   19  23     7         1     1     0         0      1     0\n",
      "2010   21  20     5         3     0     0         0      3     0\n",
      "2011   18  21     5         0     4     2         0      0     0\n",
      "2012   21  18     5         1     4     0         0      0     0\n",
      "2013   18  17     8         3     2     0         0      6     0\n",
      "2014   17  14    11         4     2     1         0      5     0\n",
      "2015   12  15    18         4     2     0         0      5     0\n",
      "2016   14  13     6        10     3     2         0      6     0\n",
      "2017   18  11    10         5     2     4         0      3     0\n",
      "2018   13  16    12         6     1     3         0      2     0\n",
      "2019   22   8     8         5     4     6         1      4     0\n",
      "2020   23  10     9         3     1     3         3      7     0\n",
      "2021   23  13     5         2     5     3         1      7     0\n"
     ]
    }
   ],
   "source": [
    "import pandas as pd\n",
    "import glob\n",
    "import re\n",
    "from pandas import DataFrame\n",
    "import pandas as pd\n",
    "import openpyxl\n",
    "\n",
    "type_list = [\"발라드\", \"댄스\", \"랩/힙합\", \"R&B/Soul\", \"록/메탈\", \"인디음악\", \"성인가요/트로트\", \"국내드라마\",\"국내영화\"]\n",
    "trend_list = []\n",
    "flist = sorted(glob.glob('./SongsList/*.csv'))\n",
    "for file in flist:\n",
    "    songListDf = pd.read_csv(file)\n",
    "    genreList = []\n",
    "    for index, genre in enumerate(songListDf.genre):\n",
    "        if index > 50: \n",
    "            genreList = genreList + genre.replace(\" \",\"\").split(',')\n",
    "    \n",
    "    caluate = [genreList.count(type1) for type1 in type_list]\n",
    "    trend_list.append(caluate)\n",
    "\n",
    "columns = type_list\n",
    "index=[year for year in range(2000, 2022)]\n",
    "trend_list_df = DataFrame(trend_list, columns=columns,index=index)\n",
    "#toCSV = pd.DataFrame(trend_list_df)\n",
    "#toCSV.to_excel('TrendListTop50-100.xlsx', encoding='')"
   ]
  },
  {
   "cell_type": "code",
   "execution_count": null,
   "id": "9e267c9d",
   "metadata": {},
   "outputs": [],
   "source": [
    "import pandas as pd\n"
   ]
  }
 ],
 "metadata": {
  "kernelspec": {
   "display_name": "Python 3.9.10 64-bit",
   "language": "python",
   "name": "python3"
  },
  "language_info": {
   "codemirror_mode": {
    "name": "ipython",
    "version": 3
   },
   "file_extension": ".py",
   "mimetype": "text/x-python",
   "name": "python",
   "nbconvert_exporter": "python",
   "pygments_lexer": "ipython3",
   "version": "3.9.10"
  },
  "vscode": {
   "interpreter": {
    "hash": "aee8b7b246df8f9039afb4144a1f6fd8d2ca17a180786b69acc140d282b71a49"
   }
  }
 },
 "nbformat": 4,
 "nbformat_minor": 5
}

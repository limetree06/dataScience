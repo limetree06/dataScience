{
 "cells": [
  {
   "cell_type": "code",
   "execution_count": 1,
   "id": "501195ab",
   "metadata": {},
   "outputs": [],
   "source": [
    "import pandas as pd\n",
    "import glob\n",
    "import re\n",
    "from pandas import DataFrame\n",
    "import pandas as pd\n",
    "import openpyxl\n",
    "\n",
    "type_list = [\"발라드\", \"댄스\", \"랩/힙합\", \"R&B/Soul\", \"록/메탈\", \"인디음악\", \"성인가요/트로트\", \"국내드라마\",\"국내영화\"]\n",
    "trend_list = []\n",
    "flist = sorted(glob.glob('./SongsList/*.csv'))\n",
    "for file in flist:\n",
    "    songListDf = pd.read_csv(file)\n",
    "    genreList = []\n",
    "    for index, genre in enumerate(songListDf.genre):\n",
    "        if index > 50: \n",
    "            genreList = genreList + genre.replace(\" \",\"\").split(',')\n",
    "    \n",
    "    caluate = [genreList.count(type1) for type1 in type_list]\n",
    "    trend_list.append(caluate)\n",
    "\n",
    "columns = type_list\n",
    "index=[year for year in range(2000, 2022)]\n",
    "trend_list_df = DataFrame(trend_list, columns=columns,index=index)\n",
    "#toCSV = pd.DataFrame(trend_list_df)\n",
    "#toCSV.to_excel('TrendListTop50-100.xlsx', encoding='')"
   ]
  }
 ],
 "metadata": {
  "kernelspec": {
   "display_name": "Python 3.9.10 64-bit",
   "language": "python",
   "name": "python3"
  },
  "language_info": {
   "codemirror_mode": {
    "name": "ipython",
    "version": 3
   },
   "file_extension": ".py",
   "mimetype": "text/x-python",
   "name": "python",
   "nbconvert_exporter": "python",
   "pygments_lexer": "ipython3",
   "version": "3.9.10"
  },
  "vscode": {
   "interpreter": {
    "hash": "aee8b7b246df8f9039afb4144a1f6fd8d2ca17a180786b69acc140d282b71a49"
   }
  }
 },
 "nbformat": 4,
 "nbformat_minor": 5
}

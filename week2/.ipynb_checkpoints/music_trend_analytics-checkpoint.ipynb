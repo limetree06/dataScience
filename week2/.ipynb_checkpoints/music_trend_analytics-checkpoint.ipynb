{
 "cells": [
  {
   "cell_type": "code",
   "execution_count": 1,
   "id": "501195ab",
   "metadata": {},
   "outputs": [
    {
     "name": "stdout",
     "output_type": "stream",
     "text": [
      "[[36, 38, 7, 8, 14, 0, 0, 1, 0], [40, 26, 7, 12, 14, 2, 0, 1, 1], [49, 24, 7, 4, 15, 2, 0, 2, 0], [43, 20, 9, 14, 16, 3, 0, 1, 0], [46, 14, 12, 18, 13, 1, 0, 1, 0], [46, 18, 8, 16, 13, 0, 0, 5, 0], [55, 11, 6, 22, 7, 0, 0, 4, 0], [60, 13, 11, 12, 9, 0, 0, 2, 2], [38, 34, 27, 5, 3, 0, 1, 3, 0], [34, 52, 9, 4, 3, 0, 0, 1, 0], [38, 43, 9, 4, 6, 1, 0, 3, 0], [36, 47, 10, 0, 7, 2, 0, 0, 0], [31, 39, 14, 3, 12, 0, 0, 0, 0], [36, 29, 20, 6, 8, 0, 0, 11, 0], [37, 27, 19, 10, 2, 1, 0, 10, 0], [24, 29, 32, 10, 6, 2, 0, 8, 0], [33, 23, 17, 18, 4, 6, 0, 16, 0], [33, 26, 17, 13, 2, 12, 0, 9, 0], [35, 29, 18, 12, 3, 8, 0, 4, 0], [50, 15, 14, 7, 9, 11, 1, 10, 0], [42, 21, 20, 5, 7, 9, 3, 19, 0], [40, 28, 13, 5, 11, 8, 2, 11, 0]]\n"
     ]
    }
   ],
   "source": [
    "import pandas as pd\n",
    "import glob\n",
    "import re\n",
    "\n",
    "trend_list = []\n",
    "flist = sorted(glob.glob('./SongsList/*.csv'))\n",
    "for file in flist:\n",
    "    songListDf = pd.read_csv(file)\n",
    "    genreList = []\n",
    "    for genre in songListDf.genre:\n",
    "        genreList = genreList + genre.replace(\" \",\"\").split(',')\n",
    "    \n",
    "\n",
    "    caluate = [genreList.count(type1) for type1 in [\"발라드\", \"댄스\", \"랩/힙합\", \"R&B/Soul\", \"록/메탈\", \"인디음악\", \"성인가요/트로트\", \"국내드라마\",\"국내영화\"]]\n",
    "    trend_list.append(caluate)\n",
    "\n",
    "print(trend_list)\n",
    "\n",
    "\n"
   ]
  }
 ],
 "metadata": {
  "kernelspec": {
   "display_name": "Python 3 (ipykernel)",
   "language": "python",
   "name": "python3"
  },
  "language_info": {
   "codemirror_mode": {
    "name": "ipython",
    "version": 3
   },
   "file_extension": ".py",
   "mimetype": "text/x-python",
   "name": "python",
   "nbconvert_exporter": "python",
   "pygments_lexer": "ipython3",
   "version": "3.9.10"
  }
 },
 "nbformat": 4,
 "nbformat_minor": 5
}

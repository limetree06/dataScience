{
 "cells": [
  {
   "cell_type": "code",
   "execution_count": 71,
   "metadata": {},
   "outputs": [],
   "source": [
    "\n",
    "import pandas as pd\n",
    "import numpy as np\n",
    "import requests\n",
    "from bs4 import BeautifulSoup\n",
    "import json\n",
    "import plotly.express as px\n",
    "import selenium\n",
    "from selenium import webdriver\n",
    "from selenium.webdriver.common.keys import Keys\n",
    "import time\n",
    "import re"
   ]
  },
  {
   "cell_type": "code",
   "execution_count": 80,
   "metadata": {},
   "outputs": [
    {
     "name": "stderr",
     "output_type": "stream",
     "text": [
      "/var/folders/7x/34xl2tz90bqdj51kzjdb7xwh0000gp/T/ipykernel_17320/3960883171.py:3: DeprecationWarning: executable_path has been deprecated, please pass in a Service object\n",
      "  driver = webdriver.Chrome(executable_path='./chromedriver',options=options)\n"
     ]
    }
   ],
   "source": [
    "options = webdriver.ChromeOptions()\n",
    "options.add_argument(\"user-agent=Mozilla/5.0 (Macintosh; Intel Mac OS X 10_15_7) AppleWebKit/537.36 (KHTML, like Gecko) Chrome/103.0.0.0 Safari/537.36\")\n",
    "driver = webdriver.Chrome(executable_path='./chromedriver',options=options)\n",
    "driver.maximize_window()\n",
    "\n",
    "url = 'https://brunch.co.kr/search'\n",
    "driver.get(url)\n",
    "driver.find_element('id','txt_search').send_keys('행복')\n",
    "driver.find_element('id','txt_search').send_keys(Keys.ENTER)\n",
    "\n",
    "last_height = driver.execute_script(\"return document.body.scrollHeight\") # 스크롤 높이 가져옴\n",
    "\n",
    "count = 0\n",
    "while count < 300:\n",
    "    driver.execute_script(\"window.scrollTo(0, document.body.scrollHeight);\")\n",
    "    time.sleep(1)\n",
    "\n",
    "    new_height = driver.execute_script(\"return document.body.scrollHeight\") # 스크롤 다운 후 스크롤 높이 다시 가져옴\n",
    "    if new_height == last_height:\n",
    "        break\n",
    "    last_height = new_height\n",
    "    count+=1\n"
   ]
  },
  {
   "cell_type": "code",
   "execution_count": 81,
   "metadata": {},
   "outputs": [],
   "source": [
    "def deleteBlank(text) -> str:\n",
    "    text = text.replace('\\n','')\n",
    "    return re.sub(' +', ' ', text)"
   ]
  },
  {
   "cell_type": "code",
   "execution_count": 82,
   "metadata": {},
   "outputs": [],
   "source": [
    "html = driver.page_source\n",
    "soup = BeautifulSoup(html, 'html.parser')\n",
    "mydivs = soup.find_all(\"div\", {\"class\": \"post_title\"})\n",
    "\n",
    "dataframelist = []\n",
    "for div in mydivs:\n",
    "    title = div.find(\"strong\", {\"class\": \"tit_subject\"}).get_text()\n",
    "    content = div.find(\"span\", {\"class\": \"article_content\"}).get_text()\n",
    "    date = div.find(\"span\", {\"class\": \"publish_time\"}).get_text()\n",
    "    \n",
    "    title = deleteBlank(title)\n",
    "    content = deleteBlank(content)\n",
    "    \n",
    "    dataframelist.append([title, content, date])\n",
    "\n",
    "columns = [\"제목\", \"내용\", \"날짜\"]\n",
    "df = pd.DataFrame(dataframelist, columns = columns)\n",
    "with pd.ExcelWriter('brunchResult.xlsx', engine='openpyxl') as writer:\n",
    "    df.to_excel(writer)"
   ]
  },
  {
   "cell_type": "code",
   "execution_count": null,
   "metadata": {},
   "outputs": [],
   "source": []
  }
 ],
 "metadata": {
  "kernelspec": {
   "display_name": "Python 3.9.10 64-bit",
   "language": "python",
   "name": "python3"
  },
  "language_info": {
   "codemirror_mode": {
    "name": "ipython",
    "version": 3
   },
   "file_extension": ".py",
   "mimetype": "text/x-python",
   "name": "python",
   "nbconvert_exporter": "python",
   "pygments_lexer": "ipython3",
   "version": "3.9.10"
  },
  "orig_nbformat": 4,
  "vscode": {
   "interpreter": {
    "hash": "aee8b7b246df8f9039afb4144a1f6fd8d2ca17a180786b69acc140d282b71a49"
   }
  }
 },
 "nbformat": 4,
 "nbformat_minor": 2
}

{
 "cells": [
  {
   "cell_type": "code",
   "execution_count": 77,
   "metadata": {},
   "outputs": [],
   "source": [
    "\n",
    "import pandas as pd\n",
    "import numpy as np\n",
    "import requests\n",
    "from bs4 import BeautifulSoup\n",
    "import json\n",
    "import plotly.express as px\n",
    "import selenium\n",
    "from selenium import webdriver"
   ]
  },
  {
   "cell_type": "code",
   "execution_count": 34,
   "metadata": {},
   "outputs": [
    {
     "name": "stdout",
     "output_type": "stream",
     "text": [
      "b'{\"response\":{\"header\":{\"resultCode\": \"30\",\"resultMsg\":\"SERVICE KEY IS NOT REGISTERED ERROR.\"}}}'\n",
      "{'response': {'header': {'resultCode': '30', 'resultMsg': 'SERVICE KEY IS NOT REGISTERED ERROR.'}}}\n"
     ]
    }
   ],
   "source": [
    "headers = {'user-agent': 'Mozilla/5.0 (Macintosh; Intel Mac OS X 10_15_7) AppleWebKit/537.36 (KHTML, like Gecko) Chrome/103.0.0.0 Safari/537.36'}\n",
    "URL = 'http://api.data.go.kr/openapi/tn_pubr_public_lbrry_api'\n",
    "params = {\n",
    "        'serviceKey' : 'XVPCWpgbRVMfXyZnKF4KuBSqsMNqQxxHKk1KbeTnP+/z2kesQuLJjzZduT7jMG/Vyu/ZXUfcb4aMstVSY6nVmg==',\n",
    "        'type':'json'\n",
    "          }\n",
    "res = requests.get(URL, params=params)\n",
    "print(res.content)\n",
    "data = json.loads(res.text)\n",
    "print(data)"
   ]
  },
  {
   "cell_type": "code",
   "execution_count": 91,
   "metadata": {},
   "outputs": [
    {
     "name": "stderr",
     "output_type": "stream",
     "text": [
      "/var/folders/7x/34xl2tz90bqdj51kzjdb7xwh0000gp/T/ipykernel_10454/1033295947.py:5: DeprecationWarning: executable_path has been deprecated, please pass in a Service object\n",
      "  driver = webdriver.Chrome(executable_path='./chromedriver',options=options)\n"
     ]
    },
    {
     "name": "stdout",
     "output_type": "stream",
     "text": [
      "[<tr class=\"bottom-line\"><th scope=\"col\">기업명</th><th scope=\"col\">기업설명</th><th scope=\"col\">고용인원</th><th scope=\"col\">누적투자</th><th scope=\"col\">매출</th></tr>, <tr><td class=\"company-td\"><a class=\"\" href=\"/company?idx=CP00002236\"><div class=\"thumbnail\"><div class=\"frame\"><img alt=\"undefined logo\" src=\"https://s3.ap-northeast-2.amazonaws.com/inno.bucket.live/corp/logo/data_20210128170718.png\" style=\"opacity: 1;\"/></div></div><div class=\"detail\"><h4 class=\"title\"><strong class=\"company\">어크로스비</strong></h4></div></a></td><td class=\"\">클라우드 및 머신러닝 기반 크로스보더 이커머스 공급망/물류 플랫폼을 개발하는 기업</td><td class=\"align-center\">21</td><td class=\"align-center\">34억원</td><td class=\"align-center\">49.7억원</td></tr>, <tr><td class=\"company-td\"><a class=\"\" href=\"/company?idx=CP00011430\"><div class=\"thumbnail\"><div class=\"frame\"><img alt=\"undefined logo\" src=\"https://s3.ap-northeast-2.amazonaws.com/inno.bucket.live/corp/logo/CP00011430_20220616144502.png\" style=\"opacity: 1;\"/></div></div><div class=\"detail\"><h4 class=\"title\"><strong class=\"company\">플로틱</strong></h4></div></a></td><td class=\"\">로봇 기반 물류창고 오더피킹 자동화 솔루션을 개발하는 기업</td><td class=\"align-center\">16</td><td class=\"align-center\">39억원</td><td class=\"align-center\">-</td></tr>, <tr><td class=\"company-td\"><a class=\"\" href=\"/company?idx=CP00002345\"><div class=\"thumbnail\"><div class=\"frame\"><img alt=\"undefined logo\" src=\"https://s3.ap-northeast-2.amazonaws.com/inno.bucket.live/corp/logo/data_20210201142159.png\" style=\"opacity: 1;\"/></div></div><div class=\"detail\"><h4 class=\"title\"><strong class=\"company\">키친엑스</strong></h4></div></a></td><td class=\"\">배달형 공유주방 플랫폼 '키친엑스'를 운영하는 기업</td><td class=\"align-center\">31</td><td class=\"align-center\">46억원</td><td class=\"align-center\">22.6억원</td></tr>, <tr><td class=\"company-td\"><a class=\"\" href=\"/company?idx=CP00002689\"><div class=\"thumbnail\"><div class=\"frame\"><img alt=\"undefined logo\" src=\"https://s3.ap-northeast-2.amazonaws.com/inno.bucket.live/corp/logo/data_20210222171151.png\" style=\"opacity: 1;\"/></div></div><div class=\"detail\"><h4 class=\"title\"><strong class=\"company\">비브리지</strong></h4></div></a></td><td class=\"\">AI 기반 동영상 강의용 필기 소프트웨어 '슬리드'를 제공하는 기업</td><td class=\"align-center\">9</td><td class=\"align-center\">55.4억원</td><td class=\"align-center\">-</td></tr>, <tr><td class=\"company-td\"><a class=\"\" href=\"/company?idx=CP00010379\"><div class=\"thumbnail\"><div class=\"frame\"><img alt=\"undefined logo\" src=\"https://s3.ap-northeast-2.amazonaws.com/inno.bucket.live/corp/logo/CP00010379_20220103163354.png\" style=\"opacity: 1;\"/></div></div><div class=\"detail\"><h4 class=\"title\"><strong class=\"company\">피치그로브</strong></h4></div></a></td><td class=\"\">구독서비스 공유 및 파티원 매칭 플랫폼 '링키드'를 운영하는 기업</td><td class=\"align-center\">8</td><td class=\"align-center\">10억원</td><td class=\"align-center\">-</td></tr>, <tr><td class=\"company-td\"><a class=\"\" href=\"/company?idx=CP00001792\"><div class=\"thumbnail\"><div class=\"frame\"><img alt=\"undefined logo\" src=\"https://s3.ap-northeast-2.amazonaws.com/inno.bucket.live/corp/logo/C001796.png\" style=\"opacity: 1;\"/></div></div><div class=\"detail\"><h4 class=\"title\"><strong class=\"company\">투믹스</strong></h4></div></a></td><td class=\"\">웹툰 플랫폼 '투믹스'를 운영하는 기업</td><td class=\"align-center\">116</td><td class=\"align-center\">2,150억원</td><td class=\"align-center\">247.2억원</td></tr>, <tr><td class=\"company-td\"><a class=\"\" href=\"/company?idx=CP00000060\"><div class=\"thumbnail\"><div class=\"frame\"><img alt=\"undefined logo\" src=\"https://s3.ap-northeast-2.amazonaws.com/inno.bucket.live/corp/logo/C000013.png\" style=\"opacity: 1;\"/></div></div><div class=\"detail\"><h4 class=\"title\"><strong class=\"company\">블랭크코퍼레이션</strong></h4></div></a></td><td class=\"\">콘텐츠 마케팅 기반 라이프스타일 브랜드를 판매하는  미디어 커머스 기업</td><td class=\"align-center\">151</td><td class=\"align-center\">315억원</td><td class=\"align-center\">1,210.7억원</td></tr>, <tr><td class=\"company-td\"><a class=\"\" href=\"/company?idx=CP00010171\"><div class=\"thumbnail\"><div class=\"frame\"><img alt=\"undefined logo\" src=\"https://s3.ap-northeast-2.amazonaws.com/inno.bucket.live/corp/logo/CP00010171_20211117141847.png\" style=\"opacity: 1;\"/></div></div><div class=\"detail\"><h4 class=\"title\"><strong class=\"company\">넷스파</strong></h4></div></a></td><td class=\"\">해양폐기물 활용 기술을 개발하는 기업</td><td class=\"align-center\">12</td><td class=\"align-center\">45억원</td><td class=\"align-center\">81만원</td></tr>, <tr><td class=\"company-td\"><a class=\"\" href=\"/company?idx=CP00011072\"><div class=\"thumbnail\"><div class=\"frame\"><img alt=\"undefined logo\" src=\"https://s3.ap-northeast-2.amazonaws.com/inno.bucket.live/corp/logo/CP00011072_20220504165152.jpg\" style=\"opacity: 1;\"/></div></div><div class=\"detail\"><h4 class=\"title\"><strong class=\"company\">에이젠글로벌</strong></h4></div></a></td><td class=\"\">데이터분석 기반 AI 금융 솔루션을 개발하는 기업</td><td class=\"align-center\">27</td><td class=\"align-center\">153.7억원</td><td class=\"align-center\">33.9억원</td></tr>, <tr><td class=\"company-td\"><a class=\"\" href=\"/company?idx=CP00011336\"><div class=\"thumbnail\"><div class=\"frame\"><img alt=\"undefined logo\" src=\"https://s3.ap-northeast-2.amazonaws.com/inno.bucket.live/corp/logo/CP00011336_20220610114831.png\" style=\"opacity: 1;\"/></div></div><div class=\"detail\"><h4 class=\"title\"><strong class=\"company\">로쉬코리아</strong></h4></div></a></td><td class=\"\">시니어 대상 교육,문화 컨텐츠 및 컨시어지 서비스 등을 제공하는 기업</td><td class=\"align-center\">9</td><td class=\"align-center\">2억원</td><td class=\"align-center\">3,000원</td></tr>, <tr><td class=\"company-td\"><a class=\"\" href=\"/company?idx=CP00000277\"><div class=\"thumbnail\"><div class=\"frame\"><img alt=\"undefined logo\" src=\"https://s3.ap-northeast-2.amazonaws.com/inno.bucket.live/corp/logo/C000224.png\" style=\"opacity: 1;\"/></div></div><div class=\"detail\"><h4 class=\"title\"><strong class=\"company\">글로우서울</strong></h4></div></a></td><td class=\"\">공간 기획,제작 및 리테일 브랜드 IP개발 사업을 운영하는 기업</td><td class=\"align-center\">54</td><td class=\"align-center\">190억원</td><td class=\"align-center\">141.7억원</td></tr>, <tr><td class=\"company-td\"><a class=\"\" href=\"/company?idx=CP00010453\"><div class=\"thumbnail\"><div class=\"frame\"><img alt=\"undefined logo\" src=\"https://s3.ap-northeast-2.amazonaws.com/inno.bucket.live/corp/logo/CP00010453_20220110174136.png\" style=\"opacity: 1;\"/></div></div><div class=\"detail\"><h4 class=\"title\"><strong class=\"company\">리코어</strong></h4></div></a></td><td class=\"\">AI, 빅데이터 기반 물류 서비스 플랫폼 '리웨어'를 운영하는 기업</td><td class=\"align-center\">20</td><td class=\"align-center\">35억원</td><td class=\"align-center\">-</td></tr>, <tr><td class=\"company-td\"><a class=\"\" href=\"/company?idx=CP00001712\"><div class=\"thumbnail\"><div class=\"frame\"><img alt=\"undefined logo\" src=\"https://s3.ap-northeast-2.amazonaws.com/inno.bucket.live/corp/logo/C001713.png\" style=\"opacity: 1;\"/></div></div><div class=\"detail\"><h4 class=\"title\"><strong class=\"company\">야나두</strong></h4></div></a></td><td class=\"\">카테고리별 자기계발 강의 플랫폼 '야나두'를 운영하는 기업</td><td class=\"align-center\">169</td><td class=\"align-center\">928억원</td><td class=\"align-center\">463.1억원</td></tr>, <tr><td class=\"company-td\"><a class=\"\" href=\"/company?idx=CP00000493\"><div class=\"thumbnail\"><div class=\"frame\"><img alt=\"undefined logo\" src=\"https://s3.ap-northeast-2.amazonaws.com/inno.bucket.live/corp/logo/C000524.png\" style=\"opacity: 1;\"/></div></div><div class=\"detail\"><h4 class=\"title\"><strong class=\"company\">마인딩</strong></h4></div></a></td><td class=\"\">온라인 마음 관리 서비스 플랫폼 '마인딩'을 운영하는 기업</td><td class=\"align-center\">10</td><td class=\"align-center\">9억원</td><td class=\"align-center\">-</td></tr>, <tr><td class=\"company-td\"><a class=\"\" href=\"/company?idx=CP00001954\"><div class=\"thumbnail\"><div class=\"frame\"><img alt=\"undefined logo\" src=\"https://s3.ap-northeast-2.amazonaws.com/inno.bucket.live/corp/logo/C001958.png\" style=\"opacity: 1;\"/></div></div><div class=\"detail\"><h4 class=\"title\"><strong class=\"company\">아이브이웍스</strong></h4></div></a></td><td class=\"\">AI/웨피웨이퍼 생산장비 기술 기반 GaN 트랜지스터의 핵심소재를 제조하는 기업</td><td class=\"align-center\">41</td><td class=\"align-center\">414억원</td><td class=\"align-center\">2.2억원</td></tr>]\n"
     ]
    }
   ],
   "source": [
    "options = webdriver.ChromeOptions()\n",
    "options.add_argument('--no-sandbox')\n",
    "options.add_argument('--disable-dev-shm-usage')\n",
    "options.add_argument(\"user-agent=Mozilla/5.0 (Macintosh; Intel Mac OS X 10_15_7) AppleWebKit/537.36 (KHTML, like Gecko) Chrome/103.0.0.0 Safari/537.36\")\n",
    "driver = webdriver.Chrome(executable_path='./chromedriver',options=options)\n",
    "\n",
    "url = 'https://www.innoforest.co.kr/dataroom?page=1&limit=15' # ~300\n",
    "driver.get(url)\n",
    "driver.find_element('id', 'startupListBody')\n",
    "\n",
    "html = driver.page_source\n",
    "soup = BeautifulSoup(html, 'html.parser')\n",
    "\n",
    "dataframe = []\n",
    "data_list = soup.find_all('tr')\n",
    "for company in data_list:\n",
    "    row_data = [data .get_text() for data in company.find_all('td')]\n",
    "    \n",
    "    if len(row_data) != 0:\n",
    "        dataframe.append(row_data)\n"
   ]
  },
  {
   "cell_type": "code",
   "execution_count": 102,
   "metadata": {},
   "outputs": [
    {
     "name": "stdout",
     "output_type": "stream",
     "text": [
      "[['어크로스비', '클라우드 및 머신러닝 기반 크로스보더 이커머스 공급망/물류 플랫폼을 개발하는 기업', '21', '34억원', '49.7억원'], ['플로틱', '로봇 기반 물류창고 오더피킹 자동화 솔루션을 개발하는 기업', '16', '39억원', '-'], ['키친엑스', \"배달형 공유주방 플랫폼 '키친엑스'를 운영하는 기업\", '31', '46억원', '22.6억원'], ['비브리지', \"AI 기반 동영상 강의용 필기 소프트웨어 '슬리드'를 제공하는 기업\", '9', '55.4억원', '-'], ['피치그로브', \"구독서비스 공유 및 파티원 매칭 플랫폼 '링키드'를 운영하는 기업\", '8', '10억원', '-'], ['투믹스', \"웹툰 플랫폼 '투믹스'를 운영하는 기업\", '116', '2,150억원', '247.2억원'], ['블랭크코퍼레이션', '콘텐츠 마케팅 기반 라이프스타일 브랜드를 판매하는  미디어 커머스 기업', '151', '315억원', '1,210.7억원'], ['넷스파', '해양폐기물 활용 기술을 개발하는 기업', '12', '45억원', '81만원'], ['에이젠글로벌', '데이터분석 기반 AI 금융 솔루션을 개발하는 기업', '27', '153.7억원', '33.9억원'], ['로쉬코리아', '시니어 대상 교육,문화 컨텐츠 및 컨시어지 서비스 등을 제공하는 기업', '9', '2억원', '3,000원'], ['글로우서울', '공간 기획,제작 및 리테일 브랜드 IP개발 사업을 운영하는 기업', '54', '190억원', '141.7억원'], ['리코어', \"AI, 빅데이터 기반 물류 서비스 플랫폼 '리웨어'를 운영하는 기업\", '20', '35억원', '-'], ['야나두', \"카테고리별 자기계발 강의 플랫폼 '야나두'를 운영하는 기업\", '169', '928억원', '463.1억원'], ['마인딩', \"온라인 마음 관리 서비스 플랫폼 '마인딩'을 운영하는 기업\", '10', '9억원', '-'], ['아이브이웍스', 'AI/웨피웨이퍼 생산장비 기술 기반 GaN 트랜지스터의 핵심소재를 제조하는 기업', '41', '414억원', '2.2억원']]\n"
     ]
    }
   ],
   "source": []
  },
  {
   "cell_type": "code",
   "execution_count": null,
   "metadata": {},
   "outputs": [],
   "source": []
  }
 ],
 "metadata": {
  "kernelspec": {
   "display_name": "Python 3.9.10 64-bit",
   "language": "python",
   "name": "python3"
  },
  "language_info": {
   "codemirror_mode": {
    "name": "ipython",
    "version": 3
   },
   "file_extension": ".py",
   "mimetype": "text/x-python",
   "name": "python",
   "nbconvert_exporter": "python",
   "pygments_lexer": "ipython3",
   "version": "3.9.10"
  },
  "orig_nbformat": 4,
  "vscode": {
   "interpreter": {
    "hash": "aee8b7b246df8f9039afb4144a1f6fd8d2ca17a180786b69acc140d282b71a49"
   }
  }
 },
 "nbformat": 4,
 "nbformat_minor": 2
}
